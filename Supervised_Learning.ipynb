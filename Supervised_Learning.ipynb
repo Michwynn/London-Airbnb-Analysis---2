{
  "nbformat": 4,
  "nbformat_minor": 0,
  "metadata": {
    "colab": {
      "provenance": [],
      "collapsed_sections": [],
      "include_colab_link": true
    },
    "kernelspec": {
      "name": "python3",
      "display_name": "Python 3"
    },
    "language_info": {
      "name": "python"
    }
  },
  "cells": [
    {
      "cell_type": "markdown",
      "metadata": {
        "id": "view-in-github",
        "colab_type": "text"
      },
      "source": [
        "<a href=\"https://colab.research.google.com/github/Michwynn/London-Airbnb-Analysis---2/blob/Michael/Supervised_Learning.ipynb\" target=\"_parent\"><img src=\"https://colab.research.google.com/assets/colab-badge.svg\" alt=\"Open In Colab\"/></a>"
      ]
    },
    {
      "cell_type": "code",
      "execution_count": 117,
      "metadata": {
        "colab": {
          "base_uri": "https://localhost:8080/"
        },
        "id": "2LY4E4lffiRj",
        "outputId": "86efe686-3638-4806-b0e3-ca97dcc6add2"
      },
      "outputs": [
        {
          "output_type": "stream",
          "name": "stdout",
          "text": [
            "Drive already mounted at /content/drive; to attempt to forcibly remount, call drive.mount(\"/content/drive\", force_remount=True).\n",
            "/content/drive/.shortcut-targets-by-id/1wUOfFY-ki2nFzneeaTtXLEeMjaSdKrrj/Airbnb_Milestone2\n"
          ]
        },
        {
          "output_type": "stream",
          "name": "stderr",
          "text": [
            "[nltk_data] Downloading package stopwords to /root/nltk_data...\n",
            "[nltk_data]   Package stopwords is already up-to-date!\n"
          ]
        },
        {
          "output_type": "stream",
          "name": "stdout",
          "text": [
            "Looking in indexes: https://pypi.org/simple, https://us-python.pkg.dev/colab-wheels/public/simple/\n",
            "Requirement already satisfied: yellowbrick in /usr/local/lib/python3.7/dist-packages (1.5)\n",
            "Requirement already satisfied: scikit-learn>=1.0.0 in /usr/local/lib/python3.7/dist-packages (from yellowbrick) (1.0.2)\n",
            "Requirement already satisfied: numpy>=1.16.0 in /usr/local/lib/python3.7/dist-packages (from yellowbrick) (1.21.6)\n",
            "Requirement already satisfied: scipy>=1.0.0 in /usr/local/lib/python3.7/dist-packages (from yellowbrick) (1.7.3)\n",
            "Requirement already satisfied: matplotlib!=3.0.0,>=2.0.2 in /usr/local/lib/python3.7/dist-packages (from yellowbrick) (3.2.2)\n",
            "Requirement already satisfied: cycler>=0.10.0 in /usr/local/lib/python3.7/dist-packages (from yellowbrick) (0.11.0)\n",
            "Requirement already satisfied: pyparsing!=2.0.4,!=2.1.2,!=2.1.6,>=2.0.1 in /usr/local/lib/python3.7/dist-packages (from matplotlib!=3.0.0,>=2.0.2->yellowbrick) (3.0.9)\n",
            "Requirement already satisfied: python-dateutil>=2.1 in /usr/local/lib/python3.7/dist-packages (from matplotlib!=3.0.0,>=2.0.2->yellowbrick) (2.8.2)\n",
            "Requirement already satisfied: kiwisolver>=1.0.1 in /usr/local/lib/python3.7/dist-packages (from matplotlib!=3.0.0,>=2.0.2->yellowbrick) (1.4.4)\n",
            "Requirement already satisfied: typing-extensions in /usr/local/lib/python3.7/dist-packages (from kiwisolver>=1.0.1->matplotlib!=3.0.0,>=2.0.2->yellowbrick) (4.1.1)\n",
            "Requirement already satisfied: six>=1.5 in /usr/local/lib/python3.7/dist-packages (from python-dateutil>=2.1->matplotlib!=3.0.0,>=2.0.2->yellowbrick) (1.15.0)\n",
            "Requirement already satisfied: joblib>=0.11 in /usr/local/lib/python3.7/dist-packages (from scikit-learn>=1.0.0->yellowbrick) (1.2.0)\n",
            "Requirement already satisfied: threadpoolctl>=2.0.0 in /usr/local/lib/python3.7/dist-packages (from scikit-learn>=1.0.0->yellowbrick) (3.1.0)\n"
          ]
        }
      ],
      "source": [
        "# set up working directory\n",
        "import os\n",
        "from google.colab import drive\n",
        "drive.mount('/content/drive')\n",
        "%cd /content/drive/My Drive/Airbnb_Milestone2\n",
        "\n",
        "# data manipulation\n",
        "import pandas as pd\n",
        "import numpy as np \n",
        "from tqdm import tqdm\n",
        "\n",
        "# nltk\n",
        "import nltk\n",
        "from nltk.corpus import stopwords\n",
        "nltk.download('stopwords') # comment out if already downloaded\n",
        "stop_words = set(stopwords.words('english'))\n",
        "\n",
        "# machine learning\n",
        "from sklearn.feature_extraction.text import TfidfVectorizer\n",
        "from sklearn import svm, tree\n",
        "from sklearn.naive_bayes import MultinomialNB\n",
        "from sklearn.linear_model import LogisticRegression\n",
        "from sklearn.ensemble import RandomForestClassifier, GradientBoostingClassifier, AdaBoostClassifier, ExtraTreesClassifier\n",
        "from sklearn.neighbors import KNeighborsClassifier\n",
        "\n",
        "# cross validation\n",
        "from sklearn.model_selection import KFold\n",
        "from sklearn.model_selection import cross_val_score\n",
        "\n",
        "from sklearn import metrics\n",
        "from sklearn.metrics import f1_score, accuracy_score, precision_score, recall_score, roc_curve, roc_auc_score, fbeta_score, jaccard_score, log_loss, classification_report\n",
        "from sklearn.model_selection import train_test_split, GridSearchCV, cross_val_score, cross_val_predict\n",
        "from sklearn.pipeline import make_pipeline\n",
        "\n",
        "from sklearn.model_selection import RandomizedSearchCV\n",
        "\n",
        "# Plot ROC AUC Curve & Visualisation\n",
        "!pip install yellowbrick\n",
        "from yellowbrick.classifier import ROCAUC, ConfusionMatrix, PrecisionRecallCurve\n",
        "\n",
        "import matplotlib.pyplot as plt\n",
        "from matplotlib.ticker import NullFormatter\n",
        "import matplotlib.ticker as ticker\n",
        "%matplotlib inline\n",
        "\n",
        "\n",
        "\n",
        "# supress warnings\n",
        "import warnings \n",
        "warnings.filterwarnings('ignore')\n",
        "\n",
        "# Display all columns\n",
        "pd.set_option('display.max_columns', None)"
      ]
    },
    {
      "cell_type": "markdown",
      "source": [
        "**Configuration**"
      ],
      "metadata": {
        "id": "e7CZlXeJjSwN"
      }
    },
    {
      "cell_type": "code",
      "source": [
        "%%time\n",
        "\n",
        "RANDOM_SEED = 42\n",
        "fractions = np.array([0.8, 0.1, 0.1])\n",
        "cleaned_df = pd.read_csv('Datasets/cleaned_df.csv', lineterminator = '\\n') # reading the datasest\n",
        "\n",
        "# Data pre-processing using conventional method (ok accuracy / fast speed)\n",
        "def clean_text(comments):\n",
        "  punc = \"\"\"!()-![]{};:,+'\"\\,<>./?@#$%^&*_~Â\"\"\"\n",
        "  punc_removed = [char for char in comments if char not in punc]\n",
        "  punc_join = ''.join(punc_removed)\n",
        "  cleaned = []\n",
        "  splitted = punc_join.split()\n",
        "  for x in splitted:\n",
        "    if x.isalpha() and x not in stop_words:\n",
        "      cleaned.append(x.lower())\n",
        "  result = ' '.join(cleaned)\n",
        "  return result\n",
        "\n",
        "cleaned_df['cleaned_comments'] = cleaned_df['comments'].apply(clean_text)\n",
        "\n",
        "# TfidfVectorizer:\n",
        "min_df = 25\n",
        "\n",
        "# Logistic Regression:\n",
        "solver = 'lbfgs'\n",
        "multi_class = 'auto'\n",
        "\n",
        "# RF & Adaboost:\n",
        "n_estimators = 10\n",
        "max_depth = 3\n",
        "\n",
        "# K Nearest Neighbour:\n",
        "k = 3"
      ],
      "metadata": {
        "id": "JezYGQdvgty1",
        "colab": {
          "base_uri": "https://localhost:8080/"
        },
        "outputId": "cfcdd096-e8b5-4b81-8b34-7767ad33486a"
      },
      "execution_count": 118,
      "outputs": [
        {
          "output_type": "stream",
          "name": "stdout",
          "text": [
            "CPU times: user 57.8 s, sys: 2.74 s, total: 1min\n",
            "Wall time: 1min 24s\n"
          ]
        }
      ]
    },
    {
      "cell_type": "markdown",
      "source": [
        "**Downsampling method for imbalance dataset**"
      ],
      "metadata": {
        "id": "_TERqxOHyOv2"
      }
    },
    {
      "cell_type": "code",
      "source": [
        "cleaned_df['sentiment'].value_counts()"
      ],
      "metadata": {
        "colab": {
          "base_uri": "https://localhost:8080/"
        },
        "id": "A6iq0u6FydWh",
        "outputId": "2994d688-d4c2-4827-dea7-69cfbf4cd325"
      },
      "execution_count": 119,
      "outputs": [
        {
          "output_type": "execute_result",
          "data": {
            "text/plain": [
              "Positive    1045528\n",
              "Neutral       25786\n",
              "Negative      16185\n",
              "Name: sentiment, dtype: int64"
            ]
          },
          "metadata": {},
          "execution_count": 119
        }
      ]
    },
    {
      "cell_type": "code",
      "source": [
        "cleaned_df['sentiment'].value_counts().plot(kind = 'bar', color = '#FF5A5F', title = 'Sentiment Count (target)')\n",
        "plt.xticks(rotation=0)"
      ],
      "metadata": {
        "colab": {
          "base_uri": "https://localhost:8080/",
          "height": 297
        },
        "id": "lT0pcLlaPjnZ",
        "outputId": "b4d75f32-b602-4bf9-ee64-1833cc0987ce"
      },
      "execution_count": 120,
      "outputs": [
        {
          "output_type": "execute_result",
          "data": {
            "text/plain": [
              "(array([0, 1, 2]), <a list of 3 Text major ticklabel objects>)"
            ]
          },
          "metadata": {},
          "execution_count": 120
        },
        {
          "output_type": "display_data",
          "data": {
            "text/plain": [
              "<Figure size 432x288 with 1 Axes>"
            ],
            "image/png": "[encoded data removed]"
          },
          "metadata": {
            "needs_background": "light"
          }
        }
      ]
    },
    {
      "cell_type": "code",
      "source": [
        "# class count\n",
        "class_count_positive, class_count_neutral, class_count_negative = cleaned_df['sentiment'].value_counts()\n",
        "\n",
        "\n",
        "# Separate sentiment into each df\n",
        "class_positive = cleaned_df[cleaned_df['sentiment'] == \"Positive\"]\n",
        "class_neutral = cleaned_df[cleaned_df['sentiment'] == \"Neutral\"]\n",
        "class_negative = cleaned_df[cleaned_df['sentiment'] == \"Negative\"]\n",
        "\n",
        "print('class_positive:', class_positive.shape)\n",
        "print('class_neutral:', class_neutral.shape)\n",
        "print('class_negative:', class_negative.shape)\n",
        "print(\"Random Under Sampling leads to.........\")\n",
        "      \n",
        "# As negative sentiment is the lowest case count, we will do random undersampling for both positive and neutral sentiments to get an equally distributed and balanced dataset\n",
        "class_positive_under = class_positive.sample(class_count_negative, random_state = RANDOM_SEED)\n",
        "class_neutral_under = class_neutral.sample(class_count_negative, random_state = RANDOM_SEED)\n",
        "\n",
        "# Combine all dataframes\n",
        "cleaned_df_undersampling = pd.concat([class_positive_under, class_neutral_under, class_negative], axis = 0)\n",
        "cleaned_df_undersampling['sentiment'].value_counts().plot(kind = 'bar', color = '#FF5A5F', title ='Sentiment Count (target)')\n",
        "plt.xticks(rotation=0)"
      ],
      "metadata": {
        "colab": {
          "base_uri": "https://localhost:8080/",
          "height": 367
        },
        "id": "Leru5ihTyJzn",
        "outputId": "58107793-e7c5-4a30-b732-2eeed2a90afe"
      },
      "execution_count": 121,
      "outputs": [
        {
          "output_type": "stream",
          "name": "stdout",
          "text": [
            "class_positive: (1045528, 14)\n",
            "class_neutral: (25786, 14)\n",
            "class_negative: (16185, 14)\n",
            "Random Under Sampling leads to.........\n"
          ]
        },
        {
          "output_type": "execute_result",
          "data": {
            "text/plain": [
              "(array([0, 1, 2]), <a list of 3 Text major ticklabel objects>)"
            ]
          },
          "metadata": {},
          "execution_count": 121
        },
        {
          "output_type": "display_data",
          "data": {
            "text/plain": [
              "<Figure size 432x288 with 1 Axes>"
            ],
            "image/png": "[encoded data removed]"
          },
          "metadata": {
            "needs_background": "light"
          }
        }
      ]
    },
    {
      "cell_type": "code",
      "source": [
        "#cleaned_df_undersampling.to_csv('cleaned_df_undersampling.csv')"
      ],
      "metadata": {
        "id": "F4oxhmVApMfS"
      },
      "execution_count": 122,
      "outputs": []
    },
    {
      "cell_type": "markdown",
      "source": [
        "**Split datasets into train, validation and test sets**\n",
        "\n",
        "We have a large enough dataset that we can effectively split it into train, development, and test sets, using the standard ratio of 80%, 10%, 10% for each, respectively."
      ],
      "metadata": {
        "id": "vgMpmfkIgudy"
      }
    },
    {
      "cell_type": "code",
      "source": [
        "def get_train_val_test(df, fractions, RANDOM_SEED):\n",
        "\n",
        "  # Get the required input and target variables from dataframe and drop NA rows:\n",
        "  df = df[['cleaned_comments','sentiment']].dropna()\n",
        "  # shuffling the data:\n",
        "  df = df.sample(frac = 1, random_state = RANDOM_SEED)\n",
        "  # split into training, validation and testing sets\n",
        "  train_df, val_df, test_df = np.array_split(df, (fractions[:-1].cumsum() * len(df)).astype(int))\n",
        "\n",
        "  if len(train_df) + len(val_df) + len(test_df) != len(df):\n",
        "    print(\"Check the splitting method!\")\n",
        "  else:\n",
        "    return train_df, val_df, test_df"
      ],
      "metadata": {
        "id": "yyXyGUnqhBoy"
      },
      "execution_count": 123,
      "outputs": []
    },
    {
      "cell_type": "markdown",
      "source": [
        "**Splitting...**"
      ],
      "metadata": {
        "id": "1NR9tQySqTWp"
      }
    },
    {
      "cell_type": "code",
      "source": [
        "train_df, val_df, test_df = get_train_val_test(cleaned_df_undersampling, fractions, RANDOM_SEED)"
      ],
      "metadata": {
        "id": "HE64G9rzOOsL"
      },
      "execution_count": 124,
      "outputs": []
    },
    {
      "cell_type": "markdown",
      "source": [
        "**Convert text data to features - TF-IDF and get target input**"
      ],
      "metadata": {
        "id": "iHGUT6JCi7OK"
      }
    },
    {
      "cell_type": "code",
      "source": [
        "%%time\n",
        "vectorizer = TfidfVectorizer(stop_words = 'english', min_df = min_df, norm ='l2')\n",
        "X_train = vectorizer.fit_transform(train_df.cleaned_comments)\n",
        "y_train = list(train_df.sentiment)"
      ],
      "metadata": {
        "id": "GaSQwQ05i68g",
        "colab": {
          "base_uri": "https://localhost:8080/"
        },
        "outputId": "45b13aff-f471-448f-d79a-71b155967c80"
      },
      "execution_count": 125,
      "outputs": [
        {
          "output_type": "stream",
          "name": "stdout",
          "text": [
            "CPU times: user 3.13 s, sys: 185 ms, total: 3.31 s\n",
            "Wall time: 3.72 s\n"
          ]
        }
      ]
    },
    {
      "cell_type": "markdown",
      "source": [
        "**Fit the classifier on the data**"
      ],
      "metadata": {
        "id": "yGPwtTuCjocU"
      }
    },
    {
      "cell_type": "code",
      "source": [
        "%%time\n",
        "clf_log = LogisticRegression(multi_class = multi_class, random_state = RANDOM_SEED)\n",
        "clf_log.fit(X_train, y_train)"
      ],
      "metadata": {
        "colab": {
          "base_uri": "https://localhost:8080/"
        },
        "id": "Cjz5YJ8UjxAP",
        "outputId": "bbc6f966-b49d-4730-a0a1-0fcf049a50ce"
      },
      "execution_count": 126,
      "outputs": [
        {
          "output_type": "stream",
          "name": "stdout",
          "text": [
            "CPU times: user 2.91 s, sys: 32.9 ms, total: 2.95 s\n",
            "Wall time: 2.96 s\n"
          ]
        },
        {
          "output_type": "execute_result",
          "data": {
            "text/plain": [
              "LogisticRegression(random_state=42)"
            ]
          },
          "metadata": {},
          "execution_count": 126
        }
      ]
    },
    {
      "cell_type": "markdown",
      "source": [
        "**Generate validation data**"
      ],
      "metadata": {
        "id": "x8o1Lp5Qj2Bm"
      }
    },
    {
      "cell_type": "code",
      "source": [
        "%%time\n",
        "X_val = vectorizer.transform(val_df.cleaned_comments)\n",
        "y_val = list(val_df.sentiment)"
      ],
      "metadata": {
        "id": "ziMlWVYyj4BO",
        "colab": {
          "base_uri": "https://localhost:8080/"
        },
        "outputId": "ec92d890-0e16-40a1-a177-83cb793867ea"
      },
      "execution_count": 127,
      "outputs": [
        {
          "output_type": "stream",
          "name": "stdout",
          "text": [
            "CPU times: user 148 ms, sys: 1.97 ms, total: 150 ms\n",
            "Wall time: 152 ms\n"
          ]
        }
      ]
    },
    {
      "cell_type": "markdown",
      "source": [
        "**Generate logistic regression (baseline model) prediction**\n",
        "\n",
        "Logistic regression is a good model because it trains quickly even on large datasets and provides very robust results. Other good model choices include SVMs, Random Forests, and Naive Bayes."
      ],
      "metadata": {
        "id": "rkwGrss_j9O1"
      }
    },
    {
      "cell_type": "code",
      "source": [
        "%%time\n",
        "lr_pred = clf_log.predict(X_val)\n",
        "lr_f1 = f1_score(y_val, lr_pred, average = 'macro')\n",
        "print(\"F1 score for baseline regression:\", lr_f1)"
      ],
      "metadata": {
        "colab": {
          "base_uri": "https://localhost:8080/"
        },
        "id": "v9LPLD_ej_mr",
        "outputId": "54df3abb-a424-4393-827e-76cfe0c896b7"
      },
      "execution_count": 128,
      "outputs": [
        {
          "output_type": "stream",
          "name": "stdout",
          "text": [
            "F1 score for baseline regression: 0.9173549143464004\n",
            "CPU times: user 24.5 ms, sys: 0 ns, total: 24.5 ms\n",
            "Wall time: 30 ms\n"
          ]
        }
      ]
    },
    {
      "cell_type": "markdown",
      "source": [
        "**Comparing all classification models**"
      ],
      "metadata": {
        "id": "IyAIjvpMtV2N"
      }
    },
    {
      "cell_type": "code",
      "source": [
        "clf_log = LogisticRegression(multi_class = multi_class, random_state = RANDOM_SEED)\n",
        "clf_svm = svm.SVC(decision_function_shape = 'ovr', probability = True, random_state = RANDOM_SEED)\n",
        "clf_svm_ = svm.SVC(decision_function_shape = 'ovr', random_state = RANDOM_SEED) # without probability = True\n",
        "clf_nb = MultinomialNB()\n",
        "clf_dt = tree.DecisionTreeClassifier(random_state = RANDOM_SEED)\n",
        "clf_rf = RandomForestClassifier(random_state = RANDOM_SEED)\n",
        "clf_gbc = GradientBoostingClassifier(random_state = RANDOM_SEED)\n",
        "clf_boost = AdaBoostClassifier(random_state = RANDOM_SEED)\n",
        "clf_xtratree = ExtraTreesClassifier(random_state = RANDOM_SEED)\n",
        "clf_knn = KNeighborsClassifier(n_neighbors = 5) # default = 5\n",
        "\n",
        "model_names = [\"LogisticRegression (Base)\", \"SupportVectorMachine\", \"MultinomialNB\", \"DecisionTreeClassifier\", \n",
        "               \"RandomForestClassifier\", \"GradientBoostingClassifier\", \"AdaBoostClassifier\", \"ExtraTreesClassifier\", \"KNeighborsClassifier\"]\n",
        "\n",
        "model_list = [clf_log, clf_svm, clf_nb, clf_dt, clf_rf, clf_gbc, clf_boost, clf_xtratree, clf_knn]\n",
        "model_list_ = [clf_log, clf_svm_, clf_nb, clf_dt, clf_rf, clf_gbc, clf_boost, clf_xtratree, clf_knn]"
      ],
      "metadata": {
        "id": "-zL5UJEQSZ5K"
      },
      "execution_count": 129,
      "outputs": []
    },
    {
      "cell_type": "code",
      "source": [
        "accuracy = []\n",
        "precision = []\n",
        "recall = []\n",
        "f1score = []\n",
        "jaccard = []\n",
        "fbeta = []\n",
        "roc_auc = []\n",
        "logloss_ = []\n",
        "\n",
        "for model in tqdm(model_list):\n",
        "  model.fit(X_train, y_train)\n",
        "  model_predict = model.predict(X_val)\n",
        "  accuracy.append(accuracy_score(model_predict, y_val))\n",
        "  precision.append(precision_score(model_predict, y_val, average = 'macro'))\n",
        "  recall.append(recall_score(model_predict, y_val, average = 'macro'))\n",
        "  f1score.append(f1_score(model_predict, y_val, average = 'macro'))\n",
        "  jaccard.append(jaccard_score(model_predict, y_val, average = 'macro'))\n",
        "  fbeta.append(fbeta_score(model_predict, y_val, average = 'macro', beta = 0.5))\n",
        "  roc_auc.append(roc_auc_score(y_val, model.predict_proba(X_val), multi_class = 'ovr', average = 'macro'))\n",
        "  logloss_.append(log_loss(y_val, model.predict_proba(X_val)))"
      ],
      "metadata": {
        "id": "Gv_AVNT_tQU2",
        "colab": {
          "base_uri": "https://localhost:8080/"
        },
        "outputId": "ce786945-df6c-4997-fb7f-be33e38b2fc0"
      },
      "execution_count": 14,
      "outputs": [
        {
          "output_type": "stream",
          "name": "stderr",
          "text": [
            "100%|██████████| 9/9 [36:09<00:00, 241.06s/it]\n"
          ]
        }
      ]
    },
    {
      "cell_type": "code",
      "source": [
        "pd.DataFrame(list(zip(model_names, accuracy, precision, recall, f1score, jaccard, fbeta, roc_auc, logloss_)),\n",
        "               columns =['Classifier', 'Accuracy (Balanced)', 'Precision (Macro)', 'Recall (Macro)', 'F1 Score (Macro)', 'Jaccard Score (Macro)', 'F-beta Score (Macro)', 'AUC ROC Score', 'Log Loss'])"
      ],
      "metadata": {
        "id": "QOBd9MzAEi9j",
        "colab": {
          "base_uri": "https://localhost:8080/",
          "height": 332
        },
        "outputId": "7b925d7f-f415-4a7e-e818-331a486b735c"
      },
      "execution_count": 15,
      "outputs": [
        {
          "output_type": "execute_result",
          "data": {
            "text/plain": [
              "                   Classifier  Accuracy (Balanced)  Precision (Macro)  \\\n",
              "0   LogisticRegression (Base)             0.917405           0.917423   \n",
              "1        SupportVectorMachine             0.918023           0.918027   \n",
              "2               MultinomialNB             0.805973           0.804541   \n",
              "3      DecisionTreeClassifier             0.844902           0.845106   \n",
              "4      RandomForestClassifier             0.897425           0.897350   \n",
              "5  GradientBoostingClassifier             0.877240           0.877357   \n",
              "6          AdaBoostClassifier             0.845726           0.845793   \n",
              "7        ExtraTreesClassifier             0.904840           0.904783   \n",
              "8        KNeighborsClassifier             0.405973           0.409181   \n",
              "\n",
              "   Recall (Macro)  F1 Score (Macro)  Jaccard Score (Macro)  \\\n",
              "0        0.917317          0.917355               0.848002   \n",
              "1        0.918937          0.918316               0.849698   \n",
              "2        0.837003          0.800854               0.669427   \n",
              "3        0.844760          0.844843               0.735042   \n",
              "4        0.898024          0.897460               0.815336   \n",
              "5        0.876875          0.876360               0.781339   \n",
              "6        0.847777          0.842631               0.731398   \n",
              "7        0.905709          0.905083               0.827693   \n",
              "8        0.671700          0.311807               0.197708   \n",
              "\n",
              "   F-beta Score (Macro)  AUC ROC Score   Log Loss  \n",
              "0              0.917392       0.978716   0.275187  \n",
              "1              0.918102       0.978504   0.264870  \n",
              "2              0.799297       0.965882   0.464833  \n",
              "3              0.844980       0.872303   5.192471  \n",
              "4              0.897339       0.971416   0.356477  \n",
              "5              0.876778       0.965765   0.409064  \n",
              "6              0.843556       0.861810   1.019145  \n",
              "7              0.904864       0.972824   0.379646  \n",
              "8              0.339615       0.506460  16.701965  "
            ],
            "text/html": [
              "\n",
              "  <div id=\"df-cbe29430-96c8-4c43-82b0-60cab4a97415\">\n",
              "    <div class=\"colab-df-container\">\n",
              "      <div>\n",
              "<style scoped>\n",
              "    .dataframe tbody tr th:only-of-type {\n",
              "        vertical-align: middle;\n",
              "    }\n",
              "\n",
              "    .dataframe tbody tr th {\n",
              "        vertical-align: top;\n",
              "    }\n",
              "\n",
              "    .dataframe thead th {\n",
              "        text-align: right;\n",
              "    }\n",
              "</style>\n",
              "<table border=\"1\" class=\"dataframe\">\n",
              "  <thead>\n",
              "    <tr style=\"text-align: right;\">\n",
              "      <th></th>\n",
              "      <th>Classifier</th>\n",
              "      <th>Accuracy (Balanced)</th>\n",
              "      <th>Precision (Macro)</th>\n",
              "      <th>Recall (Macro)</th>\n",
              "      <th>F1 Score (Macro)</th>\n",
              "      <th>Jaccard Score (Macro)</th>\n",
              "      <th>F-beta Score (Macro)</th>\n",
              "      <th>AUC ROC Score</th>\n",
              "      <th>Log Loss</th>\n",
              "    </tr>\n",
              "  </thead>\n",
              "  <tbody>\n",
              "    <tr>\n",
              "      <th>0</th>\n",
              "      <td>LogisticRegression (Base)</td>\n",
              "      <td>0.917405</td>\n",
              "      <td>0.917423</td>\n",
              "      <td>0.917317</td>\n",
              "      <td>0.917355</td>\n",
              "      <td>0.848002</td>\n",
              "      <td>0.917392</td>\n",
              "      <td>0.978716</td>\n",
              "      <td>0.275187</td>\n",
              "    </tr>\n",
              "    <tr>\n",
              "      <th>1</th>\n",
              "      <td>SupportVectorMachine</td>\n",
              "      <td>0.918023</td>\n",
              "      <td>0.918027</td>\n",
              "      <td>0.918937</td>\n",
              "      <td>0.918316</td>\n",
              "      <td>0.849698</td>\n",
              "      <td>0.918102</td>\n",
              "      <td>0.978504</td>\n",
              "      <td>0.264870</td>\n",
              "    </tr>\n",
              "    <tr>\n",
              "      <th>2</th>\n",
              "      <td>MultinomialNB</td>\n",
              "      <td>0.805973</td>\n",
              "      <td>0.804541</td>\n",
              "      <td>0.837003</td>\n",
              "      <td>0.800854</td>\n",
              "      <td>0.669427</td>\n",
              "      <td>0.799297</td>\n",
              "      <td>0.965882</td>\n",
              "      <td>0.464833</td>\n",
              "    </tr>\n",
              "    <tr>\n",
              "      <th>3</th>\n",
              "      <td>DecisionTreeClassifier</td>\n",
              "      <td>0.844902</td>\n",
              "      <td>0.845106</td>\n",
              "      <td>0.844760</td>\n",
              "      <td>0.844843</td>\n",
              "      <td>0.735042</td>\n",
              "      <td>0.844980</td>\n",
              "      <td>0.872303</td>\n",
              "      <td>5.192471</td>\n",
              "    </tr>\n",
              "    <tr>\n",
              "      <th>4</th>\n",
              "      <td>RandomForestClassifier</td>\n",
              "      <td>0.897425</td>\n",
              "      <td>0.897350</td>\n",
              "      <td>0.898024</td>\n",
              "      <td>0.897460</td>\n",
              "      <td>0.815336</td>\n",
              "      <td>0.897339</td>\n",
              "      <td>0.971416</td>\n",
              "      <td>0.356477</td>\n",
              "    </tr>\n",
              "    <tr>\n",
              "      <th>5</th>\n",
              "      <td>GradientBoostingClassifier</td>\n",
              "      <td>0.877240</td>\n",
              "      <td>0.877357</td>\n",
              "      <td>0.876875</td>\n",
              "      <td>0.876360</td>\n",
              "      <td>0.781339</td>\n",
              "      <td>0.876778</td>\n",
              "      <td>0.965765</td>\n",
              "      <td>0.409064</td>\n",
              "    </tr>\n",
              "    <tr>\n",
              "      <th>6</th>\n",
              "      <td>AdaBoostClassifier</td>\n",
              "      <td>0.845726</td>\n",
              "      <td>0.845793</td>\n",
              "      <td>0.847777</td>\n",
              "      <td>0.842631</td>\n",
              "      <td>0.731398</td>\n",
              "      <td>0.843556</td>\n",
              "      <td>0.861810</td>\n",
              "      <td>1.019145</td>\n",
              "    </tr>\n",
              "    <tr>\n",
              "      <th>7</th>\n",
              "      <td>ExtraTreesClassifier</td>\n",
              "      <td>0.904840</td>\n",
              "      <td>0.904783</td>\n",
              "      <td>0.905709</td>\n",
              "      <td>0.905083</td>\n",
              "      <td>0.827693</td>\n",
              "      <td>0.904864</td>\n",
              "      <td>0.972824</td>\n",
              "      <td>0.379646</td>\n",
              "    </tr>\n",
              "    <tr>\n",
              "      <th>8</th>\n",
              "      <td>KNeighborsClassifier</td>\n",
              "      <td>0.405973</td>\n",
              "      <td>0.409181</td>\n",
              "      <td>0.671700</td>\n",
              "      <td>0.311807</td>\n",
              "      <td>0.197708</td>\n",
              "      <td>0.339615</td>\n",
              "      <td>0.506460</td>\n",
              "      <td>16.701965</td>\n",
              "    </tr>\n",
              "  </tbody>\n",
              "</table>\n",
              "</div>\n",
              "      <button class=\"colab-df-convert\" onclick=\"convertToInteractive('df-cbe29430-96c8-4c43-82b0-60cab4a97415')\"\n",
              "              title=\"Convert this dataframe to an interactive table.\"\n",
              "              style=\"display:none;\">\n",
              "        \n",
              "  <svg xmlns=\"http://www.w3.org/2000/svg\" height=\"24px\"viewBox=\"0 0 24 24\"\n",
              "       width=\"24px\">\n",
              "    <path d=\"M0 0h24v24H0V0z\" fill=\"none\"/>\n",
              "    <path d=\"M18.56 5.44l.94 2.06.94-2.06 2.06-.94-2.06-.94-.94-2.06-.94 2.06-2.06.94zm-11 1L8.5 8.5l.94-2.06 2.06-.94-2.06-.94L8.5 2.5l-.94 2.06-2.06.94zm10 10l.94 2.06.94-2.06 2.06-.94-2.06-.94-.94-2.06-.94 2.06-2.06.94z\"/><path d=\"M17.41 7.96l-1.37-1.37c-.4-.4-.92-.59-1.43-.59-.52 0-1.04.2-1.43.59L10.3 9.45l-7.72 7.72c-.78.78-.78 2.05 0 2.83L4 21.41c.39.39.9.59 1.41.59.51 0 1.02-.2 1.41-.59l7.78-7.78 2.81-2.81c.8-.78.8-2.07 0-2.86zM5.41 20L4 18.59l7.72-7.72 1.47 1.35L5.41 20z\"/>\n",
              "  </svg>\n",
              "      </button>\n",
              "      \n",
              "  <style>\n",
              "    .colab-df-container {\n",
              "      display:flex;\n",
              "      flex-wrap:wrap;\n",
              "      gap: 12px;\n",
              "    }\n",
              "\n",
              "    .colab-df-convert {\n",
              "      background-color: #E8F0FE;\n",
              "      border: none;\n",
              "      border-radius: 50%;\n",
              "      cursor: pointer;\n",
              "      display: none;\n",
              "      fill: #1967D2;\n",
              "      height: 32px;\n",
              "      padding: 0 0 0 0;\n",
              "      width: 32px;\n",
              "    }\n",
              "\n",
              "    .colab-df-convert:hover {\n",
              "      background-color: #E2EBFA;\n",
              "      box-shadow: 0px 1px 2px rgba(60, 64, 67, 0.3), 0px 1px 3px 1px rgba(60, 64, 67, 0.15);\n",
              "      fill: #174EA6;\n",
              "    }\n",
              "\n",
              "    [theme=dark] .colab-df-convert {\n",
              "      background-color: #3B4455;\n",
              "      fill: #D2E3FC;\n",
              "    }\n",
              "\n",
              "    [theme=dark] .colab-df-convert:hover {\n",
              "      background-color: #434B5C;\n",
              "      box-shadow: 0px 1px 3px 1px rgba(0, 0, 0, 0.15);\n",
              "      filter: drop-shadow(0px 1px 2px rgba(0, 0, 0, 0.3));\n",
              "      fill: #FFFFFF;\n",
              "    }\n",
              "  </style>\n",
              "\n",
              "      <script>\n",
              "        const buttonEl =\n",
              "          document.querySelector('#df-cbe29430-96c8-4c43-82b0-60cab4a97415 button.colab-df-convert');\n",
              "        buttonEl.style.display =\n",
              "          google.colab.kernel.accessAllowed ? 'block' : 'none';\n",
              "\n",
              "        async function convertToInteractive(key) {\n",
              "          const element = document.querySelector('#df-cbe29430-96c8-4c43-82b0-60cab4a97415');\n",
              "          const dataTable =\n",
              "            await google.colab.kernel.invokeFunction('convertToInteractive',\n",
              "                                                     [key], {});\n",
              "          if (!dataTable) return;\n",
              "\n",
              "          const docLinkHtml = 'Like what you see? Visit the ' +\n",
              "            '<a target=\"_blank\" href=https://colab.research.google.com/notebooks/data_table.ipynb>data table notebook</a>'\n",
              "            + ' to learn more about interactive tables.';\n",
              "          element.innerHTML = '';\n",
              "          dataTable['output_type'] = 'display_data';\n",
              "          await google.colab.output.renderOutput(dataTable, element);\n",
              "          const docLink = document.createElement('div');\n",
              "          docLink.innerHTML = docLinkHtml;\n",
              "          element.appendChild(docLink);\n",
              "        }\n",
              "      </script>\n",
              "    </div>\n",
              "  </div>\n",
              "  "
            ]
          },
          "metadata": {},
          "execution_count": 15
        }
      ]
    },
    {
      "cell_type": "markdown",
      "source": [
        "## **Attempt to improve KNN model**"
      ],
      "metadata": {
        "id": "UYOXuQ7qaAx5"
      }
    },
    {
      "cell_type": "markdown",
      "source": [
        "**Plotting Error Rate to find the best K-value**"
      ],
      "metadata": {
        "id": "kROSFFbpaGG4"
      }
    },
    {
      "cell_type": "code",
      "source": [
        "error_rate = []\n",
        "for i in tqdm(range(1,40)):\n",
        " knn = KNeighborsClassifier(n_neighbors = i)\n",
        " knn.fit(X_train, y_train)\n",
        " pred_i = knn.predict(X_val)\n",
        " error_rate.append(np.mean(pred_i != y_val))"
      ],
      "metadata": {
        "colab": {
          "base_uri": "https://localhost:8080/"
        },
        "id": "Iz4ThiSdaATx",
        "outputId": "0dcbdc15-39d7-4070-f887-374757ff0c60"
      },
      "execution_count": 130,
      "outputs": [
        {
          "output_type": "stream",
          "name": "stderr",
          "text": [
            "100%|██████████| 39/39 [04:30<00:00,  6.95s/it]\n"
          ]
        }
      ]
    },
    {
      "cell_type": "code",
      "source": [
        "plt.figure(figsize=(10,6))\n",
        "plt.plot(range(1,40), error_rate, color = '#00A699', linestyle = 'dashed', \n",
        "         marker = 'o', markerfacecolor = '#FF5A5F', markersize = 12)\n",
        "plt.title('Error Rate vs. K Value', fontsize = 18)\n",
        "plt.xlabel('K', fontsize = 15)\n",
        "plt.ylabel('Error Rate', fontsize = 15)\n",
        "print(\"Minimum Error:-\", min(error_rate),\"at K =\", error_rate.index(min(error_rate)))"
      ],
      "metadata": {
        "colab": {
          "base_uri": "https://localhost:8080/",
          "height": 428
        },
        "id": "XPvpdPmui8UO",
        "outputId": "df499e37-7967-48f8-8198-706cfe847fd6"
      },
      "execution_count": 131,
      "outputs": [
        {
          "output_type": "stream",
          "name": "stdout",
          "text": [
            "Minimum Error:- 0.5680741503604532 at K = 0\n"
          ]
        },
        {
          "output_type": "display_data",
          "data": {
            "text/plain": [
              "<Figure size 720x432 with 1 Axes>"
            ],
            "image/png": "[encoded data removed]"
          },
          "metadata": {
            "needs_background": "light"
          }
        }
      ]
    },
    {
      "cell_type": "code",
      "source": [
        "acc = []\n",
        "for i in tqdm(range(1,40)):\n",
        "    neigh = KNeighborsClassifier(n_neighbors = i).fit(X_train,y_train)\n",
        "    y_predict = neigh.predict(X_val)\n",
        "    acc.append(metrics.accuracy_score(y_val, y_predict))"
      ],
      "metadata": {
        "colab": {
          "base_uri": "https://localhost:8080/"
        },
        "id": "pek_GNeQoleX",
        "outputId": "dbded059-00bf-423f-e186-4247181baaac"
      },
      "execution_count": 132,
      "outputs": [
        {
          "output_type": "stream",
          "name": "stderr",
          "text": [
            "100%|██████████| 39/39 [04:08<00:00,  6.38s/it]\n"
          ]
        }
      ]
    },
    {
      "cell_type": "code",
      "source": [
        "plt.figure(figsize=(10,6))\n",
        "plt.plot(range(1,40), acc, color = '#00A699', linestyle = 'dashed', \n",
        "         marker = 'o', markerfacecolor = '#FF5A5F', markersize = 12)\n",
        "plt.title('Accuracy vs. K Value', fontsize = 18)\n",
        "plt.xlabel('K', fontsize = 15)\n",
        "plt.ylabel('Accuracy', fontsize = 15)\n",
        "print(\"Maximum Accuracy:-\", max(acc),\"at K =\", acc.index(max(acc)))"
      ],
      "metadata": {
        "colab": {
          "base_uri": "https://localhost:8080/",
          "height": 428
        },
        "id": "sXAD4_trowl6",
        "outputId": "8b7a8330-3ea9-4648-d68d-9973d44e9a1f"
      },
      "execution_count": 133,
      "outputs": [
        {
          "output_type": "stream",
          "name": "stdout",
          "text": [
            "Maximum Accuracy:- 0.43192584963954683 at K = 0\n"
          ]
        },
        {
          "output_type": "display_data",
          "data": {
            "text/plain": [
              "<Figure size 720x432 with 1 Axes>"
            ],
            "image/png": "[encoded data removed]"
          },
          "metadata": {
            "needs_background": "light"
          }
        }
      ]
    },
    {
      "cell_type": "markdown",
      "source": [
        "**Hyperparameter Tuning - RandomizedSearchCV**"
      ],
      "metadata": {
        "id": "f-BNtqe2cA_m"
      }
    },
    {
      "cell_type": "markdown",
      "source": [
        "In the hyperparameter tuning, instead of picking all models, we decide to perform the tuning for the logistic regresson model through a randomized search with cross-validation. Although SVC was the best performing model by virtue of the total number of performance metrics performing the best, it has efficiency issues. \n",
        "\n",
        "The primary aim was to improve the F1 macro score evaluation metric for logistic regression.\n",
        "\n",
        "1. KneighborsClassifier: F1 score\n",
        "2. AdaBoostClassifier\n",
        "3. GradientBoostingClassifier\n",
        "\n",
        "Multinomial - no hyperparameters to tune"
      ],
      "metadata": {
        "id": "YMJjyASlDQEY"
      }
    },
    {
      "cell_type": "markdown",
      "source": [
        "**LogisticRegression**"
      ],
      "metadata": {
        "id": "0hVnIWFmOWB2"
      }
    },
    {
      "cell_type": "code",
      "source": [
        "model = LogisticRegression(multi_class = multi_class, random_state = RANDOM_SEED)\n",
        "\n",
        "# Define search space\n",
        "space = {\"solver\": ['lbfgs', 'liblinear'],\n",
        "         \"penalty\": ['none', 'l1', 'l2', 'elasticnet'],\n",
        "         \"C\": [0.001, 0.01, 0.1, 1, 10],\n",
        "         \"multi_class\": ['auto', 'ovr']}\n",
        "\n",
        "# Create an instance for RandomizedSearchCV Cross-validation estimator\n",
        "search = RandomizedSearchCV(model, space, \n",
        "                            n_iter = 100, \n",
        "                            scoring = 'f1_macro', \n",
        "                            random_state = RANDOM_SEED)\n",
        "\n",
        "# Execute search\n",
        "result = search.fit(X_train, y_train)\n",
        "result.best_params_"
      ],
      "metadata": {
        "colab": {
          "base_uri": "https://localhost:8080/"
        },
        "id": "UTVNd7E4OZhA",
        "outputId": "5f918813-6649-4a5a-e22a-ce7e1403d89b"
      },
      "execution_count": 134,
      "outputs": [
        {
          "output_type": "execute_result",
          "data": {
            "text/plain": [
              "{'solver': 'liblinear', 'penalty': 'l1', 'multi_class': 'auto', 'C': 1}"
            ]
          },
          "metadata": {},
          "execution_count": 134
        }
      ]
    },
    {
      "cell_type": "code",
      "source": [
        "X_test = vectorizer.transform(test_df.cleaned_comments)\n",
        "y_test = list(test_df.sentiment)\n",
        "\n",
        "model_default = LogisticRegression(multi_class = multi_class, random_state = RANDOM_SEED).fit(X_train, y_train)\n",
        "model_tuned = LogisticRegression(C = 1, penalty = 'l1', solver = 'liblinear', multi_class = 'auto', random_state = RANDOM_SEED).fit(X_train, y_train)\n",
        "evaluation_models = [model_default, model_tuned]\n",
        "\n",
        "accuracy = []\n",
        "precision = []\n",
        "recall = []\n",
        "f1score = []\n",
        "jaccard = []\n",
        "fbeta = []\n",
        "roc_auc = []\n",
        "logloss_ = []\n",
        "\n",
        "for model in evaluation_models:\n",
        "  model_predict = model.predict(vectorizer.transform(test_df.cleaned_comments))\n",
        "  accuracy.append(accuracy_score(model_predict, y_test))\n",
        "  precision.append(precision_score(model_predict, y_test, average = 'macro'))\n",
        "  recall.append(recall_score(model_predict, y_test, average = 'macro'))\n",
        "  f1score.append(f1_score(model_predict, y_test, average = 'macro'))\n",
        "  jaccard.append(jaccard_score(model_predict, y_test, average = 'macro'))\n",
        "  fbeta.append(fbeta_score(model_predict, y_test, average = 'macro', beta = 0.5))\n",
        "  roc_auc.append(roc_auc_score(y_test, model.predict_proba(vectorizer.transform(test_df.cleaned_comments)), multi_class = 'ovr', average = 'macro'))\n",
        "  logloss_.append(log_loss(y_test, model.predict_proba(vectorizer.transform(test_df.cleaned_comments))))\n",
        "\n",
        "model_names = [\"LogisticRegression (Default)\", \"LogisticRegression (Tuned)\"]\n",
        "pd.DataFrame(list(zip(model_names, accuracy, precision, recall, f1score, jaccard, fbeta, roc_auc, logloss_)),\n",
        "               columns =['Classifier', 'Accuracy (Balanced)', 'Precision (Macro)', 'Recall (Macro)', 'F1 Score (Macro)', 'Jaccard Score (Macro)', 'F-beta Score (Macro)', 'AUC ROC Score', 'Log Loss'])"
      ],
      "metadata": {
        "colab": {
          "base_uri": "https://localhost:8080/",
          "height": 112
        },
        "id": "vxoAvDApYea7",
        "outputId": "0496d810-092c-4a75-cfb1-19d97f51208f"
      },
      "execution_count": 135,
      "outputs": [
        {
          "output_type": "execute_result",
          "data": {
            "text/plain": [
              "                     Classifier  Accuracy (Balanced)  Precision (Macro)  \\\n",
              "0  LogisticRegression (Default)             0.912685           0.912117   \n",
              "1    LogisticRegression (Tuned)             0.914951           0.914150   \n",
              "\n",
              "   Recall (Macro)  F1 Score (Macro)  Jaccard Score (Macro)  \\\n",
              "0        0.912303          0.912186               0.839338   \n",
              "1        0.914344          0.914189               0.842871   \n",
              "\n",
              "   F-beta Score (Macro)  AUC ROC Score  Log Loss  \n",
              "0              0.912139       0.978955  0.277033  \n",
              "1              0.914152       0.977672  0.285883  "
            ],
            "text/html": [
              "\n",
              "  <div id=\"df-da7672cb-cea7-44e5-88e4-ed879c42347a\">\n",
              "    <div class=\"colab-df-container\">\n",
              "      <div>\n",
              "<style scoped>\n",
              "    .dataframe tbody tr th:only-of-type {\n",
              "        vertical-align: middle;\n",
              "    }\n",
              "\n",
              "    .dataframe tbody tr th {\n",
              "        vertical-align: top;\n",
              "    }\n",
              "\n",
              "    .dataframe thead th {\n",
              "        text-align: right;\n",
              "    }\n",
              "</style>\n",
              "<table border=\"1\" class=\"dataframe\">\n",
              "  <thead>\n",
              "    <tr style=\"text-align: right;\">\n",
              "      <th></th>\n",
              "      <th>Classifier</th>\n",
              "      <th>Accuracy (Balanced)</th>\n",
              "      <th>Precision (Macro)</th>\n",
              "      <th>Recall (Macro)</th>\n",
              "      <th>F1 Score (Macro)</th>\n",
              "      <th>Jaccard Score (Macro)</th>\n",
              "      <th>F-beta Score (Macro)</th>\n",
              "      <th>AUC ROC Score</th>\n",
              "      <th>Log Loss</th>\n",
              "    </tr>\n",
              "  </thead>\n",
              "  <tbody>\n",
              "    <tr>\n",
              "      <th>0</th>\n",
              "      <td>LogisticRegression (Default)</td>\n",
              "      <td>0.912685</td>\n",
              "      <td>0.912117</td>\n",
              "      <td>0.912303</td>\n",
              "      <td>0.912186</td>\n",
              "      <td>0.839338</td>\n",
              "      <td>0.912139</td>\n",
              "      <td>0.978955</td>\n",
              "      <td>0.277033</td>\n",
              "    </tr>\n",
              "    <tr>\n",
              "      <th>1</th>\n",
              "      <td>LogisticRegression (Tuned)</td>\n",
              "      <td>0.914951</td>\n",
              "      <td>0.914150</td>\n",
              "      <td>0.914344</td>\n",
              "      <td>0.914189</td>\n",
              "      <td>0.842871</td>\n",
              "      <td>0.914152</td>\n",
              "      <td>0.977672</td>\n",
              "      <td>0.285883</td>\n",
              "    </tr>\n",
              "  </tbody>\n",
              "</table>\n",
              "</div>\n",
              "      <button class=\"colab-df-convert\" onclick=\"convertToInteractive('df-da7672cb-cea7-44e5-88e4-ed879c42347a')\"\n",
              "              title=\"Convert this dataframe to an interactive table.\"\n",
              "              style=\"display:none;\">\n",
              "        \n",
              "  <svg xmlns=\"http://www.w3.org/2000/svg\" height=\"24px\"viewBox=\"0 0 24 24\"\n",
              "       width=\"24px\">\n",
              "    <path d=\"M0 0h24v24H0V0z\" fill=\"none\"/>\n",
              "    <path d=\"M18.56 5.44l.94 2.06.94-2.06 2.06-.94-2.06-.94-.94-2.06-.94 2.06-2.06.94zm-11 1L8.5 8.5l.94-2.06 2.06-.94-2.06-.94L8.5 2.5l-.94 2.06-2.06.94zm10 10l.94 2.06.94-2.06 2.06-.94-2.06-.94-.94-2.06-.94 2.06-2.06.94z\"/><path d=\"M17.41 7.96l-1.37-1.37c-.4-.4-.92-.59-1.43-.59-.52 0-1.04.2-1.43.59L10.3 9.45l-7.72 7.72c-.78.78-.78 2.05 0 2.83L4 21.41c.39.39.9.59 1.41.59.51 0 1.02-.2 1.41-.59l7.78-7.78 2.81-2.81c.8-.78.8-2.07 0-2.86zM5.41 20L4 18.59l7.72-7.72 1.47 1.35L5.41 20z\"/>\n",
              "  </svg>\n",
              "      </button>\n",
              "      \n",
              "  <style>\n",
              "    .colab-df-container {\n",
              "      display:flex;\n",
              "      flex-wrap:wrap;\n",
              "      gap: 12px;\n",
              "    }\n",
              "\n",
              "    .colab-df-convert {\n",
              "      background-color: #E8F0FE;\n",
              "      border: none;\n",
              "      border-radius: 50%;\n",
              "      cursor: pointer;\n",
              "      display: none;\n",
              "      fill: #1967D2;\n",
              "      height: 32px;\n",
              "      padding: 0 0 0 0;\n",
              "      width: 32px;\n",
              "    }\n",
              "\n",
              "    .colab-df-convert:hover {\n",
              "      background-color: #E2EBFA;\n",
              "      box-shadow: 0px 1px 2px rgba(60, 64, 67, 0.3), 0px 1px 3px 1px rgba(60, 64, 67, 0.15);\n",
              "      fill: #174EA6;\n",
              "    }\n",
              "\n",
              "    [theme=dark] .colab-df-convert {\n",
              "      background-color: #3B4455;\n",
              "      fill: #D2E3FC;\n",
              "    }\n",
              "\n",
              "    [theme=dark] .colab-df-convert:hover {\n",
              "      background-color: #434B5C;\n",
              "      box-shadow: 0px 1px 3px 1px rgba(0, 0, 0, 0.15);\n",
              "      filter: drop-shadow(0px 1px 2px rgba(0, 0, 0, 0.3));\n",
              "      fill: #FFFFFF;\n",
              "    }\n",
              "  </style>\n",
              "\n",
              "      <script>\n",
              "        const buttonEl =\n",
              "          document.querySelector('#df-da7672cb-cea7-44e5-88e4-ed879c42347a button.colab-df-convert');\n",
              "        buttonEl.style.display =\n",
              "          google.colab.kernel.accessAllowed ? 'block' : 'none';\n",
              "\n",
              "        async function convertToInteractive(key) {\n",
              "          const element = document.querySelector('#df-da7672cb-cea7-44e5-88e4-ed879c42347a');\n",
              "          const dataTable =\n",
              "            await google.colab.kernel.invokeFunction('convertToInteractive',\n",
              "                                                     [key], {});\n",
              "          if (!dataTable) return;\n",
              "\n",
              "          const docLinkHtml = 'Like what you see? Visit the ' +\n",
              "            '<a target=\"_blank\" href=https://colab.research.google.com/notebooks/data_table.ipynb>data table notebook</a>'\n",
              "            + ' to learn more about interactive tables.';\n",
              "          element.innerHTML = '';\n",
              "          dataTable['output_type'] = 'display_data';\n",
              "          await google.colab.output.renderOutput(dataTable, element);\n",
              "          const docLink = document.createElement('div');\n",
              "          docLink.innerHTML = docLinkHtml;\n",
              "          element.appendChild(docLink);\n",
              "        }\n",
              "      </script>\n",
              "    </div>\n",
              "  </div>\n",
              "  "
            ]
          },
          "metadata": {},
          "execution_count": 135
        }
      ]
    },
    {
      "cell_type": "markdown",
      "source": [
        "# **Evaluation**"
      ],
      "metadata": {
        "id": "Ublml86wBF3r"
      }
    },
    {
      "cell_type": "markdown",
      "source": [
        "**ROC-AUC Curve plots**"
      ],
      "metadata": {
        "id": "AkZyyJZwwVUP"
      }
    },
    {
      "cell_type": "code",
      "source": [
        "def plot_ROC_curve(model, X_train, y_train, X_val, y_val):\n",
        "\n",
        "    # Creating visualization with the readable labels\n",
        "    visualizer = ROCAUC(model, encoder = {'Positive': 'Positive', \n",
        "                                          'Neutral': 'Neutral', \n",
        "                                          'Negative': 'Negative'},\n",
        "                        fig = plt.figure(figsize=(8,5)))\n",
        "                                        \n",
        "    # Fitting to the training data first then scoring with the test data                                    \n",
        "    visualizer.fit(X_train, y_train)\n",
        "    visualizer.score(X_val, y_val)\n",
        "    visualizer.show()\n",
        "    \n",
        "    return visualizer"
      ],
      "metadata": {
        "id": "UMM0Pt58wU2p"
      },
      "execution_count": 136,
      "outputs": []
    },
    {
      "cell_type": "code",
      "source": [
        "for model in tqdm(evaluation_models):\n",
        "  precision_recall_curve_plot(model, X_train, y_train, X_test, y_test)"
      ],
      "metadata": {
        "colab": {
          "base_uri": "https://localhost:8080/",
          "height": 733
        },
        "id": "AWJvtI3FcFSo",
        "outputId": "ecac42e4-bea8-4453-b7ff-dd2c42191ded"
      },
      "execution_count": 137,
      "outputs": [
        {
          "output_type": "stream",
          "name": "stderr",
          "text": [
            "\r  0%|          | 0/2 [00:00<?, ?it/s]"
          ]
        },
        {
          "output_type": "display_data",
          "data": {
            "text/plain": [
              "<Figure size 576x360 with 1 Axes>"
            ],
            "image/png": "[encoded data removed]"
          },
          "metadata": {
            "needs_background": "light"
          }
        },
        {
          "output_type": "stream",
          "name": "stderr",
          "text": [
            "\r 50%|█████     | 1/2 [00:02<00:02,  2.43s/it]"
          ]
        },
        {
          "output_type": "display_data",
          "data": {
            "text/plain": [
              "<Figure size 576x360 with 1 Axes>"
            ],
            "image/png": "[encoded data removed]"
          },
          "metadata": {
            "needs_background": "light"
          }
        },
        {
          "output_type": "stream",
          "name": "stderr",
          "text": [
            "100%|██████████| 2/2 [00:03<00:00,  1.88s/it]\n"
          ]
        }
      ]
    },
    {
      "cell_type": "markdown",
      "source": [
        "**Precision-Recall Curve**"
      ],
      "metadata": {
        "id": "0sJjJA51EMkV"
      }
    },
    {
      "cell_type": "code",
      "source": [
        "def precision_recall_curve_plot(model, X_train, y_train, X_val, y_val):\n",
        "  visualizer = PrecisionRecallCurve(model, per_class = True, fill_area = False, iso_f1_curves = True, fig = plt.figure(figsize=(8,5)))\n",
        "  visualizer.fit(X_train, y_train)\n",
        "  visualizer.score(X_val, y_val)\n",
        "  visualizer.show()\n",
        "  return visualizer"
      ],
      "metadata": {
        "id": "eOaK5YGMEwG7"
      },
      "execution_count": 138,
      "outputs": []
    },
    {
      "cell_type": "code",
      "source": [
        "for model in tqdm(evaluation_models):\n",
        "  plot_ROC_curve(model, X_train, y_train, X_test, y_test)"
      ],
      "metadata": {
        "colab": {
          "base_uri": "https://localhost:8080/",
          "height": 733
        },
        "id": "03_f9Ev4pApP",
        "outputId": "4c42821a-8d84-4218-8ef9-e297180bd20c"
      },
      "execution_count": 139,
      "outputs": [
        {
          "output_type": "stream",
          "name": "stderr",
          "text": [
            "\r  0%|          | 0/2 [00:00<?, ?it/s]"
          ]
        },
        {
          "output_type": "display_data",
          "data": {
            "text/plain": [
              "<Figure size 576x360 with 1 Axes>"
            ],
            "image/png": "[encoded data removed]"
          },
          "metadata": {
            "needs_background": "light"
          }
        },
        {
          "output_type": "stream",
          "name": "stderr",
          "text": [
            "\r 50%|█████     | 1/2 [00:00<00:00,  3.44it/s]"
          ]
        },
        {
          "output_type": "display_data",
          "data": {
            "text/plain": [
              "<Figure size 576x360 with 1 Axes>"
            ],
            "image/png": "[encoded data removed]"
          },
          "metadata": {
            "needs_background": "light"
          }
        },
        {
          "output_type": "stream",
          "name": "stderr",
          "text": [
            "100%|██████████| 2/2 [00:00<00:00,  3.53it/s]\n"
          ]
        }
      ]
    },
    {
      "cell_type": "markdown",
      "source": [
        "#**Failure Analysis**"
      ],
      "metadata": {
        "id": "M3I2blOhoowV"
      }
    },
    {
      "cell_type": "markdown",
      "source": [
        "**Confusion Matrix Heatmap**"
      ],
      "metadata": {
        "id": "MCS45PKQA4Qy"
      }
    },
    {
      "cell_type": "code",
      "source": [
        "def plot_Confusion_Matrix_Heatmap(model, X_train, y_train, X_val, y_val):\n",
        "\n",
        "    classes = ['Positive', 'Neutral', 'Negative']\n",
        "    visualizer = ConfusionMatrix(\n",
        "        model, classes = classes,\n",
        "        percent = True,\n",
        "        label_encoder = {'Positive': 'Positive', \n",
        "                         'Neutral': 'Neutral', \n",
        "                         'Negative': 'Negative'},\n",
        "        fig = plt.figure(figsize=(8,5)))\n",
        "\n",
        "    visualizer.fit(X_train, y_train)\n",
        "    visualizer.score(X_val, y_val)\n",
        "    visualizer.show()\n",
        "    \n",
        "    return visualizer"
      ],
      "metadata": {
        "id": "aVMot3L-Xit7"
      },
      "execution_count": 140,
      "outputs": []
    },
    {
      "cell_type": "code",
      "source": [
        "plot_Confusion_Matrix_Heatmap(LogisticRegression(C=1, penalty='l1', random_state = RANDOM_SEED, solver='liblinear'), X_train, y_train, X_test, y_test)"
      ],
      "metadata": {
        "colab": {
          "base_uri": "https://localhost:8080/",
          "height": 473
        },
        "id": "hOq2Je6wpArU",
        "outputId": "0ffbc49c-82a8-4ccf-a433-43a3e941877b"
      },
      "execution_count": 141,
      "outputs": [
        {
          "output_type": "display_data",
          "data": {
            "text/plain": [
              "<Figure size 576x360 with 1 Axes>"
            ],
            "image/png": "[encoded data removed]"
          },
          "metadata": {
            "needs_background": "light"
          }
        },
        {
          "output_type": "execute_result",
          "data": {
            "text/plain": [
              "ConfusionMatrix(ax=<matplotlib.axes._subplots.AxesSubplot object at 0x7f38f42806d0>,\n",
              "                classes=['Positive', 'Neutral', 'Negative'],\n",
              "                cmap=<matplotlib.colors.ListedColormap object at 0x7f38f5728d10>,\n",
              "                estimator=LogisticRegression(C=1, penalty='l1', random_state=42,\n",
              "                                             solver='liblinear'),\n",
              "                percent=True)"
            ]
          },
          "metadata": {},
          "execution_count": 141
        }
      ]
    },
    {
      "cell_type": "markdown",
      "source": [
        "**Classification Report**"
      ],
      "metadata": {
        "id": "b47TnlPJJxXL"
      }
    },
    {
      "cell_type": "code",
      "source": [
        "target_names = ['Positive', 'Neutral', 'Negative']\n",
        "\n",
        "model_tuned = LogisticRegression(C = 1, penalty = 'l1', solver = 'liblinear', multi_class = 'auto', random_state = RANDOM_SEED).fit(X_train, y_train)\n",
        "model_predict = model.predict(X_test)\n",
        "print(classification_report(y_test, model_predict, target_names = target_names))"
      ],
      "metadata": {
        "colab": {
          "base_uri": "https://localhost:8080/"
        },
        "id": "ArG9FXzvJLJl",
        "outputId": "23ac61d3-c625-4123-f0b3-a985769a686b"
      },
      "execution_count": 142,
      "outputs": [
        {
          "output_type": "stream",
          "name": "stdout",
          "text": [
            "              precision    recall  f1-score   support\n",
            "\n",
            "    Positive       0.89      0.87      0.88      1561\n",
            "     Neutral       0.92      0.94      0.93      1685\n",
            "    Negative       0.93      0.94      0.93      1610\n",
            "\n",
            "    accuracy                           0.91      4856\n",
            "   macro avg       0.91      0.91      0.91      4856\n",
            "weighted avg       0.91      0.91      0.91      4856\n",
            "\n"
          ]
        }
      ]
    }
  ]
}