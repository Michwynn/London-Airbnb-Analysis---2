{
  "nbformat": 4,
  "nbformat_minor": 0,
  "metadata": {
    "colab": {
      "provenance": [],
      "collapsed_sections": [],
      "authorship_tag": "ABX9TyOG8ty7rmOI85HBhlkE/mWH",
      "include_colab_link": true
    },
    "kernelspec": {
      "name": "python3",
      "display_name": "Python 3"
    },
    "language_info": {
      "name": "python"
    }
  },
  "cells": [
    {
      "cell_type": "markdown",
      "metadata": {
        "id": "view-in-github",
        "colab_type": "text"
      },
      "source": [
        "<a href=\"https://colab.research.google.com/github/Michwynn/London-Airbnb-Analysis---2/blob/Michael/Supervised_Learning.ipynb\" target=\"_parent\"><img src=\"https://colab.research.google.com/assets/colab-badge.svg\" alt=\"Open In Colab\"/></a>"
      ]
    },
    {
      "cell_type": "code",
      "execution_count": 2,
      "metadata": {
        "colab": {
          "base_uri": "https://localhost:8080/"
        },
        "id": "2LY4E4lffiRj",
        "outputId": "2cce735f-eae5-4766-dcf5-d35e840fe044"
      },
      "outputs": [
        {
          "output_type": "stream",
          "name": "stdout",
          "text": [
            "Drive already mounted at /content/drive; to attempt to forcibly remount, call drive.mount(\"/content/drive\", force_remount=True).\n",
            "/content/drive/.shortcut-targets-by-id/1wUOfFY-ki2nFzneeaTtXLEeMjaSdKrrj/Airbnb_Milestone2\n"
          ]
        }
      ],
      "source": [
        "# set up working directory\n",
        "import os\n",
        "from google.colab import drive\n",
        "drive.mount('/content/drive')\n",
        "%cd /content/drive/My Drive/Airbnb_Milestone2\n",
        "\n",
        "# data manipulation\n",
        "import pandas as pd\n",
        "import numpy as np \n",
        "from tqdm import tqdm\n",
        "\n",
        "# machine learning\n",
        "from sklearn.feature_extraction.text import TfidfVectorizer\n",
        "from sklearn import svm, tree\n",
        "from sklearn.naive_bayes import MultinomialNB\n",
        "from sklearn.linear_model import LogisticRegression\n",
        "from sklearn.ensemble import RandomForestClassifier, GradientBoostingClassifier, AdaBoostClassifier, ExtraTreesClassifier\n",
        "from sklearn.neighbors import KNeighborsClassifier\n",
        "\n",
        "from sklearn import metrics\n",
        "from sklearn.metrics import f1_score, accuracy_score, precision_score, recall_score, roc_auc_score\n",
        "from sklearn.model_selection import train_test_split, GridSearchCV, cross_val_score, cross_val_predict\n",
        "from sklearn.pipeline import make_pipeline\n",
        "\n",
        "# supress warnings\n",
        "import warnings \n",
        "warnings.filterwarnings('ignore')\n",
        "\n",
        "# Display all columns\n",
        "pd.set_option('display.max_columns', None)"
      ]
    },
    {
      "cell_type": "markdown",
      "source": [
        "**Configuration**"
      ],
      "metadata": {
        "id": "e7CZlXeJjSwN"
      }
    },
    {
      "cell_type": "code",
      "source": [
        "RANDOM_SEED = 42\n",
        "fractions = np.array([0.8, 0.1, 0.1])\n",
        "cleaned_df = pd.read_csv('Datasets/cleaned_df.csv', lineterminator = '\\n') # reading the datasest\n",
        "\n",
        "# TfidfVectorizer:\n",
        "min_df = 25\n",
        "\n",
        "# Logistic Regression:\n",
        "solver = 'lbfgs'\n",
        "multi_class = 'auto'\n",
        "\n",
        "# RF & Adaboost:\n",
        "n_estimators = 10\n",
        "max_depth = 3\n",
        "\n",
        "# K Nearest Neighbour:\n",
        "k = 3"
      ],
      "metadata": {
        "id": "JezYGQdvgty1"
      },
      "execution_count": 3,
      "outputs": []
    },
    {
      "cell_type": "markdown",
      "source": [
        "**Downsampling method for imbalance dataset**"
      ],
      "metadata": {
        "id": "_TERqxOHyOv2"
      }
    },
    {
      "cell_type": "code",
      "source": [
        "cleaned_df['sentiment'].value_counts()"
      ],
      "metadata": {
        "colab": {
          "base_uri": "https://localhost:8080/"
        },
        "id": "A6iq0u6FydWh",
        "outputId": "ecc1a26a-54ef-4787-98c1-645c83ae91af"
      },
      "execution_count": 4,
      "outputs": [
        {
          "output_type": "execute_result",
          "data": {
            "text/plain": [
              "Positive    1045528\n",
              "Neutral       25786\n",
              "Negative      16185\n",
              "Name: sentiment, dtype: int64"
            ]
          },
          "metadata": {},
          "execution_count": 4
        }
      ]
    },
    {
      "cell_type": "code",
      "source": [
        "cleaned_df['sentiment'].value_counts().plot(kind = 'bar', color = '#FF5A5F', title ='Sentiment Count (target)')"
      ],
      "metadata": {
        "colab": {
          "base_uri": "https://localhost:8080/",
          "height": 333
        },
        "id": "lT0pcLlaPjnZ",
        "outputId": "b06e0756-05b8-40e2-b012-52f2a6a67803"
      },
      "execution_count": 7,
      "outputs": [
        {
          "output_type": "execute_result",
          "data": {
            "text/plain": [
              "<matplotlib.axes._subplots.AxesSubplot at 0x7f0e9dc63210>"
            ]
          },
          "metadata": {},
          "execution_count": 7
        },
        {
          "output_type": "display_data",
          "data": {
            "text/plain": [
              "<Figure size 432x288 with 1 Axes>"
            ],
            "image/png": "[encoded data removed]"
          },
          "metadata": {
            "needs_background": "light"
          }
        }
      ]
    },
    {
      "cell_type": "code",
      "source": [
        "# class count\n",
        "class_count_positive, class_count_neutral, class_count_negative = cleaned_df['sentiment'].value_counts()\n",
        "\n",
        "\n",
        "# Separate sentiment into each df\n",
        "class_positive = cleaned_df[cleaned_df['sentiment'] == \"Positive\"]\n",
        "class_neutral = cleaned_df[cleaned_df['sentiment'] == \"Neutral\"]\n",
        "class_negative = cleaned_df[cleaned_df['sentiment'] == \"Negative\"]\n",
        "\n",
        "print('class_positive:', class_positive.shape)\n",
        "print('class_neutral:', class_neutral.shape)\n",
        "print('class_negative:', class_negative.shape)\n",
        "print(\"Random Under Sampling leads to.........\")\n",
        "      \n",
        "# As negative sentiment is the lowest case count, we will do random undersampling for both positive and neutral sentiments to get an equally distributed and balanced dataset\n",
        "class_positive_under = class_positive.sample(class_count_negative, random_state = RANDOM_SEED)\n",
        "class_neutral_under = class_neutral.sample(class_count_negative, random_state = RANDOM_SEED)\n",
        "\n",
        "# Combine all dataframes\n",
        "cleaned_df_undersampling = pd.concat([class_positive_under, class_neutral_under, class_negative], axis = 0)\n",
        "cleaned_df_undersampling['sentiment'].value_counts().plot(kind = 'bar', color = '#FF5A5F', title ='Sentiment Count (target)')"
      ],
      "metadata": {
        "colab": {
          "base_uri": "https://localhost:8080/",
          "height": 403
        },
        "id": "Leru5ihTyJzn",
        "outputId": "281f7cd2-0ba4-406c-e5df-54e9c6bc2645"
      },
      "execution_count": 8,
      "outputs": [
        {
          "output_type": "stream",
          "name": "stdout",
          "text": [
            "class_positive: (1045528, 14)\n",
            "class_neutral: (25786, 14)\n",
            "class_negative: (16185, 14)\n",
            "Random Under Sampling leads to.........\n"
          ]
        },
        {
          "output_type": "execute_result",
          "data": {
            "text/plain": [
              "<matplotlib.axes._subplots.AxesSubplot at 0x7f0e9dbd6250>"
            ]
          },
          "metadata": {},
          "execution_count": 8
        },
        {
          "output_type": "display_data",
          "data": {
            "text/plain": [
              "<Figure size 432x288 with 1 Axes>"
            ],
            "image/png": "[encoded data removed]"
          },
          "metadata": {
            "needs_background": "light"
          }
        }
      ]
    },
    {
      "cell_type": "markdown",
      "source": [
        "**Split datasets into train, validation and test sets**\n",
        "\n",
        "We have a large enough dataset that we can effectively split it into train, development, and test sets, using the standard ratio of 80%, 10%, 10% for each, respectively."
      ],
      "metadata": {
        "id": "vgMpmfkIgudy"
      }
    },
    {
      "cell_type": "code",
      "source": [
        "def get_train_val_test(df, fractions, RANDOM_SEED):\n",
        "\n",
        "  # Get the required input and target variables from dataframe and drop NA rows:\n",
        "  df = df[['cleaned_comments','sentiment']].dropna()\n",
        "  # shuffling the data:\n",
        "  df = df.sample(frac = 1, random_state = RANDOM_SEED)\n",
        "  # split into training, validation and testing sets\n",
        "  train_df, val_df, test_df = np.array_split(df, (fractions[:-1].cumsum() * len(df)).astype(int))\n",
        "\n",
        "  if len(train_df) + len(val_df) + len(test_df) != len(df):\n",
        "    print(\"Check the splitting method!\")\n",
        "  else:\n",
        "    return train_df, val_df, test_df"
      ],
      "metadata": {
        "id": "yyXyGUnqhBoy"
      },
      "execution_count": 9,
      "outputs": []
    },
    {
      "cell_type": "markdown",
      "source": [
        "**Splitting...**"
      ],
      "metadata": {
        "id": "1NR9tQySqTWp"
      }
    },
    {
      "cell_type": "code",
      "source": [
        "train_df, val_df, test_df = get_train_val_test(cleaned_df_undersampling, fractions, RANDOM_SEED)"
      ],
      "metadata": {
        "id": "HE64G9rzOOsL"
      },
      "execution_count": 10,
      "outputs": []
    },
    {
      "cell_type": "markdown",
      "source": [
        "**Convert text data to features - TF-IDF and get target input**"
      ],
      "metadata": {
        "id": "iHGUT6JCi7OK"
      }
    },
    {
      "cell_type": "code",
      "source": [
        "%%time\n",
        "vectorizer = TfidfVectorizer(stop_words = 'english', min_df = min_df, norm ='l2')\n",
        "X_train = vectorizer.fit_transform(train_df.cleaned_comments)\n",
        "y_train = list(train_df.sentiment)"
      ],
      "metadata": {
        "id": "GaSQwQ05i68g",
        "colab": {
          "base_uri": "https://localhost:8080/"
        },
        "outputId": "e9d06eef-4122-4438-fcce-cb6d19dbb297"
      },
      "execution_count": 11,
      "outputs": [
        {
          "output_type": "stream",
          "name": "stdout",
          "text": [
            "CPU times: user 854 ms, sys: 3.75 ms, total: 858 ms\n",
            "Wall time: 862 ms\n"
          ]
        }
      ]
    },
    {
      "cell_type": "markdown",
      "source": [
        "**Fit the classifier on the data**"
      ],
      "metadata": {
        "id": "yGPwtTuCjocU"
      }
    },
    {
      "cell_type": "code",
      "source": [
        "%%time\n",
        "clf_log = LogisticRegression(multi_class = multi_class, random_state = RANDOM_SEED)\n",
        "\n",
        "clf_log.fit(X_train, y_train)"
      ],
      "metadata": {
        "colab": {
          "base_uri": "https://localhost:8080/"
        },
        "id": "Cjz5YJ8UjxAP",
        "outputId": "2beb6793-1948-46fc-b77b-1a2a68253abb"
      },
      "execution_count": 12,
      "outputs": [
        {
          "output_type": "stream",
          "name": "stdout",
          "text": [
            "CPU times: user 2.36 s, sys: 32.7 ms, total: 2.39 s\n",
            "Wall time: 2.39 s\n"
          ]
        },
        {
          "output_type": "execute_result",
          "data": {
            "text/plain": [
              "LogisticRegression(random_state=42)"
            ]
          },
          "metadata": {},
          "execution_count": 12
        }
      ]
    },
    {
      "cell_type": "markdown",
      "source": [
        "**Generate validation data**"
      ],
      "metadata": {
        "id": "x8o1Lp5Qj2Bm"
      }
    },
    {
      "cell_type": "code",
      "source": [
        "%%time\n",
        "X_val = vectorizer.transform(val_df.cleaned_comments)\n",
        "y_val = list(val_df.sentiment)"
      ],
      "metadata": {
        "id": "ziMlWVYyj4BO",
        "colab": {
          "base_uri": "https://localhost:8080/"
        },
        "outputId": "98fc49e4-1d75-4a4d-f3f9-7072bca5a9c6"
      },
      "execution_count": 13,
      "outputs": [
        {
          "output_type": "stream",
          "name": "stdout",
          "text": [
            "CPU times: user 100 ms, sys: 1.83 ms, total: 102 ms\n",
            "Wall time: 102 ms\n"
          ]
        }
      ]
    },
    {
      "cell_type": "markdown",
      "source": [
        "**Generate logistic regression (baseline model) prediction**\n",
        "\n",
        "Logistic regression is a good model because it trains quickly even on large datasets and provides very robust results. Other good model choices include SVMs, Random Forests, and Naive Bayes."
      ],
      "metadata": {
        "id": "rkwGrss_j9O1"
      }
    },
    {
      "cell_type": "code",
      "source": [
        "lr_pred = clf_log.predict(X_val)\n",
        "lr_f1 = f1_score(y_val, lr_pred, average = 'macro')\n",
        "print(\"F1 score for baseline regression:\", lr_f1)"
      ],
      "metadata": {
        "colab": {
          "base_uri": "https://localhost:8080/"
        },
        "id": "v9LPLD_ej_mr",
        "outputId": "b0d1d3a4-736d-4874-b21c-0ff913e0c8cc"
      },
      "execution_count": 14,
      "outputs": [
        {
          "output_type": "stream",
          "name": "stdout",
          "text": [
            "F1 score for baseline regression: 0.9013962556143239\n"
          ]
        }
      ]
    },
    {
      "cell_type": "markdown",
      "source": [
        "**Comparing all classification models **"
      ],
      "metadata": {
        "id": "IyAIjvpMtV2N"
      }
    },
    {
      "cell_type": "code",
      "source": [
        "clf_svm = svm.SVC(decision_function_shape = 'ovr', random_state = RANDOM_SEED)\n",
        "clf_nb = MultinomialNB()\n",
        "clf_dt = tree.DecisionTreeClassifier(random_state = RANDOM_SEED)\n",
        "clf_rf = RandomForestClassifier(random_state = RANDOM_SEED)\n",
        "clf_gbc = GradientBoostingClassifier(random_state = RANDOM_SEED)\n",
        "clf_boost = AdaBoostClassifier(random_state = RANDOM_SEED)\n",
        "clf_xtratree = ExtraTreesClassifier(random_state = RANDOM_SEED)\n",
        "clf_knn = KNeighborsClassifier(n_neighbors = k)\n",
        "\n",
        "model_names = [\"LogisticRegression (Base)\", \"SupportVectorMachine\", \"MultinomialNB\", \"DecisionTreeClassifier\", \n",
        "               \"RandomForestClassifier\", \"GradientBoostingClassifier\", \"AdaBoostClassifier\", \"ExtraTreesClassifier\", \"KNeighborsClassifier\"]\n",
        "\n",
        "model_list = [clf_log, clf_svm, clf_nb, clf_dt, clf_rf, clf_gbc, clf_boost, clf_xtratree, clf_knn]\n",
        "\n",
        "accuracy = []\n",
        "precision = []\n",
        "recall = []\n",
        "f1score = []\n",
        "roc_auc = []\n",
        "\n",
        "for model in tqdm(model_list):\n",
        "  model.fit(X_train, y_train)\n",
        "  model_predict = model.predict(X_val)\n",
        "  accuracy.append(accuracy_score(model_predict, y_val))\n",
        "  precision.append(precision_score(model_predict, y_val, average = 'macro'))\n",
        "  recall.append(recall_score(model_predict, y_val, average = 'macro'))\n",
        "  f1score.append(f1_score(model_predict, y_val, average = 'macro'))"
      ],
      "metadata": {
        "id": "Gv_AVNT_tQU2",
        "colab": {
          "base_uri": "https://localhost:8080/"
        },
        "outputId": "73b6753f-7a1f-4784-b72a-49a9e81749ca"
      },
      "execution_count": 15,
      "outputs": [
        {
          "output_type": "stream",
          "name": "stderr",
          "text": [
            "100%|██████████| 9/9 [08:30<00:00, 56.76s/it]\n"
          ]
        }
      ]
    },
    {
      "cell_type": "code",
      "source": [
        "pd.DataFrame(list(zip(model_names, accuracy, precision, recall, f1score)),\n",
        "               columns =['Classifier', 'Accuracy (Balanced)', 'Precision', 'Recall', 'F1 Score'])"
      ],
      "metadata": {
        "id": "QOBd9MzAEi9j",
        "colab": {
          "base_uri": "https://localhost:8080/",
          "height": 332
        },
        "outputId": "488befe5-518f-4961-b2da-2e062734b99b"
      },
      "execution_count": 16,
      "outputs": [
        {
          "output_type": "execute_result",
          "data": {
            "text/plain": [
              "                   Classifier  Accuracy (Balanced)  Precision    Recall  \\\n",
              "0   LogisticRegression (Base)             0.901507   0.901621  0.901330   \n",
              "1        SupportVectorMachine             0.901714   0.901764  0.902597   \n",
              "2               MultinomialNB             0.799091   0.796940  0.831362   \n",
              "3      DecisionTreeClassifier             0.824076   0.824596  0.823508   \n",
              "4      RandomForestClassifier             0.887879   0.888035  0.888094   \n",
              "5  GradientBoostingClassifier             0.860004   0.860299  0.859694   \n",
              "6          AdaBoostClassifier             0.823457   0.824156  0.829185   \n",
              "7        ExtraTreesClassifier             0.890770   0.890869  0.891503   \n",
              "8        KNeighborsClassifier             0.434028   0.438598  0.617712   \n",
              "\n",
              "   F1 Score  \n",
              "0  0.901396  \n",
              "1  0.902046  \n",
              "2  0.793385  \n",
              "3  0.823947  \n",
              "4  0.888063  \n",
              "5  0.859733  \n",
              "6  0.819004  \n",
              "7  0.891137  \n",
              "8  0.366581  "
            ],
            "text/html": [
              "\n",
              "  <div id=\"df-c9b41c5e-a3ee-44ec-a420-a4525254fbd6\">\n",
              "    <div class=\"colab-df-container\">\n",
              "      <div>\n",
              "<style scoped>\n",
              "    .dataframe tbody tr th:only-of-type {\n",
              "        vertical-align: middle;\n",
              "    }\n",
              "\n",
              "    .dataframe tbody tr th {\n",
              "        vertical-align: top;\n",
              "    }\n",
              "\n",
              "    .dataframe thead th {\n",
              "        text-align: right;\n",
              "    }\n",
              "</style>\n",
              "<table border=\"1\" class=\"dataframe\">\n",
              "  <thead>\n",
              "    <tr style=\"text-align: right;\">\n",
              "      <th></th>\n",
              "      <th>Classifier</th>\n",
              "      <th>Accuracy (Balanced)</th>\n",
              "      <th>Precision</th>\n",
              "      <th>Recall</th>\n",
              "      <th>F1 Score</th>\n",
              "    </tr>\n",
              "  </thead>\n",
              "  <tbody>\n",
              "    <tr>\n",
              "      <th>0</th>\n",
              "      <td>LogisticRegression (Base)</td>\n",
              "      <td>0.901507</td>\n",
              "      <td>0.901621</td>\n",
              "      <td>0.901330</td>\n",
              "      <td>0.901396</td>\n",
              "    </tr>\n",
              "    <tr>\n",
              "      <th>1</th>\n",
              "      <td>SupportVectorMachine</td>\n",
              "      <td>0.901714</td>\n",
              "      <td>0.901764</td>\n",
              "      <td>0.902597</td>\n",
              "      <td>0.902046</td>\n",
              "    </tr>\n",
              "    <tr>\n",
              "      <th>2</th>\n",
              "      <td>MultinomialNB</td>\n",
              "      <td>0.799091</td>\n",
              "      <td>0.796940</td>\n",
              "      <td>0.831362</td>\n",
              "      <td>0.793385</td>\n",
              "    </tr>\n",
              "    <tr>\n",
              "      <th>3</th>\n",
              "      <td>DecisionTreeClassifier</td>\n",
              "      <td>0.824076</td>\n",
              "      <td>0.824596</td>\n",
              "      <td>0.823508</td>\n",
              "      <td>0.823947</td>\n",
              "    </tr>\n",
              "    <tr>\n",
              "      <th>4</th>\n",
              "      <td>RandomForestClassifier</td>\n",
              "      <td>0.887879</td>\n",
              "      <td>0.888035</td>\n",
              "      <td>0.888094</td>\n",
              "      <td>0.888063</td>\n",
              "    </tr>\n",
              "    <tr>\n",
              "      <th>5</th>\n",
              "      <td>GradientBoostingClassifier</td>\n",
              "      <td>0.860004</td>\n",
              "      <td>0.860299</td>\n",
              "      <td>0.859694</td>\n",
              "      <td>0.859733</td>\n",
              "    </tr>\n",
              "    <tr>\n",
              "      <th>6</th>\n",
              "      <td>AdaBoostClassifier</td>\n",
              "      <td>0.823457</td>\n",
              "      <td>0.824156</td>\n",
              "      <td>0.829185</td>\n",
              "      <td>0.819004</td>\n",
              "    </tr>\n",
              "    <tr>\n",
              "      <th>7</th>\n",
              "      <td>ExtraTreesClassifier</td>\n",
              "      <td>0.890770</td>\n",
              "      <td>0.890869</td>\n",
              "      <td>0.891503</td>\n",
              "      <td>0.891137</td>\n",
              "    </tr>\n",
              "    <tr>\n",
              "      <th>8</th>\n",
              "      <td>KNeighborsClassifier</td>\n",
              "      <td>0.434028</td>\n",
              "      <td>0.438598</td>\n",
              "      <td>0.617712</td>\n",
              "      <td>0.366581</td>\n",
              "    </tr>\n",
              "  </tbody>\n",
              "</table>\n",
              "</div>\n",
              "      <button class=\"colab-df-convert\" onclick=\"convertToInteractive('df-c9b41c5e-a3ee-44ec-a420-a4525254fbd6')\"\n",
              "              title=\"Convert this dataframe to an interactive table.\"\n",
              "              style=\"display:none;\">\n",
              "        \n",
              "  <svg xmlns=\"http://www.w3.org/2000/svg\" height=\"24px\"viewBox=\"0 0 24 24\"\n",
              "       width=\"24px\">\n",
              "    <path d=\"M0 0h24v24H0V0z\" fill=\"none\"/>\n",
              "    <path d=\"M18.56 5.44l.94 2.06.94-2.06 2.06-.94-2.06-.94-.94-2.06-.94 2.06-2.06.94zm-11 1L8.5 8.5l.94-2.06 2.06-.94-2.06-.94L8.5 2.5l-.94 2.06-2.06.94zm10 10l.94 2.06.94-2.06 2.06-.94-2.06-.94-.94-2.06-.94 2.06-2.06.94z\"/><path d=\"M17.41 7.96l-1.37-1.37c-.4-.4-.92-.59-1.43-.59-.52 0-1.04.2-1.43.59L10.3 9.45l-7.72 7.72c-.78.78-.78 2.05 0 2.83L4 21.41c.39.39.9.59 1.41.59.51 0 1.02-.2 1.41-.59l7.78-7.78 2.81-2.81c.8-.78.8-2.07 0-2.86zM5.41 20L4 18.59l7.72-7.72 1.47 1.35L5.41 20z\"/>\n",
              "  </svg>\n",
              "      </button>\n",
              "      \n",
              "  <style>\n",
              "    .colab-df-container {\n",
              "      display:flex;\n",
              "      flex-wrap:wrap;\n",
              "      gap: 12px;\n",
              "    }\n",
              "\n",
              "    .colab-df-convert {\n",
              "      background-color: #E8F0FE;\n",
              "      border: none;\n",
              "      border-radius: 50%;\n",
              "      cursor: pointer;\n",
              "      display: none;\n",
              "      fill: #1967D2;\n",
              "      height: 32px;\n",
              "      padding: 0 0 0 0;\n",
              "      width: 32px;\n",
              "    }\n",
              "\n",
              "    .colab-df-convert:hover {\n",
              "      background-color: #E2EBFA;\n",
              "      box-shadow: 0px 1px 2px rgba(60, 64, 67, 0.3), 0px 1px 3px 1px rgba(60, 64, 67, 0.15);\n",
              "      fill: #174EA6;\n",
              "    }\n",
              "\n",
              "    [theme=dark] .colab-df-convert {\n",
              "      background-color: #3B4455;\n",
              "      fill: #D2E3FC;\n",
              "    }\n",
              "\n",
              "    [theme=dark] .colab-df-convert:hover {\n",
              "      background-color: #434B5C;\n",
              "      box-shadow: 0px 1px 3px 1px rgba(0, 0, 0, 0.15);\n",
              "      filter: drop-shadow(0px 1px 2px rgba(0, 0, 0, 0.3));\n",
              "      fill: #FFFFFF;\n",
              "    }\n",
              "  </style>\n",
              "\n",
              "      <script>\n",
              "        const buttonEl =\n",
              "          document.querySelector('#df-c9b41c5e-a3ee-44ec-a420-a4525254fbd6 button.colab-df-convert');\n",
              "        buttonEl.style.display =\n",
              "          google.colab.kernel.accessAllowed ? 'block' : 'none';\n",
              "\n",
              "        async function convertToInteractive(key) {\n",
              "          const element = document.querySelector('#df-c9b41c5e-a3ee-44ec-a420-a4525254fbd6');\n",
              "          const dataTable =\n",
              "            await google.colab.kernel.invokeFunction('convertToInteractive',\n",
              "                                                     [key], {});\n",
              "          if (!dataTable) return;\n",
              "\n",
              "          const docLinkHtml = 'Like what you see? Visit the ' +\n",
              "            '<a target=\"_blank\" href=https://colab.research.google.com/notebooks/data_table.ipynb>data table notebook</a>'\n",
              "            + ' to learn more about interactive tables.';\n",
              "          element.innerHTML = '';\n",
              "          dataTable['output_type'] = 'display_data';\n",
              "          await google.colab.output.renderOutput(dataTable, element);\n",
              "          const docLink = document.createElement('div');\n",
              "          docLink.innerHTML = docLinkHtml;\n",
              "          element.appendChild(docLink);\n",
              "        }\n",
              "      </script>\n",
              "    </div>\n",
              "  </div>\n",
              "  "
            ]
          },
          "metadata": {},
          "execution_count": 16
        }
      ]
    },
    {
      "cell_type": "markdown",
      "source": [
        "**Hyperparameter Tuning**"
      ],
      "metadata": {
        "id": "f-BNtqe2cA_m"
      }
    },
    {
      "cell_type": "code",
      "source": [],
      "metadata": {
        "id": "rcaQfnj8cAad"
      },
      "execution_count": null,
      "outputs": []
    }
  ]
}