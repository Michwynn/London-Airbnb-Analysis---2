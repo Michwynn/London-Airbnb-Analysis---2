{
  "nbformat": 4,
  "nbformat_minor": 0,
  "metadata": {
    "colab": {
      "provenance": [],
      "collapsed_sections": [],
      "include_colab_link": true
    },
    "kernelspec": {
      "name": "python3",
      "display_name": "Python 3"
    },
    "language_info": {
      "name": "python"
    }
  },
  "cells": [
    {
      "cell_type": "markdown",
      "metadata": {
        "id": "view-in-github",
        "colab_type": "text"
      },
      "source": [
        "<a href=\"https://colab.research.google.com/github/Michwynn/London-Airbnb-Analysis---2/blob/main/Deep_Learning.ipynb\" target=\"_parent\"><img src=\"https://colab.research.google.com/assets/colab-badge.svg\" alt=\"Open In Colab\"/></a>"
      ]
    },
    {
      "cell_type": "markdown",
      "source": [
        "We use the cleaned up labelled data to build the Sequence model.\n",
        "We prefer using the bidirectional LSTM because:\n",
        "\n",
        "*  LSTM model help us capture long range dependencies in the sentences\n",
        "*  A Bidirectional LSTM model allows us to use information about the prior words and the subsequent words\n",
        "\n",
        "\n",
        "\n"
      ],
      "metadata": {
        "id": "Bc4V5dW2SVua"
      }
    },
    {
      "cell_type": "code",
      "execution_count": null,
      "metadata": {
        "id": "Q4LtoTxfQDf5"
      },
      "outputs": [],
      "source": [
        "### 1. Import all the required libraries\n",
        "import pandas as pd\n",
        "import numpy as np\n",
        "import re\n",
        "import tensorflow as tf\n",
        "from tensorflow.keras.preprocessing.text import Tokenizer\n",
        "from tensorflow.keras.models import Sequential\n",
        "from tensorflow.keras.layers import Embedding, LSTM, Dense, Bidirectional\n",
        "from tensorflow.keras.utils import pad_sequences\n",
        "from tensorflow.keras.callbacks import EarlyStopping\n",
        "from tensorflow.keras.callbacks import ModelCheckpoint\n",
        "from tensorflow.keras.models import load_model\n",
        "import matplotlib.pyplot as plt\n",
        "%matplotlib inline"
      ]
    },
    {
      "cell_type": "code",
      "source": [
        "### 2. Mount the google drive\n",
        "from google.colab import drive\n",
        "drive.mount('/content/drive')"
      ],
      "metadata": {
        "colab": {
          "base_uri": "https://localhost:8080/"
        },
        "id": "bYqsPW9pVPNG",
        "outputId": "b56a9252-c82b-4284-843b-2c42e0aee79c"
      },
      "execution_count": null,
      "outputs": [
        {
          "output_type": "stream",
          "name": "stdout",
          "text": [
            "Drive already mounted at /content/drive; to attempt to forcibly remount, call drive.mount(\"/content/drive\", force_remount=True).\n"
          ]
        }
      ]
    },
    {
      "cell_type": "code",
      "source": [
        "!pwd"
      ],
      "metadata": {
        "colab": {
          "base_uri": "https://localhost:8080/"
        },
        "id": "HXvAVzVDVWV6",
        "outputId": "cec440ef-71a5-462c-b926-db7a769c6c69"
      },
      "execution_count": null,
      "outputs": [
        {
          "output_type": "stream",
          "name": "stdout",
          "text": [
            "/content\n"
          ]
        }
      ]
    },
    {
      "cell_type": "code",
      "source": [
        "%cd /content/drive/MyDrive/Airbnb_Milestone2/Datasets/Train_Val_Test"
      ],
      "metadata": {
        "colab": {
          "base_uri": "https://localhost:8080/"
        },
        "id": "gp9Vx4laVg31",
        "outputId": "8f7b0d28-baa6-4730-da9c-688121f01c83"
      },
      "execution_count": null,
      "outputs": [
        {
          "output_type": "stream",
          "name": "stdout",
          "text": [
            "/content/drive/MyDrive/Airbnb_Milestone2/Datasets/Train_Val_Test\n"
          ]
        }
      ]
    },
    {
      "cell_type": "markdown",
      "source": [
        "For our deep learning models, we will be using the same underwriting data which was created by Michael for his machine learnign models"
      ],
      "metadata": {
        "id": "A5_-eKxMiD0r"
      }
    },
    {
      "cell_type": "code",
      "source": [
        "### 3. Using the undersampled data created by Michael ### 48555 rows\n",
        "data_cleaned = pd.read_csv('cleaned_df_undersampling.csv', lineterminator = '\\n')\n",
        "display(data_cleaned.sample(2))"
      ],
      "metadata": {
        "colab": {
          "base_uri": "https://localhost:8080/",
          "height": 332
        },
        "id": "KWX6LplkhS22",
        "outputId": "11367201-ed42-416d-d065-cc092bdb69e6"
      },
      "execution_count": null,
      "outputs": [
        {
          "output_type": "display_data",
          "data": {
            "text/plain": [
              "      Unnamed: 0  Unnamed: 0.1  Unnamed: 0.1.1  listing_id         id  \\\n",
              "31        315539        315539          345007    18591406  486950354   \n",
              "3180      957937        957937         1069662    16629490  185691851   \n",
              "\n",
              "            date  reviewer_id reviewer_name  \\\n",
              "31    2019-07-13     45423592       Donovan   \n",
              "3180  2017-08-22     57375586         Valdi   \n",
              "\n",
              "                                               comments lang  \\\n",
              "31    Great value for money, very comfortable and cl...   en   \n",
              "3180  I stayed there for 18 nights and had a pretty ...   en   \n",
              "\n",
              "                                       cleaned_comments  \\\n",
              "31    great value comfortable close excellent transport   \n",
              "3180  i stayed nights pretty good the room clean bat...   \n",
              "\n",
              "                                  cleaned_comments_nltk  VADER_compound_score  \\\n",
              "31    ['great', 'value', 'money', 'comfortable', 'cl...                  0.93   \n",
              "3180  ['stayed', 'night', 'pretty', 'good', 'stay', ...                  0.96   \n",
              "\n",
              "     sentiment  review_length  \n",
              "31    Positive             14  \n",
              "3180  Positive            133  "
            ],
            "text/html": [
              "\n",
              "  <div id=\"df-50f4d0c0-ecfa-4ed0-8eca-30a8dbe04915\">\n",
              "    <div class=\"colab-df-container\">\n",
              "      <div>\n",
              "<style scoped>\n",
              "    .dataframe tbody tr th:only-of-type {\n",
              "        vertical-align: middle;\n",
              "    }\n",
              "\n",
              "    .dataframe tbody tr th {\n",
              "        vertical-align: top;\n",
              "    }\n",
              "\n",
              "    .dataframe thead th {\n",
              "        text-align: right;\n",
              "    }\n",
              "</style>\n",
              "<table border=\"1\" class=\"dataframe\">\n",
              "  <thead>\n",
              "    <tr style=\"text-align: right;\">\n",
              "      <th></th>\n",
              "      <th>Unnamed: 0</th>\n",
              "      <th>Unnamed: 0.1</th>\n",
              "      <th>Unnamed: 0.1.1</th>\n",
              "      <th>listing_id</th>\n",
              "      <th>id</th>\n",
              "      <th>date</th>\n",
              "      <th>reviewer_id</th>\n",
              "      <th>reviewer_name</th>\n",
              "      <th>comments</th>\n",
              "      <th>lang</th>\n",
              "      <th>cleaned_comments</th>\n",
              "      <th>cleaned_comments_nltk</th>\n",
              "      <th>VADER_compound_score</th>\n",
              "      <th>sentiment</th>\n",
              "      <th>review_length</th>\n",
              "    </tr>\n",
              "  </thead>\n",
              "  <tbody>\n",
              "    <tr>\n",
              "      <th>31</th>\n",
              "      <td>315539</td>\n",
              "      <td>315539</td>\n",
              "      <td>345007</td>\n",
              "      <td>18591406</td>\n",
              "      <td>486950354</td>\n",
              "      <td>2019-07-13</td>\n",
              "      <td>45423592</td>\n",
              "      <td>Donovan</td>\n",
              "      <td>Great value for money, very comfortable and cl...</td>\n",
              "      <td>en</td>\n",
              "      <td>great value comfortable close excellent transport</td>\n",
              "      <td>['great', 'value', 'money', 'comfortable', 'cl...</td>\n",
              "      <td>0.93</td>\n",
              "      <td>Positive</td>\n",
              "      <td>14</td>\n",
              "    </tr>\n",
              "    <tr>\n",
              "      <th>3180</th>\n",
              "      <td>957937</td>\n",
              "      <td>957937</td>\n",
              "      <td>1069662</td>\n",
              "      <td>16629490</td>\n",
              "      <td>185691851</td>\n",
              "      <td>2017-08-22</td>\n",
              "      <td>57375586</td>\n",
              "      <td>Valdi</td>\n",
              "      <td>I stayed there for 18 nights and had a pretty ...</td>\n",
              "      <td>en</td>\n",
              "      <td>i stayed nights pretty good the room clean bat...</td>\n",
              "      <td>['stayed', 'night', 'pretty', 'good', 'stay', ...</td>\n",
              "      <td>0.96</td>\n",
              "      <td>Positive</td>\n",
              "      <td>133</td>\n",
              "    </tr>\n",
              "  </tbody>\n",
              "</table>\n",
              "</div>\n",
              "      <button class=\"colab-df-convert\" onclick=\"convertToInteractive('df-50f4d0c0-ecfa-4ed0-8eca-30a8dbe04915')\"\n",
              "              title=\"Convert this dataframe to an interactive table.\"\n",
              "              style=\"display:none;\">\n",
              "        \n",
              "  <svg xmlns=\"http://www.w3.org/2000/svg\" height=\"24px\"viewBox=\"0 0 24 24\"\n",
              "       width=\"24px\">\n",
              "    <path d=\"M0 0h24v24H0V0z\" fill=\"none\"/>\n",
              "    <path d=\"M18.56 5.44l.94 2.06.94-2.06 2.06-.94-2.06-.94-.94-2.06-.94 2.06-2.06.94zm-11 1L8.5 8.5l.94-2.06 2.06-.94-2.06-.94L8.5 2.5l-.94 2.06-2.06.94zm10 10l.94 2.06.94-2.06 2.06-.94-2.06-.94-.94-2.06-.94 2.06-2.06.94z\"/><path d=\"M17.41 7.96l-1.37-1.37c-.4-.4-.92-.59-1.43-.59-.52 0-1.04.2-1.43.59L10.3 9.45l-7.72 7.72c-.78.78-.78 2.05 0 2.83L4 21.41c.39.39.9.59 1.41.59.51 0 1.02-.2 1.41-.59l7.78-7.78 2.81-2.81c.8-.78.8-2.07 0-2.86zM5.41 20L4 18.59l7.72-7.72 1.47 1.35L5.41 20z\"/>\n",
              "  </svg>\n",
              "      </button>\n",
              "      \n",
              "  <style>\n",
              "    .colab-df-container {\n",
              "      display:flex;\n",
              "      flex-wrap:wrap;\n",
              "      gap: 12px;\n",
              "    }\n",
              "\n",
              "    .colab-df-convert {\n",
              "      background-color: #E8F0FE;\n",
              "      border: none;\n",
              "      border-radius: 50%;\n",
              "      cursor: pointer;\n",
              "      display: none;\n",
              "      fill: #1967D2;\n",
              "      height: 32px;\n",
              "      padding: 0 0 0 0;\n",
              "      width: 32px;\n",
              "    }\n",
              "\n",
              "    .colab-df-convert:hover {\n",
              "      background-color: #E2EBFA;\n",
              "      box-shadow: 0px 1px 2px rgba(60, 64, 67, 0.3), 0px 1px 3px 1px rgba(60, 64, 67, 0.15);\n",
              "      fill: #174EA6;\n",
              "    }\n",
              "\n",
              "    [theme=dark] .colab-df-convert {\n",
              "      background-color: #3B4455;\n",
              "      fill: #D2E3FC;\n",
              "    }\n",
              "\n",
              "    [theme=dark] .colab-df-convert:hover {\n",
              "      background-color: #434B5C;\n",
              "      box-shadow: 0px 1px 3px 1px rgba(0, 0, 0, 0.15);\n",
              "      filter: drop-shadow(0px 1px 2px rgba(0, 0, 0, 0.3));\n",
              "      fill: #FFFFFF;\n",
              "    }\n",
              "  </style>\n",
              "\n",
              "      <script>\n",
              "        const buttonEl =\n",
              "          document.querySelector('#df-50f4d0c0-ecfa-4ed0-8eca-30a8dbe04915 button.colab-df-convert');\n",
              "        buttonEl.style.display =\n",
              "          google.colab.kernel.accessAllowed ? 'block' : 'none';\n",
              "\n",
              "        async function convertToInteractive(key) {\n",
              "          const element = document.querySelector('#df-50f4d0c0-ecfa-4ed0-8eca-30a8dbe04915');\n",
              "          const dataTable =\n",
              "            await google.colab.kernel.invokeFunction('convertToInteractive',\n",
              "                                                     [key], {});\n",
              "          if (!dataTable) return;\n",
              "\n",
              "          const docLinkHtml = 'Like what you see? Visit the ' +\n",
              "            '<a target=\"_blank\" href=https://colab.research.google.com/notebooks/data_table.ipynb>data table notebook</a>'\n",
              "            + ' to learn more about interactive tables.';\n",
              "          element.innerHTML = '';\n",
              "          dataTable['output_type'] = 'display_data';\n",
              "          await google.colab.output.renderOutput(dataTable, element);\n",
              "          const docLink = document.createElement('div');\n",
              "          docLink.innerHTML = docLinkHtml;\n",
              "          element.appendChild(docLink);\n",
              "        }\n",
              "      </script>\n",
              "    </div>\n",
              "  </div>\n",
              "  "
            ]
          },
          "metadata": {}
        }
      ]
    },
    {
      "cell_type": "code",
      "source": [
        "#### 4. Split the data into Train-Val-Test. Again using the same seeds as used by Michael\n",
        "def get_train_val_test(df, fractions, RANDOM_SEED):\n",
        "  # Get the required input and target variables from dataframe and drop NA rows:\n",
        "  df = df[['comments','sentiment', 'listing_id', 'id']].dropna()\n",
        "  # shuffling the data:\n",
        "  df = df.sample(frac = 1, random_state = RANDOM_SEED)\n",
        "  # split into training, validation and testing sets\n",
        "  train_df, val_df, test_df = np.array_split(df, (fractions[:-1].cumsum() * len(df)).astype(int))\n",
        "  if len(train_df) + len(val_df) + len(test_df) != len(df):\n",
        "    print(\"Check the splitting method!\")\n",
        "  else:\n",
        "    return train_df, val_df, test_df\n",
        "\n",
        "RANDOM_SEED = 42\n",
        "fractions = np.array([0.8, 0.1, 0.1])\n",
        "train_df, val_df, test_df = get_train_val_test(data_cleaned, fractions, RANDOM_SEED)\n",
        "\n"
      ],
      "metadata": {
        "id": "Z6avMuLgsYt7"
      },
      "execution_count": null,
      "outputs": []
    },
    {
      "cell_type": "code",
      "source": [
        "### 5. Creating numeric labels \n",
        "labels_mapping = {'Positive': 2, 'Neutral': 1, 'Negative': 0}\n",
        "def label_creation(column):\n",
        "  if column == 'Positive':\n",
        "    label = 2\n",
        "  elif column == 'Neutral':\n",
        "    label = 1\n",
        "  elif column == 'Negative':\n",
        "    label = 0\n",
        "  else:\n",
        "    label = 999\n",
        "  return label\n",
        "\n",
        "train_df['label'] = train_df['sentiment'].apply(label_creation)\n",
        "val_df['label'] = val_df['sentiment'].apply(label_creation)\n",
        "test_df['label'] = test_df['sentiment'].apply(label_creation)"
      ],
      "metadata": {
        "id": "DqySjg2dcZlX"
      },
      "execution_count": null,
      "outputs": []
    },
    {
      "cell_type": "code",
      "source": [
        "print(train_df.groupby('label')['comments'].count())\n",
        "print('**************************************')\n",
        "print(val_df.groupby('label')['comments'].count())\n",
        "print('**************************************')\n",
        "print(test_df.groupby('label')['comments'].count())"
      ],
      "metadata": {
        "colab": {
          "base_uri": "https://localhost:8080/"
        },
        "id": "CeOYbqSBpm5l",
        "outputId": "79f1fcf4-3675-4869-b10d-75f5b6b079ee"
      },
      "execution_count": null,
      "outputs": [
        {
          "output_type": "stream",
          "name": "stdout",
          "text": [
            "label\n",
            "0    13010\n",
            "1    12902\n",
            "2    12932\n",
            "Name: comments, dtype: int64\n",
            "**************************************\n",
            "label\n",
            "0    1614\n",
            "1    1598\n",
            "2    1643\n",
            "Name: comments, dtype: int64\n",
            "**************************************\n",
            "label\n",
            "0    1561\n",
            "1    1685\n",
            "2    1610\n",
            "Name: comments, dtype: int64\n"
          ]
        }
      ]
    },
    {
      "cell_type": "markdown",
      "source": [
        "### Beginning the data cleaning steps\n",
        "\n",
        "Removing the HTML tags and carriage returns (\\r)"
      ],
      "metadata": {
        "id": "aJcAYCnci8rs"
      }
    },
    {
      "cell_type": "code",
      "source": [
        "#### 6. Lets first remove html tags and \\r\n",
        "def rem_html(comment):\n",
        "  comment = re.sub('<[^<]+?>', ' ', comment)\n",
        "  comment = re.sub('\\\\r', ' ', comment)\n",
        "  return comment\n",
        " "
      ],
      "metadata": {
        "id": "OdreP-H_oHaS"
      },
      "execution_count": null,
      "outputs": []
    },
    {
      "cell_type": "code",
      "source": [
        "train_df['cleaned_comments_LSTM'] = train_df['comments'].apply(rem_html)\n",
        "val_df['cleaned_comments_LSTM'] = val_df['comments'].apply(rem_html)\n",
        "test_df['cleaned_comments_LSTM'] = test_df['comments'].apply(rem_html)"
      ],
      "metadata": {
        "id": "WifsE8tLiJ4x"
      },
      "execution_count": null,
      "outputs": []
    },
    {
      "cell_type": "markdown",
      "source": [
        "Correcting the Spelling. Incorrect spelling of a word would cause issues in identifying the correct embedding vector for a word (From the pretrained embedding vector)"
      ],
      "metadata": {
        "id": "hPI39WzLjk_M"
      }
    },
    {
      "cell_type": "code",
      "source": [
        "#### 7. Lets do a spell check and try to correct the spellings. Presence of incorrect spelling causes issues in identifying the correct embeddings\n",
        "########7.1 Install Jamspell\n",
        "!apt-get install swig3.0"
      ],
      "metadata": {
        "colab": {
          "base_uri": "https://localhost:8080/"
        },
        "id": "vInHq-hRkj89",
        "outputId": "0bdf1d5e-efcb-44fb-fb58-8932d9c33ccf"
      },
      "execution_count": null,
      "outputs": [
        {
          "output_type": "stream",
          "name": "stdout",
          "text": [
            "Reading package lists... Done\n",
            "Building dependency tree       \n",
            "Reading state information... Done\n",
            "swig3.0 is already the newest version (3.0.12-1).\n",
            "The following package was automatically installed and is no longer required:\n",
            "  libnvidia-common-460\n",
            "Use 'apt autoremove' to remove it.\n",
            "0 upgraded, 0 newly installed, 0 to remove and 27 not upgraded.\n"
          ]
        }
      ]
    },
    {
      "cell_type": "code",
      "source": [
        "!pip install jamspell "
      ],
      "metadata": {
        "colab": {
          "base_uri": "https://localhost:8080/"
        },
        "id": "2w8lJReBA3RO",
        "outputId": "5f9a77e6-f05a-4a21-b573-23eeef8a15ed"
      },
      "execution_count": null,
      "outputs": [
        {
          "output_type": "stream",
          "name": "stdout",
          "text": [
            "Looking in indexes: https://pypi.org/simple, https://us-python.pkg.dev/colab-wheels/public/simple/\n",
            "Requirement already satisfied: jamspell in /usr/local/lib/python3.7/dist-packages (0.0.12)\n"
          ]
        }
      ]
    },
    {
      "cell_type": "code",
      "source": [
        "### 7.2 This should be your working directory. Moving to my working drive\n",
        "%cd /content/drive/MyDrive/Milestone2_codes/"
      ],
      "metadata": {
        "colab": {
          "base_uri": "https://localhost:8080/"
        },
        "id": "1Owb1ef6BFgA",
        "outputId": "49005ef3-0cbc-42e9-905f-36d29274281f"
      },
      "execution_count": null,
      "outputs": [
        {
          "output_type": "stream",
          "name": "stdout",
          "text": [
            "/content/drive/MyDrive/Milestone2_codes\n"
          ]
        }
      ]
    },
    {
      "cell_type": "code",
      "source": [
        "import jamspell\n",
        "\n",
        "corrector = jamspell.TSpellCorrector()\n",
        "corrector.LoadLangModel('en.bin')"
      ],
      "metadata": {
        "colab": {
          "base_uri": "https://localhost:8080/"
        },
        "id": "3yxpbQjqH7qb",
        "outputId": "1ea67f46-426a-48c0-cdab-cdf0b478d5f1"
      },
      "execution_count": null,
      "outputs": [
        {
          "output_type": "execute_result",
          "data": {
            "text/plain": [
              "True"
            ]
          },
          "metadata": {},
          "execution_count": 15
        }
      ]
    },
    {
      "cell_type": "code",
      "source": [
        "########7.3 Apply spell check to each row. This takes around 6 min 35 sec\n",
        "def spell_check(comment):\n",
        "  corrected_spell = corrector.FixFragment(comment)\n",
        "  return corrected_spell"
      ],
      "metadata": {
        "id": "v1vKpYdMJCpV"
      },
      "execution_count": null,
      "outputs": []
    },
    {
      "cell_type": "code",
      "source": [
        "train_df['cleaned_comments_LSTM'] = train_df['cleaned_comments_LSTM'].apply(spell_check)\n",
        "val_df['cleaned_comments_LSTM'] = val_df['cleaned_comments_LSTM'].apply(spell_check)\n",
        "test_df['cleaned_comments_LSTM'] = test_df['cleaned_comments_LSTM'].apply(spell_check)"
      ],
      "metadata": {
        "id": "0BTRJxY-JNIV"
      },
      "execution_count": null,
      "outputs": []
    },
    {
      "cell_type": "markdown",
      "source": [
        "### Download the Pretrained Glove Word embedding model (trained by Stanford University)\n",
        "It has a vocabulary of 400K words and is trained on 6 Billion tokens"
      ],
      "metadata": {
        "id": "eg1-96Fklz1d"
      }
    },
    {
      "cell_type": "code",
      "source": [
        "#### Download the pre-trained GloVe word embedding model trained by Stanford University\n",
        "!wget http://nlp.stanford.edu/data/glove.6B.zip\n",
        "!unzip -q glove.6B.zip\n"
      ],
      "metadata": {
        "colab": {
          "base_uri": "https://localhost:8080/"
        },
        "id": "NtD1pduruNRW",
        "outputId": "f159ebfe-afd2-4707-c533-3084c5ae9d86"
      },
      "execution_count": null,
      "outputs": [
        {
          "output_type": "stream",
          "name": "stdout",
          "text": [
            "--2022-10-24 12:26:27--  http://nlp.stanford.edu/data/glove.6B.zip\n",
            "Resolving nlp.stanford.edu (nlp.stanford.edu)... 171.64.67.140\n",
            "Connecting to nlp.stanford.edu (nlp.stanford.edu)|171.64.67.140|:80... connected.\n",
            "HTTP request sent, awaiting response... 302 Found\n",
            "Location: https://nlp.stanford.edu/data/glove.6B.zip [following]\n",
            "--2022-10-24 12:26:27--  https://nlp.stanford.edu/data/glove.6B.zip\n",
            "Connecting to nlp.stanford.edu (nlp.stanford.edu)|171.64.67.140|:443... connected.\n",
            "HTTP request sent, awaiting response... 301 Moved Permanently\n",
            "Location: https://downloads.cs.stanford.edu/nlp/data/glove.6B.zip [following]\n",
            "--2022-10-24 12:26:27--  https://downloads.cs.stanford.edu/nlp/data/glove.6B.zip\n",
            "Resolving downloads.cs.stanford.edu (downloads.cs.stanford.edu)... 171.64.64.22\n",
            "Connecting to downloads.cs.stanford.edu (downloads.cs.stanford.edu)|171.64.64.22|:443... connected.\n",
            "HTTP request sent, awaiting response... 200 OK\n",
            "Length: 862182613 (822M) [application/zip]\n",
            "Saving to: ‘glove.6B.zip.10’\n",
            "\n",
            "glove.6B.zip.10     100%[===================>] 822.24M  5.00MB/s    in 2m 39s  \n",
            "\n",
            "2022-10-24 12:29:06 (5.17 MB/s) - ‘glove.6B.zip.10’ saved [862182613/862182613]\n",
            "\n",
            "replace glove.6B.50d.txt? [y]es, [n]o, [A]ll, [N]one, [r]ename: n\n",
            "replace glove.6B.100d.txt? [y]es, [n]o, [A]ll, [N]one, [r]ename: n\n",
            "replace glove.6B.200d.txt? [y]es, [n]o, [A]ll, [N]one, [r]ename: n\n",
            "replace glove.6B.300d.txt? [y]es, [n]o, [A]ll, [N]one, [r]ename: n\n"
          ]
        }
      ]
    },
    {
      "cell_type": "markdown",
      "source": [
        "The pretrained GloVe word embeddings has the option to use 50, 100, 200, 300 dimensional vectors. We tested different dimension vectors and finally choose to use the 300-D vectors. \n",
        "There are 400K words in the vocabulary "
      ],
      "metadata": {
        "id": "RCniT9m4nBa3"
      }
    },
    {
      "cell_type": "code",
      "source": [
        "## The archive contains 50, 100, 200 and 300 dimensional vectors. We will use the 300 dimensional vector\n",
        "embeddings_index = {}\n",
        "f = open('glove.6B.300d.txt')\n",
        "for line in f:\n",
        "    values = line.split()\n",
        "    word = values[0]\n",
        "    coefs = np.asarray(values[1:], dtype='float32')\n",
        "    embeddings_index[word] = coefs\n",
        "f.close()\n",
        "\n",
        "print('Found %s word vectors.' % len(embeddings_index))"
      ],
      "metadata": {
        "colab": {
          "base_uri": "https://localhost:8080/"
        },
        "id": "sbCPH0Ur7a5X",
        "outputId": "356c9066-9d30-4c7e-be89-f11aca602a89"
      },
      "execution_count": null,
      "outputs": [
        {
          "output_type": "stream",
          "name": "stdout",
          "text": [
            "Found 400000 word vectors.\n"
          ]
        }
      ]
    },
    {
      "cell_type": "code",
      "source": [
        "### Computing the average value of the embedding vector. Will come useful during imputations for words which are from outside the vocabulary\n",
        "avg_embedding_vector = sum(embeddings_index.values())/len(embeddings_index)  "
      ],
      "metadata": {
        "id": "Ram-Psduaf7K"
      },
      "execution_count": null,
      "outputs": []
    },
    {
      "cell_type": "code",
      "source": [
        "#### Tokenize the comments of the train data to create the Vocabulary. \n",
        "#### Please Note that tokenizer is fit only on the train_df. Word_index is a dictionary with each word of our vocabulary as the key\n",
        "\n",
        "tokenizer = Tokenizer(oov_token = '<OOV>') ### add a out of vocabulary token\n",
        "tokenizer.fit_on_texts(train_df['cleaned_comments_LSTM'])\n",
        "word_index = tokenizer.word_index"
      ],
      "metadata": {
        "id": "hM55dAdhNsuS"
      },
      "execution_count": null,
      "outputs": []
    },
    {
      "cell_type": "code",
      "source": [
        "### Lets check how many words in our vocabulary do not have a word embedding vector \n",
        "no_embedding_words = []\n",
        "for word, i in word_index.items():\n",
        "  try:\n",
        "    embedding_vector = embeddings_index[word]\n",
        "  except:\n",
        "    no_embedding_words.append(word)\n"
      ],
      "metadata": {
        "id": "61iFqmVOPS_H"
      },
      "execution_count": null,
      "outputs": []
    },
    {
      "cell_type": "code",
      "source": [
        "print('Total words in our training data vocabulary are {}'.format(len(word_index)))\n",
        "print('Words not present in our pretrained embedding matrix are {}'.format(len(no_embedding_words)))"
      ],
      "metadata": {
        "colab": {
          "base_uri": "https://localhost:8080/"
        },
        "id": "qKr0iljxPeoA",
        "outputId": "ad825b8c-4ed6-44fa-821d-2aab9f718d01"
      },
      "execution_count": null,
      "outputs": [
        {
          "output_type": "stream",
          "name": "stdout",
          "text": [
            "Total words in our training data vocabulary are 23595\n",
            "Words not present in our pretrained embedding matrix are 3204\n"
          ]
        }
      ]
    },
    {
      "cell_type": "code",
      "source": [
        "### An embedding matrix consisting of the 300-D embedding vector for each word in our training dataset \n",
        "### for words which don't have the embedding vector, we impute with the avg embedding vector\n",
        "embedding_matrix = np.zeros((len(word_index)+1,300))  ##Nishant: Update with Dimensions\n",
        "for word, i in word_index.items():\n",
        "  try:\n",
        "    embedding_vector = embeddings_index[word]\n",
        "  except:\n",
        "    embedding_vector = avg_embedding_vector\n",
        "  embedding_matrix[i] = embedding_vector\n",
        "  "
      ],
      "metadata": {
        "id": "fCGbvsAFbspi"
      },
      "execution_count": null,
      "outputs": []
    },
    {
      "cell_type": "code",
      "source": [
        "#### Tokenize each of the comments and convert to a list of sequences\n",
        "\n",
        "X_train = tokenizer.texts_to_sequences(train_df['cleaned_comments_LSTM'])\n",
        "X_val = tokenizer.texts_to_sequences(val_df['cleaned_comments_LSTM'])\n",
        "X_test = tokenizer.texts_to_sequences(test_df['cleaned_comments_LSTM'])\n",
        "\n",
        "print(X_train[0]) ### A list of word indexes\n"
      ],
      "metadata": {
        "id": "yvV-fkrofvLr",
        "colab": {
          "base_uri": "https://localhost:8080/"
        },
        "outputId": "00a87c03-ffcb-4ac6-cfd7-33ef631b2fca"
      },
      "execution_count": null,
      "outputs": [
        {
          "output_type": "stream",
          "name": "stdout",
          "text": [
            "[9, 25, 5, 251, 21, 8, 2, 427, 2, 180, 47, 207, 278, 3, 3754, 9, 6, 126, 4, 165, 15, 89, 9, 25, 434, 11, 138, 246, 138, 96, 408, 339, 947, 4, 151, 2, 537, 992, 7, 1197, 3, 9, 92, 151, 17, 37, 216, 90, 7, 83, 364, 3, 22, 45, 44, 22, 122, 13, 5, 282, 21, 200, 367, 452, 491, 168, 9, 69, 10, 4, 124, 1627, 3, 98, 1906, 21, 116, 86]\n"
          ]
        }
      ]
    },
    {
      "cell_type": "markdown",
      "source": [
        "For each sequence in our training data, find the 90th percentile of the sequence length. We can pad each of the sequences to the 90th percentile.\n",
        "Only the outlier sequences will get truncated"
      ],
      "metadata": {
        "id": "6oJ5FmkspZX_"
      }
    },
    {
      "cell_type": "code",
      "source": [
        "### Find the 90th percentile of the sequence length. We can pad each of the sequences to the 90th percentile sequence.\n",
        "### Some of the outlier sequences will get truncated\n",
        "\n",
        "arr_seq_length = np.array([len(x) for x in X_train])\n",
        "max_length = int(np.percentile(arr_seq_length, 90))\n",
        "print(max_length)"
      ],
      "metadata": {
        "colab": {
          "base_uri": "https://localhost:8080/"
        },
        "id": "Qg_ur2E6LTq7",
        "outputId": "843b3a6a-cab6-4138-8389-8c2cdaab965b"
      },
      "execution_count": null,
      "outputs": [
        {
          "output_type": "stream",
          "name": "stdout",
          "text": [
            "118\n"
          ]
        }
      ]
    },
    {
      "cell_type": "code",
      "source": [
        "#### Pad each of the sequences in each dataset to the max_length above\n",
        "X_train_padded = pad_sequences(X_train, maxlen = max_length, padding = 'post', truncating = 'post')\n",
        "X_val_padded = pad_sequences(X_val, maxlen = max_length, padding = 'post', truncating = 'post')\n",
        "X_test_padded = pad_sequences(X_test, maxlen = max_length, padding = 'post', truncating = 'post')"
      ],
      "metadata": {
        "id": "BcoizS4W_CzN"
      },
      "execution_count": null,
      "outputs": []
    },
    {
      "cell_type": "code",
      "source": [
        "#### Get the labels for each of the datasets\n",
        "y_train = train_df['label']\n",
        "y_val = val_df['label']\n",
        "y_test = test_df['label']"
      ],
      "metadata": {
        "id": "HLLDb_X5kAWn"
      },
      "execution_count": null,
      "outputs": []
    },
    {
      "cell_type": "markdown",
      "source": [
        "### Creating the layers of our Sequence model"
      ],
      "metadata": {
        "id": "b6EawfcDpy4v"
      }
    },
    {
      "cell_type": "code",
      "source": [
        "#### Create the embedding layer . We will use it in our Bidirectional LSTM model\n",
        "embedding_layer = Embedding(input_dim=len(word_index) + 1,\n",
        "                            output_dim=300,   #### since we are using a 300 dimensional embedding vector ##Nishant: Update with Dimensions\n",
        "                            weights=[embedding_matrix],\n",
        "                            input_length = max_length,\n",
        "                            trainable=False)"
      ],
      "metadata": {
        "id": "utMtDwd1lMaC"
      },
      "execution_count": null,
      "outputs": []
    },
    {
      "cell_type": "markdown",
      "source": [
        "#### Using the Keras Sequential API to build the model"
      ],
      "metadata": {
        "id": "02pnZi6Kp5EF"
      }
    },
    {
      "cell_type": "code",
      "source": [
        "model = Sequential([\n",
        "    embedding_layer,\n",
        "    Bidirectional(LSTM(100, return_sequences=True)), \n",
        "    Bidirectional(LSTM(100)),\n",
        "    Dense(128, activation='relu'),\n",
        "   Dense(3, activation='softmax')\n",
        "])"
      ],
      "metadata": {
        "id": "vPm-DWcJoSSP"
      },
      "execution_count": null,
      "outputs": []
    },
    {
      "cell_type": "code",
      "source": [
        "model.compile(loss= 'sparse_categorical_crossentropy',optimizer='adam',metrics=  ['accuracy'])"
      ],
      "metadata": {
        "id": "lkWPXADQ3zSu"
      },
      "execution_count": null,
      "outputs": []
    },
    {
      "cell_type": "code",
      "source": [
        "model.summary()"
      ],
      "metadata": {
        "colab": {
          "base_uri": "https://localhost:8080/"
        },
        "id": "TvN4Y0a_dMxz",
        "outputId": "84a03bea-b5f1-412e-88f4-4c36be848447"
      },
      "execution_count": null,
      "outputs": [
        {
          "output_type": "stream",
          "name": "stdout",
          "text": [
            "Model: \"sequential\"\n",
            "_________________________________________________________________\n",
            " Layer (type)                Output Shape              Param #   \n",
            "=================================================================\n",
            " embedding (Embedding)       (None, 118, 300)          7078800   \n",
            "                                                                 \n",
            " bidirectional (Bidirectiona  (None, 118, 200)         320800    \n",
            " l)                                                              \n",
            "                                                                 \n",
            " bidirectional_1 (Bidirectio  (None, 200)              240800    \n",
            " nal)                                                            \n",
            "                                                                 \n",
            " dense (Dense)               (None, 128)               25728     \n",
            "                                                                 \n",
            " dense_1 (Dense)             (None, 3)                 387       \n",
            "                                                                 \n",
            "=================================================================\n",
            "Total params: 7,666,515\n",
            "Trainable params: 587,715\n",
            "Non-trainable params: 7,078,800\n",
            "_________________________________________________________________\n"
          ]
        }
      ]
    },
    {
      "cell_type": "code",
      "source": [
        "### Running the model every single time is very time consuming and hence I am saving the model weights + architecture\n",
        "#chk = ModelCheckpoint(filepath = 'entire_model', frequency = 'epoch', save_weight_only = False)"
      ],
      "metadata": {
        "id": "N81-UNsk7kft"
      },
      "execution_count": null,
      "outputs": []
    },
    {
      "cell_type": "code",
      "source": [
        "history = model.fit(X_train_padded,y_train, validation_data = (X_val_padded, y_val), epochs= 5, batch_size = 32)"
      ],
      "metadata": {
        "colab": {
          "base_uri": "https://localhost:8080/"
        },
        "id": "36By52Oe4bfN",
        "outputId": "cf5d9c15-09c9-4a80-b584-9bab95a6f95c"
      },
      "execution_count": null,
      "outputs": [
        {
          "output_type": "stream",
          "name": "stdout",
          "text": [
            "Epoch 1/5\n",
            "1214/1214 [==============================] - 826s 673ms/step - loss: 0.3366 - accuracy: 0.8790 - val_loss: 0.2692 - val_accuracy: 0.9088\n",
            "Epoch 2/5\n",
            "1214/1214 [==============================] - 853s 703ms/step - loss: 0.2309 - accuracy: 0.9219 - val_loss: 0.2059 - val_accuracy: 0.9322\n",
            "Epoch 3/5\n",
            "1214/1214 [==============================] - 822s 677ms/step - loss: 0.1910 - accuracy: 0.9365 - val_loss: 0.1951 - val_accuracy: 0.9370\n",
            "Epoch 4/5\n",
            "1214/1214 [==============================] - 811s 668ms/step - loss: 0.1635 - accuracy: 0.9455 - val_loss: 0.1773 - val_accuracy: 0.9390\n",
            "Epoch 5/5\n",
            "1214/1214 [==============================] - 812s 669ms/step - loss: 0.1386 - accuracy: 0.9536 - val_loss: 0.1813 - val_accuracy: 0.9390\n"
          ]
        }
      ]
    },
    {
      "cell_type": "markdown",
      "source": [
        "#### Testing the model performance on the Test data.\n",
        "This step is run finally after the hyperparameter tuning is complete"
      ],
      "metadata": {
        "id": "dcfM-qTfq15U"
      }
    },
    {
      "cell_type": "code",
      "source": [
        "#### Checking the Cross entropy loss and accuracy on the Test data\n",
        "loss, accuracy = model.evaluate(X_test_padded, y_test)"
      ],
      "metadata": {
        "colab": {
          "base_uri": "https://localhost:8080/"
        },
        "id": "w3j3rALk5dye",
        "outputId": "ba5698b8-9579-4a40-96b1-0df67bf4f990"
      },
      "execution_count": null,
      "outputs": [
        {
          "output_type": "stream",
          "name": "stdout",
          "text": [
            "152/152 [==============================] - 36s 239ms/step - loss: 0.1900 - accuracy: 0.9407\n"
          ]
        }
      ]
    },
    {
      "cell_type": "markdown",
      "source": [
        "#### Creating the Confusion matrix "
      ],
      "metadata": {
        "id": "tUJCFcCKrH5F"
      }
    },
    {
      "cell_type": "code",
      "source": [
        "y_pred = model.predict(X_test_padded)"
      ],
      "metadata": {
        "colab": {
          "base_uri": "https://localhost:8080/"
        },
        "id": "FFEhvnSggrx5",
        "outputId": "fbe727dc-049a-43a8-9c32-9e7c9fba5f2e"
      },
      "execution_count": null,
      "outputs": [
        {
          "output_type": "stream",
          "name": "stdout",
          "text": [
            "152/152 [==============================] - 33s 208ms/step\n"
          ]
        }
      ]
    },
    {
      "cell_type": "code",
      "source": [
        "y_pred_final = tf.convert_to_tensor([np.argmax(y_pred[i]) for i in range(len(y_pred))])"
      ],
      "metadata": {
        "id": "tfNT9v7N4A3N"
      },
      "execution_count": null,
      "outputs": []
    },
    {
      "cell_type": "code",
      "source": [
        "y_orig = tf.convert_to_tensor(y_test)"
      ],
      "metadata": {
        "id": "ewdkuNDWTNjx"
      },
      "execution_count": null,
      "outputs": []
    },
    {
      "cell_type": "code",
      "source": [
        "### Creating the confusion matrix\n",
        "confusion = tf.math.confusion_matrix(labels=y_orig, predictions= y_pred_final)"
      ],
      "metadata": {
        "id": "YouP7df6TPon"
      },
      "execution_count": null,
      "outputs": []
    },
    {
      "cell_type": "code",
      "source": [
        "print(confusion)"
      ],
      "metadata": {
        "colab": {
          "base_uri": "https://localhost:8080/"
        },
        "id": "FyXPTMP4ZRWw",
        "outputId": "2356ea16-f425-4789-e7dc-9a0bd34692db"
      },
      "execution_count": null,
      "outputs": [
        {
          "output_type": "stream",
          "name": "stdout",
          "text": [
            "tf.Tensor(\n",
            "[[1526   25   10]\n",
            " [  97 1534   54]\n",
            " [  79   23 1508]], shape=(3, 3), dtype=int32)\n"
          ]
        }
      ]
    },
    {
      "cell_type": "markdown",
      "source": [
        "#### Plotting the cross entropy loss and Accuracy for the Train and Val samples "
      ],
      "metadata": {
        "id": "7R_amGFRakN-"
      }
    },
    {
      "cell_type": "code",
      "source": [
        "\n",
        "df = pd.DataFrame(history.history)\n",
        "display(df)"
      ],
      "metadata": {
        "colab": {
          "base_uri": "https://localhost:8080/",
          "height": 206
        },
        "id": "zl4B5pEecMji",
        "outputId": "88715f67-db9e-4194-a4a0-0bb888c08175"
      },
      "execution_count": null,
      "outputs": [
        {
          "output_type": "display_data",
          "data": {
            "text/plain": [
              "       loss  accuracy  val_loss  val_accuracy\n",
              "0  0.336609  0.878952  0.269191      0.908754\n",
              "1  0.230915  0.921867  0.205857      0.932235\n",
              "2  0.191001  0.936464  0.195140      0.936972\n",
              "3  0.163487  0.945474  0.177257      0.939032\n",
              "4  0.138617  0.953609  0.181297      0.939032"
            ],
            "text/html": [
              "\n",
              "  <div id=\"df-0fd7c837-99b8-4163-bded-d08c26837590\">\n",
              "    <div class=\"colab-df-container\">\n",
              "      <div>\n",
              "<style scoped>\n",
              "    .dataframe tbody tr th:only-of-type {\n",
              "        vertical-align: middle;\n",
              "    }\n",
              "\n",
              "    .dataframe tbody tr th {\n",
              "        vertical-align: top;\n",
              "    }\n",
              "\n",
              "    .dataframe thead th {\n",
              "        text-align: right;\n",
              "    }\n",
              "</style>\n",
              "<table border=\"1\" class=\"dataframe\">\n",
              "  <thead>\n",
              "    <tr style=\"text-align: right;\">\n",
              "      <th></th>\n",
              "      <th>loss</th>\n",
              "      <th>accuracy</th>\n",
              "      <th>val_loss</th>\n",
              "      <th>val_accuracy</th>\n",
              "    </tr>\n",
              "  </thead>\n",
              "  <tbody>\n",
              "    <tr>\n",
              "      <th>0</th>\n",
              "      <td>0.336609</td>\n",
              "      <td>0.878952</td>\n",
              "      <td>0.269191</td>\n",
              "      <td>0.908754</td>\n",
              "    </tr>\n",
              "    <tr>\n",
              "      <th>1</th>\n",
              "      <td>0.230915</td>\n",
              "      <td>0.921867</td>\n",
              "      <td>0.205857</td>\n",
              "      <td>0.932235</td>\n",
              "    </tr>\n",
              "    <tr>\n",
              "      <th>2</th>\n",
              "      <td>0.191001</td>\n",
              "      <td>0.936464</td>\n",
              "      <td>0.195140</td>\n",
              "      <td>0.936972</td>\n",
              "    </tr>\n",
              "    <tr>\n",
              "      <th>3</th>\n",
              "      <td>0.163487</td>\n",
              "      <td>0.945474</td>\n",
              "      <td>0.177257</td>\n",
              "      <td>0.939032</td>\n",
              "    </tr>\n",
              "    <tr>\n",
              "      <th>4</th>\n",
              "      <td>0.138617</td>\n",
              "      <td>0.953609</td>\n",
              "      <td>0.181297</td>\n",
              "      <td>0.939032</td>\n",
              "    </tr>\n",
              "  </tbody>\n",
              "</table>\n",
              "</div>\n",
              "      <button class=\"colab-df-convert\" onclick=\"convertToInteractive('df-0fd7c837-99b8-4163-bded-d08c26837590')\"\n",
              "              title=\"Convert this dataframe to an interactive table.\"\n",
              "              style=\"display:none;\">\n",
              "        \n",
              "  <svg xmlns=\"http://www.w3.org/2000/svg\" height=\"24px\"viewBox=\"0 0 24 24\"\n",
              "       width=\"24px\">\n",
              "    <path d=\"M0 0h24v24H0V0z\" fill=\"none\"/>\n",
              "    <path d=\"M18.56 5.44l.94 2.06.94-2.06 2.06-.94-2.06-.94-.94-2.06-.94 2.06-2.06.94zm-11 1L8.5 8.5l.94-2.06 2.06-.94-2.06-.94L8.5 2.5l-.94 2.06-2.06.94zm10 10l.94 2.06.94-2.06 2.06-.94-2.06-.94-.94-2.06-.94 2.06-2.06.94z\"/><path d=\"M17.41 7.96l-1.37-1.37c-.4-.4-.92-.59-1.43-.59-.52 0-1.04.2-1.43.59L10.3 9.45l-7.72 7.72c-.78.78-.78 2.05 0 2.83L4 21.41c.39.39.9.59 1.41.59.51 0 1.02-.2 1.41-.59l7.78-7.78 2.81-2.81c.8-.78.8-2.07 0-2.86zM5.41 20L4 18.59l7.72-7.72 1.47 1.35L5.41 20z\"/>\n",
              "  </svg>\n",
              "      </button>\n",
              "      \n",
              "  <style>\n",
              "    .colab-df-container {\n",
              "      display:flex;\n",
              "      flex-wrap:wrap;\n",
              "      gap: 12px;\n",
              "    }\n",
              "\n",
              "    .colab-df-convert {\n",
              "      background-color: #E8F0FE;\n",
              "      border: none;\n",
              "      border-radius: 50%;\n",
              "      cursor: pointer;\n",
              "      display: none;\n",
              "      fill: #1967D2;\n",
              "      height: 32px;\n",
              "      padding: 0 0 0 0;\n",
              "      width: 32px;\n",
              "    }\n",
              "\n",
              "    .colab-df-convert:hover {\n",
              "      background-color: #E2EBFA;\n",
              "      box-shadow: 0px 1px 2px rgba(60, 64, 67, 0.3), 0px 1px 3px 1px rgba(60, 64, 67, 0.15);\n",
              "      fill: #174EA6;\n",
              "    }\n",
              "\n",
              "    [theme=dark] .colab-df-convert {\n",
              "      background-color: #3B4455;\n",
              "      fill: #D2E3FC;\n",
              "    }\n",
              "\n",
              "    [theme=dark] .colab-df-convert:hover {\n",
              "      background-color: #434B5C;\n",
              "      box-shadow: 0px 1px 3px 1px rgba(0, 0, 0, 0.15);\n",
              "      filter: drop-shadow(0px 1px 2px rgba(0, 0, 0, 0.3));\n",
              "      fill: #FFFFFF;\n",
              "    }\n",
              "  </style>\n",
              "\n",
              "      <script>\n",
              "        const buttonEl =\n",
              "          document.querySelector('#df-0fd7c837-99b8-4163-bded-d08c26837590 button.colab-df-convert');\n",
              "        buttonEl.style.display =\n",
              "          google.colab.kernel.accessAllowed ? 'block' : 'none';\n",
              "\n",
              "        async function convertToInteractive(key) {\n",
              "          const element = document.querySelector('#df-0fd7c837-99b8-4163-bded-d08c26837590');\n",
              "          const dataTable =\n",
              "            await google.colab.kernel.invokeFunction('convertToInteractive',\n",
              "                                                     [key], {});\n",
              "          if (!dataTable) return;\n",
              "\n",
              "          const docLinkHtml = 'Like what you see? Visit the ' +\n",
              "            '<a target=\"_blank\" href=https://colab.research.google.com/notebooks/data_table.ipynb>data table notebook</a>'\n",
              "            + ' to learn more about interactive tables.';\n",
              "          element.innerHTML = '';\n",
              "          dataTable['output_type'] = 'display_data';\n",
              "          await google.colab.output.renderOutput(dataTable, element);\n",
              "          const docLink = document.createElement('div');\n",
              "          docLink.innerHTML = docLinkHtml;\n",
              "          element.appendChild(docLink);\n",
              "        }\n",
              "      </script>\n",
              "    </div>\n",
              "  </div>\n",
              "  "
            ]
          },
          "metadata": {}
        }
      ]
    },
    {
      "cell_type": "code",
      "source": [
        "df['epochs'] = df.index + 1\n",
        "df['epochs'] = df['epochs'].apply(str)\n",
        "display(df)"
      ],
      "metadata": {
        "colab": {
          "base_uri": "https://localhost:8080/",
          "height": 206
        },
        "id": "AQRaref2cO6m",
        "outputId": "ba56aa9a-77ed-45ff-f2cc-984573ad1927"
      },
      "execution_count": null,
      "outputs": [
        {
          "output_type": "display_data",
          "data": {
            "text/plain": [
              "       loss  accuracy  val_loss  val_accuracy epochs\n",
              "0  0.336609  0.878952  0.269191      0.908754      1\n",
              "1  0.230915  0.921867  0.205857      0.932235      2\n",
              "2  0.191001  0.936464  0.195140      0.936972      3\n",
              "3  0.163487  0.945474  0.177257      0.939032      4\n",
              "4  0.138617  0.953609  0.181297      0.939032      5"
            ],
            "text/html": [
              "\n",
              "  <div id=\"df-7f0b32ca-e6d0-4be0-a6dd-29669eb8857c\">\n",
              "    <div class=\"colab-df-container\">\n",
              "      <div>\n",
              "<style scoped>\n",
              "    .dataframe tbody tr th:only-of-type {\n",
              "        vertical-align: middle;\n",
              "    }\n",
              "\n",
              "    .dataframe tbody tr th {\n",
              "        vertical-align: top;\n",
              "    }\n",
              "\n",
              "    .dataframe thead th {\n",
              "        text-align: right;\n",
              "    }\n",
              "</style>\n",
              "<table border=\"1\" class=\"dataframe\">\n",
              "  <thead>\n",
              "    <tr style=\"text-align: right;\">\n",
              "      <th></th>\n",
              "      <th>loss</th>\n",
              "      <th>accuracy</th>\n",
              "      <th>val_loss</th>\n",
              "      <th>val_accuracy</th>\n",
              "      <th>epochs</th>\n",
              "    </tr>\n",
              "  </thead>\n",
              "  <tbody>\n",
              "    <tr>\n",
              "      <th>0</th>\n",
              "      <td>0.336609</td>\n",
              "      <td>0.878952</td>\n",
              "      <td>0.269191</td>\n",
              "      <td>0.908754</td>\n",
              "      <td>1</td>\n",
              "    </tr>\n",
              "    <tr>\n",
              "      <th>1</th>\n",
              "      <td>0.230915</td>\n",
              "      <td>0.921867</td>\n",
              "      <td>0.205857</td>\n",
              "      <td>0.932235</td>\n",
              "      <td>2</td>\n",
              "    </tr>\n",
              "    <tr>\n",
              "      <th>2</th>\n",
              "      <td>0.191001</td>\n",
              "      <td>0.936464</td>\n",
              "      <td>0.195140</td>\n",
              "      <td>0.936972</td>\n",
              "      <td>3</td>\n",
              "    </tr>\n",
              "    <tr>\n",
              "      <th>3</th>\n",
              "      <td>0.163487</td>\n",
              "      <td>0.945474</td>\n",
              "      <td>0.177257</td>\n",
              "      <td>0.939032</td>\n",
              "      <td>4</td>\n",
              "    </tr>\n",
              "    <tr>\n",
              "      <th>4</th>\n",
              "      <td>0.138617</td>\n",
              "      <td>0.953609</td>\n",
              "      <td>0.181297</td>\n",
              "      <td>0.939032</td>\n",
              "      <td>5</td>\n",
              "    </tr>\n",
              "  </tbody>\n",
              "</table>\n",
              "</div>\n",
              "      <button class=\"colab-df-convert\" onclick=\"convertToInteractive('df-7f0b32ca-e6d0-4be0-a6dd-29669eb8857c')\"\n",
              "              title=\"Convert this dataframe to an interactive table.\"\n",
              "              style=\"display:none;\">\n",
              "        \n",
              "  <svg xmlns=\"http://www.w3.org/2000/svg\" height=\"24px\"viewBox=\"0 0 24 24\"\n",
              "       width=\"24px\">\n",
              "    <path d=\"M0 0h24v24H0V0z\" fill=\"none\"/>\n",
              "    <path d=\"M18.56 5.44l.94 2.06.94-2.06 2.06-.94-2.06-.94-.94-2.06-.94 2.06-2.06.94zm-11 1L8.5 8.5l.94-2.06 2.06-.94-2.06-.94L8.5 2.5l-.94 2.06-2.06.94zm10 10l.94 2.06.94-2.06 2.06-.94-2.06-.94-.94-2.06-.94 2.06-2.06.94z\"/><path d=\"M17.41 7.96l-1.37-1.37c-.4-.4-.92-.59-1.43-.59-.52 0-1.04.2-1.43.59L10.3 9.45l-7.72 7.72c-.78.78-.78 2.05 0 2.83L4 21.41c.39.39.9.59 1.41.59.51 0 1.02-.2 1.41-.59l7.78-7.78 2.81-2.81c.8-.78.8-2.07 0-2.86zM5.41 20L4 18.59l7.72-7.72 1.47 1.35L5.41 20z\"/>\n",
              "  </svg>\n",
              "      </button>\n",
              "      \n",
              "  <style>\n",
              "    .colab-df-container {\n",
              "      display:flex;\n",
              "      flex-wrap:wrap;\n",
              "      gap: 12px;\n",
              "    }\n",
              "\n",
              "    .colab-df-convert {\n",
              "      background-color: #E8F0FE;\n",
              "      border: none;\n",
              "      border-radius: 50%;\n",
              "      cursor: pointer;\n",
              "      display: none;\n",
              "      fill: #1967D2;\n",
              "      height: 32px;\n",
              "      padding: 0 0 0 0;\n",
              "      width: 32px;\n",
              "    }\n",
              "\n",
              "    .colab-df-convert:hover {\n",
              "      background-color: #E2EBFA;\n",
              "      box-shadow: 0px 1px 2px rgba(60, 64, 67, 0.3), 0px 1px 3px 1px rgba(60, 64, 67, 0.15);\n",
              "      fill: #174EA6;\n",
              "    }\n",
              "\n",
              "    [theme=dark] .colab-df-convert {\n",
              "      background-color: #3B4455;\n",
              "      fill: #D2E3FC;\n",
              "    }\n",
              "\n",
              "    [theme=dark] .colab-df-convert:hover {\n",
              "      background-color: #434B5C;\n",
              "      box-shadow: 0px 1px 3px 1px rgba(0, 0, 0, 0.15);\n",
              "      filter: drop-shadow(0px 1px 2px rgba(0, 0, 0, 0.3));\n",
              "      fill: #FFFFFF;\n",
              "    }\n",
              "  </style>\n",
              "\n",
              "      <script>\n",
              "        const buttonEl =\n",
              "          document.querySelector('#df-7f0b32ca-e6d0-4be0-a6dd-29669eb8857c button.colab-df-convert');\n",
              "        buttonEl.style.display =\n",
              "          google.colab.kernel.accessAllowed ? 'block' : 'none';\n",
              "\n",
              "        async function convertToInteractive(key) {\n",
              "          const element = document.querySelector('#df-7f0b32ca-e6d0-4be0-a6dd-29669eb8857c');\n",
              "          const dataTable =\n",
              "            await google.colab.kernel.invokeFunction('convertToInteractive',\n",
              "                                                     [key], {});\n",
              "          if (!dataTable) return;\n",
              "\n",
              "          const docLinkHtml = 'Like what you see? Visit the ' +\n",
              "            '<a target=\"_blank\" href=https://colab.research.google.com/notebooks/data_table.ipynb>data table notebook</a>'\n",
              "            + ' to learn more about interactive tables.';\n",
              "          element.innerHTML = '';\n",
              "          dataTable['output_type'] = 'display_data';\n",
              "          await google.colab.output.renderOutput(dataTable, element);\n",
              "          const docLink = document.createElement('div');\n",
              "          docLink.innerHTML = docLinkHtml;\n",
              "          element.appendChild(docLink);\n",
              "        }\n",
              "      </script>\n",
              "    </div>\n",
              "  </div>\n",
              "  "
            ]
          },
          "metadata": {}
        }
      ]
    },
    {
      "cell_type": "code",
      "source": [
        "### Plot the graphs\n",
        "fig, ax = plt.subplots(1,2, figsize = (10,5))\n",
        "ax[0].plot(df['epochs'], df['loss'], color = '#FF5A5F')\n",
        "ax[0].plot(df['epochs'], df['val_loss'], color = '#00A699')\n",
        "ax[0].legend(['train loss', 'validation loss'])\n",
        "ax[0].set(xlabel=\"Epoch number\", ylabel=\"Cross Entropy Loss\")\n",
        "ax[0].set_title('Loss Vs Epoch')\n",
        "\n",
        "ax[1].plot(df['epochs'],df['accuracy'],color = '#FF5A5F')\n",
        "ax[1].plot(df['epochs'], df['val_accuracy'],color = '#00A699')\n",
        "ax[1].legend(['train accuracy', 'validation accuracy'])\n",
        "ax[1].set(xlabel=\"Epoch number\", ylabel=\"Accuracy\")\n",
        "ax[1].set_title('Accuracy Vs Epoch')\n",
        "\n",
        "fig.suptitle('Loss and Accuracy for Train and Validation sample with each epoch', fontsize = 15, fontweight = 'bold', y = 1.05)\n",
        "fig.tight_layout()\n",
        "plt.show()"
      ],
      "metadata": {
        "colab": {
          "base_uri": "https://localhost:8080/",
          "height": 398
        },
        "id": "Ks5J2WNMcOKS",
        "outputId": "e31de82d-33d8-4242-b25e-95f522dcd6b7"
      },
      "execution_count": null,
      "outputs": [
        {
          "output_type": "display_data",
          "data": {
            "text/plain": [
              "<Figure size 720x360 with 2 Axes>"
            ],
            "image/png": "[encoded data removed]"
          },
          "metadata": {
            "needs_background": "light"
          }
        }
      ]
    },
    {
      "cell_type": "markdown",
      "source": [
        "#### Failure Analysis: Look at some of the incorrect predictions to explore possible reasons for the wrong prediction"
      ],
      "metadata": {
        "id": "iX-P_xM5y-mf"
      }
    },
    {
      "cell_type": "code",
      "source": [
        "### Get the predicted flag for the test data and merge it to the test dataframe\n",
        "y_pred = [np.argmax(y_pred[i]) for i in range(len(y_pred))]\n",
        "\n",
        "test_df['predicted_label'] = y_pred\n",
        "\n",
        "\n",
        "\n"
      ],
      "metadata": {
        "id": "diURK-UEy9PB"
      },
      "execution_count": null,
      "outputs": []
    },
    {
      "cell_type": "code",
      "source": [
        "####Lets look at some positive feedbacks which were wrongly predicted as negative\n",
        "positive_wrong_pred = test_df[(test_df.label == 2) & (test_df.predicted_label != 2)][['cleaned_comments_LSTM','predicted_label']]\n",
        "positive_wrong_pred.to_csv('wrong_preds.csv')\n"
      ],
      "metadata": {
        "id": "PrNt8kXcjjvR"
      },
      "execution_count": null,
      "outputs": []
    },
    {
      "cell_type": "code",
      "source": [
        "####Lets look at some negative feedbacks which were wrongly predicted as positive\n",
        "negative_wrong_pred = test_df[(test_df.label == 0) & (test_df.predicted_label == 2)][['cleaned_comments_LSTM','predicted_label']]\n",
        "negative_wrong_pred.to_csv('wrong_preds_negative.csv')\n"
      ],
      "metadata": {
        "id": "-C5nCNTrrmRM"
      },
      "execution_count": null,
      "outputs": []
    },
    {
      "cell_type": "markdown",
      "source": [
        "### End of Deep Learning code"
      ],
      "metadata": {
        "id": "ESk_GEB07amP"
      }
    },
    {
      "cell_type": "code",
      "source": [],
      "metadata": {
        "id": "WDt7x3hd7dCy"
      },
      "execution_count": null,
      "outputs": []
    }
  ]
}