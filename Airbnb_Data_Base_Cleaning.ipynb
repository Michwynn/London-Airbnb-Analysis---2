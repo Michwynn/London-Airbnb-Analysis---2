{
  "nbformat": 4,
  "nbformat_minor": 0,
  "metadata": {
    "colab": {
      "provenance": [],
      "authorship_tag": "ABX9TyP6Oc+CIaH6EJe/0phqxQZh",
      "include_colab_link": true
    },
    "kernelspec": {
      "name": "python3",
      "display_name": "Python 3"
    },
    "language_info": {
      "name": "python"
    }
  },
  "cells": [
    {
      "cell_type": "markdown",
      "metadata": {
        "id": "view-in-github",
        "colab_type": "text"
      },
      "source": [
        "<a href=\"https://colab.research.google.com/github/Michwynn/London-Airbnb-Analysis---2/blob/Elias/Airbnb_Data_Base_Cleaning.ipynb\" target=\"_parent\"><img src=\"https://colab.research.google.com/assets/colab-badge.svg\" alt=\"Open In Colab\"/></a>"
      ]
    },
    {
      "cell_type": "markdown",
      "source": [
        "**Configuration and library set-up**"
      ],
      "metadata": {
        "id": "zyD3xiWOoDKx"
      }
    },
    {
      "cell_type": "code",
      "execution_count": 1,
      "metadata": {
        "id": "9gQSFoP-jWeO",
        "colab": {
          "base_uri": "https://localhost:8080/"
        },
        "outputId": "8d3a8c1c-bf7f-45bb-8006-a85c0195177f"
      },
      "outputs": [
        {
          "output_type": "stream",
          "name": "stdout",
          "text": [
            "Mounted at /content/drive\n",
            "/content/drive/.shortcut-targets-by-id/1wUOfFY-ki2nFzneeaTtXLEeMjaSdKrrj/Airbnb_Milestone2\n"
          ]
        }
      ],
      "source": [
        "# data manipulation\n",
        "import pandas as pd\n",
        "import numpy as np \n",
        "import re # regex\n",
        "import random\n",
        "from collections import Counter, defaultdict\n",
        "\n",
        "# machine learning\n",
        "from sklearn.dummy import DummyClassifier\n",
        "from sklearn.feature_extraction.text import TfidfVectorizer\n",
        "from sklearn.linear_model import LogisticRegression\n",
        "from sklearn.metrics import f1_score\n",
        "from sklearn.model_selection import train_test_split\n",
        "\n",
        "# timeit\n",
        "from tqdm import tqdm\n",
        "\n",
        "# data visualisation\n",
        "import altair as alt\n",
        "import seaborn as sns\n",
        "import matplotlib.pyplot as plt\n",
        "from matplotlib.pyplot import figure\n",
        "\n",
        "# set up working directory\n",
        "import os\n",
        "from google.colab import drive\n",
        "drive.mount('/content/drive')\n",
        "%cd /content/drive/My Drive/Airbnb_Milestone2\n",
        "\n",
        "# supress warnings\n",
        "import warnings \n",
        "warnings.filterwarnings('ignore')\n",
        "\n",
        "# Display all columns\n",
        "pd.set_option('display.max_columns', None)"
      ]
    },
    {
      "cell_type": "code",
      "source": [],
      "metadata": {
        "id": "LgmD66kkoXjD"
      },
      "execution_count": null,
      "outputs": []
    }
  ]
}