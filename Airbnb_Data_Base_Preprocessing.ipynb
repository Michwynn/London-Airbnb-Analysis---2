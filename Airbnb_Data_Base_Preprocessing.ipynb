{
  "nbformat": 4,
  "nbformat_minor": 0,
  "metadata": {
    "colab": {
      "provenance": [],
      "collapsed_sections": [],
      "authorship_tag": "ABX9TyP4VTDV5fmrZrk1HZkjZAKH",
      "include_colab_link": true
    },
    "kernelspec": {
      "name": "python3",
      "display_name": "Python 3"
    },
    "language_info": {
      "name": "python"
    }
  },
  "cells": [
    {
      "cell_type": "markdown",
      "metadata": {
        "id": "view-in-github",
        "colab_type": "text"
      },
      "source": [
        "<a href=\"https://colab.research.google.com/github/Michwynn/London-Airbnb-Analysis---2/blob/Elias/Airbnb_Data_Base_Preprocessing.ipynb\" target=\"_parent\"><img src=\"https://colab.research.google.com/assets/colab-badge.svg\" alt=\"Open In Colab\"/></a>"
      ]
    },
    {
      "cell_type": "markdown",
      "source": [
        "# **Configuration and library set-up**"
      ],
      "metadata": {
        "id": "zyD3xiWOoDKx"
      }
    },
    {
      "cell_type": "code",
      "execution_count": 30,
      "metadata": {
        "id": "9gQSFoP-jWeO",
        "colab": {
          "base_uri": "https://localhost:8080/"
        },
        "outputId": "3648f770-0314-49c9-c484-9bea2b0c8132"
      },
      "outputs": [
        {
          "output_type": "stream",
          "name": "stderr",
          "text": [
            "[nltk_data] Downloading package stopwords to /root/nltk_data...\n",
            "[nltk_data]   Package stopwords is already up-to-date!\n",
            "[nltk_data] Downloading package punkt to /root/nltk_data...\n",
            "[nltk_data]   Package punkt is already up-to-date!\n",
            "[nltk_data] Downloading package wordnet to /root/nltk_data...\n",
            "[nltk_data]   Package wordnet is already up-to-date!\n",
            "[nltk_data] Downloading package omw-1.4 to /root/nltk_data...\n",
            "[nltk_data]   Package omw-1.4 is already up-to-date!\n"
          ]
        },
        {
          "output_type": "stream",
          "name": "stdout",
          "text": [
            "Drive already mounted at /content/drive; to attempt to forcibly remount, call drive.mount(\"/content/drive\", force_remount=True).\n",
            "/content/drive/.shortcut-targets-by-id/1wUOfFY-ki2nFzneeaTtXLEeMjaSdKrrj/Airbnb_Milestone2\n",
            "Looking in indexes: https://pypi.org/simple, https://us-python.pkg.dev/colab-wheels/public/simple/\n",
            "Requirement already satisfied: pycld2 in /usr/local/lib/python3.7/dist-packages (0.41)\n"
          ]
        }
      ],
      "source": [
        "# data manipulation\n",
        "import pandas as pd\n",
        "import numpy as np \n",
        "import re # regex\n",
        "import random\n",
        "import string\n",
        "from collections import Counter, defaultdict\n",
        "\n",
        "pattern = '\\w+' # setting regex pattern\n",
        "\n",
        "import nltk\n",
        "from nltk.corpus import stopwords\n",
        "nltk.download('stopwords') # comment out if already downloaded\n",
        "stop_words = set(stopwords.words('english'))\n",
        "nltk.download('punkt')     # comment out if already downloaded\n",
        "nltk.download('wordnet')\n",
        "nltk.download('omw-1.4')\n",
        "from nltk.tokenize import word_tokenize\n",
        "from nltk.stem import PorterStemmer\n",
        "from nltk.stem.wordnet import WordNetLemmatizer\n",
        "\n",
        "\n",
        "# machine learning\n",
        "from sklearn.dummy import DummyClassifier\n",
        "from sklearn.feature_extraction.text import TfidfVectorizer\n",
        "from sklearn.linear_model import LogisticRegression\n",
        "from sklearn.metrics import f1_score\n",
        "from sklearn.model_selection import train_test_split\n",
        "\n",
        "# timeit\n",
        "from tqdm import tqdm\n",
        "\n",
        "# data visualisation\n",
        "import altair as alt\n",
        "import seaborn as sns\n",
        "import matplotlib.pyplot as plt\n",
        "from matplotlib.pyplot import figure\n",
        "\n",
        "# set up working directory\n",
        "import os\n",
        "from google.colab import drive\n",
        "drive.mount('/content/drive')\n",
        "%cd /content/drive/My Drive/Airbnb_Milestone2\n",
        "\n",
        "# supress warnings\n",
        "import warnings \n",
        "warnings.filterwarnings('ignore')\n",
        "\n",
        "# Display all columns\n",
        "pd.set_option('display.max_columns', None)\n",
        "\n",
        "# NLP\n",
        "!pip install pycld2\n",
        "import pycld2 as cld2"
      ]
    },
    {
      "cell_type": "code",
      "source": [
        "# read data\n",
        "reviews_df = pd.read_csv('Datasets/reviews.csv') \n",
        "# remove white spaces in column headings\n",
        "reviews_df.columns = reviews_df.columns.str.strip() \n",
        "# Examine dataset\n",
        "display(reviews_df.head(10))\n",
        "display(reviews_df.shape)"
      ],
      "metadata": {
        "colab": {
          "base_uri": "https://localhost:8080/",
          "height": 376
        },
        "id": "LgmD66kkoXjD",
        "outputId": "c2e5217a-000f-4975-92b4-de508c6fc57b"
      },
      "execution_count": 31,
      "outputs": [
        {
          "output_type": "display_data",
          "data": {
            "text/plain": [
              "           listing_id                  id        date  reviewer_id  \\\n",
              "0            52228441  623723762668719111  2022-05-10     37052865   \n",
              "1            52228441  505671819125096360  2021-11-28     70830110   \n",
              "2            52228441  466510411892882382  2021-10-05     83617224   \n",
              "3            52228441  604109461995958546  2022-04-13      2152541   \n",
              "4  605617198416835367  633128504578904919  2022-05-23     45418187   \n",
              "5            52228441  488275073602903479  2021-11-04     37185586   \n",
              "6            17501535  668631693343526023  2022-07-11      5132271   \n",
              "7            52228441  588257361951713358  2022-03-22    248672143   \n",
              "8            17501535  633193507110858827  2022-05-23    413544004   \n",
              "9            52228441  491866989310660615  2021-11-09      8452946   \n",
              "\n",
              "  reviewer_name                                           comments  \n",
              "0      Kimberly  Great location, and the host was very responsi...  \n",
              "1       Mahelet  Duccio is a lovely and friendly host. From arr...  \n",
              "2          Will  Duccio is a good communicator… he was very hel...  \n",
              "3     Francesco  Not entirely compliant to the pics.<br/>Good l...  \n",
              "4        Waddah                         Great place and great host  \n",
              "5       Ruslans  The flat is very well connected to the city by...  \n",
              "6          Marc                                         Nice place  \n",
              "7      Sveinung  Big apartment but a little bit run down.  Kitc...  \n",
              "8        Daniel  Amazing place, we loved it. Tons of space, nic...  \n",
              "9        Johnny  Duccio was a great host, super friendly with l...  "
            ],
            "text/html": [
              "\n",
              "  <div id=\"df-652e3c72-ca92-4569-aafc-ac6a3686fbc1\">\n",
              "    <div class=\"colab-df-container\">\n",
              "      <div>\n",
              "<style scoped>\n",
              "    .dataframe tbody tr th:only-of-type {\n",
              "        vertical-align: middle;\n",
              "    }\n",
              "\n",
              "    .dataframe tbody tr th {\n",
              "        vertical-align: top;\n",
              "    }\n",
              "\n",
              "    .dataframe thead th {\n",
              "        text-align: right;\n",
              "    }\n",
              "</style>\n",
              "<table border=\"1\" class=\"dataframe\">\n",
              "  <thead>\n",
              "    <tr style=\"text-align: right;\">\n",
              "      <th></th>\n",
              "      <th>listing_id</th>\n",
              "      <th>id</th>\n",
              "      <th>date</th>\n",
              "      <th>reviewer_id</th>\n",
              "      <th>reviewer_name</th>\n",
              "      <th>comments</th>\n",
              "    </tr>\n",
              "  </thead>\n",
              "  <tbody>\n",
              "    <tr>\n",
              "      <th>0</th>\n",
              "      <td>52228441</td>\n",
              "      <td>623723762668719111</td>\n",
              "      <td>2022-05-10</td>\n",
              "      <td>37052865</td>\n",
              "      <td>Kimberly</td>\n",
              "      <td>Great location, and the host was very responsi...</td>\n",
              "    </tr>\n",
              "    <tr>\n",
              "      <th>1</th>\n",
              "      <td>52228441</td>\n",
              "      <td>505671819125096360</td>\n",
              "      <td>2021-11-28</td>\n",
              "      <td>70830110</td>\n",
              "      <td>Mahelet</td>\n",
              "      <td>Duccio is a lovely and friendly host. From arr...</td>\n",
              "    </tr>\n",
              "    <tr>\n",
              "      <th>2</th>\n",
              "      <td>52228441</td>\n",
              "      <td>466510411892882382</td>\n",
              "      <td>2021-10-05</td>\n",
              "      <td>83617224</td>\n",
              "      <td>Will</td>\n",
              "      <td>Duccio is a good communicator… he was very hel...</td>\n",
              "    </tr>\n",
              "    <tr>\n",
              "      <th>3</th>\n",
              "      <td>52228441</td>\n",
              "      <td>604109461995958546</td>\n",
              "      <td>2022-04-13</td>\n",
              "      <td>2152541</td>\n",
              "      <td>Francesco</td>\n",
              "      <td>Not entirely compliant to the pics.&lt;br/&gt;Good l...</td>\n",
              "    </tr>\n",
              "    <tr>\n",
              "      <th>4</th>\n",
              "      <td>605617198416835367</td>\n",
              "      <td>633128504578904919</td>\n",
              "      <td>2022-05-23</td>\n",
              "      <td>45418187</td>\n",
              "      <td>Waddah</td>\n",
              "      <td>Great place and great host</td>\n",
              "    </tr>\n",
              "    <tr>\n",
              "      <th>5</th>\n",
              "      <td>52228441</td>\n",
              "      <td>488275073602903479</td>\n",
              "      <td>2021-11-04</td>\n",
              "      <td>37185586</td>\n",
              "      <td>Ruslans</td>\n",
              "      <td>The flat is very well connected to the city by...</td>\n",
              "    </tr>\n",
              "    <tr>\n",
              "      <th>6</th>\n",
              "      <td>17501535</td>\n",
              "      <td>668631693343526023</td>\n",
              "      <td>2022-07-11</td>\n",
              "      <td>5132271</td>\n",
              "      <td>Marc</td>\n",
              "      <td>Nice place</td>\n",
              "    </tr>\n",
              "    <tr>\n",
              "      <th>7</th>\n",
              "      <td>52228441</td>\n",
              "      <td>588257361951713358</td>\n",
              "      <td>2022-03-22</td>\n",
              "      <td>248672143</td>\n",
              "      <td>Sveinung</td>\n",
              "      <td>Big apartment but a little bit run down.  Kitc...</td>\n",
              "    </tr>\n",
              "    <tr>\n",
              "      <th>8</th>\n",
              "      <td>17501535</td>\n",
              "      <td>633193507110858827</td>\n",
              "      <td>2022-05-23</td>\n",
              "      <td>413544004</td>\n",
              "      <td>Daniel</td>\n",
              "      <td>Amazing place, we loved it. Tons of space, nic...</td>\n",
              "    </tr>\n",
              "    <tr>\n",
              "      <th>9</th>\n",
              "      <td>52228441</td>\n",
              "      <td>491866989310660615</td>\n",
              "      <td>2021-11-09</td>\n",
              "      <td>8452946</td>\n",
              "      <td>Johnny</td>\n",
              "      <td>Duccio was a great host, super friendly with l...</td>\n",
              "    </tr>\n",
              "  </tbody>\n",
              "</table>\n",
              "</div>\n",
              "      <button class=\"colab-df-convert\" onclick=\"convertToInteractive('df-652e3c72-ca92-4569-aafc-ac6a3686fbc1')\"\n",
              "              title=\"Convert this dataframe to an interactive table.\"\n",
              "              style=\"display:none;\">\n",
              "        \n",
              "  <svg xmlns=\"http://www.w3.org/2000/svg\" height=\"24px\"viewBox=\"0 0 24 24\"\n",
              "       width=\"24px\">\n",
              "    <path d=\"M0 0h24v24H0V0z\" fill=\"none\"/>\n",
              "    <path d=\"M18.56 5.44l.94 2.06.94-2.06 2.06-.94-2.06-.94-.94-2.06-.94 2.06-2.06.94zm-11 1L8.5 8.5l.94-2.06 2.06-.94-2.06-.94L8.5 2.5l-.94 2.06-2.06.94zm10 10l.94 2.06.94-2.06 2.06-.94-2.06-.94-.94-2.06-.94 2.06-2.06.94z\"/><path d=\"M17.41 7.96l-1.37-1.37c-.4-.4-.92-.59-1.43-.59-.52 0-1.04.2-1.43.59L10.3 9.45l-7.72 7.72c-.78.78-.78 2.05 0 2.83L4 21.41c.39.39.9.59 1.41.59.51 0 1.02-.2 1.41-.59l7.78-7.78 2.81-2.81c.8-.78.8-2.07 0-2.86zM5.41 20L4 18.59l7.72-7.72 1.47 1.35L5.41 20z\"/>\n",
              "  </svg>\n",
              "      </button>\n",
              "      \n",
              "  <style>\n",
              "    .colab-df-container {\n",
              "      display:flex;\n",
              "      flex-wrap:wrap;\n",
              "      gap: 12px;\n",
              "    }\n",
              "\n",
              "    .colab-df-convert {\n",
              "      background-color: #E8F0FE;\n",
              "      border: none;\n",
              "      border-radius: 50%;\n",
              "      cursor: pointer;\n",
              "      display: none;\n",
              "      fill: #1967D2;\n",
              "      height: 32px;\n",
              "      padding: 0 0 0 0;\n",
              "      width: 32px;\n",
              "    }\n",
              "\n",
              "    .colab-df-convert:hover {\n",
              "      background-color: #E2EBFA;\n",
              "      box-shadow: 0px 1px 2px rgba(60, 64, 67, 0.3), 0px 1px 3px 1px rgba(60, 64, 67, 0.15);\n",
              "      fill: #174EA6;\n",
              "    }\n",
              "\n",
              "    [theme=dark] .colab-df-convert {\n",
              "      background-color: #3B4455;\n",
              "      fill: #D2E3FC;\n",
              "    }\n",
              "\n",
              "    [theme=dark] .colab-df-convert:hover {\n",
              "      background-color: #434B5C;\n",
              "      box-shadow: 0px 1px 3px 1px rgba(0, 0, 0, 0.15);\n",
              "      filter: drop-shadow(0px 1px 2px rgba(0, 0, 0, 0.3));\n",
              "      fill: #FFFFFF;\n",
              "    }\n",
              "  </style>\n",
              "\n",
              "      <script>\n",
              "        const buttonEl =\n",
              "          document.querySelector('#df-652e3c72-ca92-4569-aafc-ac6a3686fbc1 button.colab-df-convert');\n",
              "        buttonEl.style.display =\n",
              "          google.colab.kernel.accessAllowed ? 'block' : 'none';\n",
              "\n",
              "        async function convertToInteractive(key) {\n",
              "          const element = document.querySelector('#df-652e3c72-ca92-4569-aafc-ac6a3686fbc1');\n",
              "          const dataTable =\n",
              "            await google.colab.kernel.invokeFunction('convertToInteractive',\n",
              "                                                     [key], {});\n",
              "          if (!dataTable) return;\n",
              "\n",
              "          const docLinkHtml = 'Like what you see? Visit the ' +\n",
              "            '<a target=\"_blank\" href=https://colab.research.google.com/notebooks/data_table.ipynb>data table notebook</a>'\n",
              "            + ' to learn more about interactive tables.';\n",
              "          element.innerHTML = '';\n",
              "          dataTable['output_type'] = 'display_data';\n",
              "          await google.colab.output.renderOutput(dataTable, element);\n",
              "          const docLink = document.createElement('div');\n",
              "          docLink.innerHTML = docLinkHtml;\n",
              "          element.appendChild(docLink);\n",
              "        }\n",
              "      </script>\n",
              "    </div>\n",
              "  </div>\n",
              "  "
            ]
          },
          "metadata": {}
        },
        {
          "output_type": "display_data",
          "data": {
            "text/plain": [
              "(1216212, 6)"
            ]
          },
          "metadata": {}
        }
      ]
    },
    {
      "cell_type": "markdown",
      "source": [
        "# **Data Cleaning**"
      ],
      "metadata": {
        "id": "3JLaVBEhGVAq"
      }
    },
    {
      "cell_type": "markdown",
      "source": [
        "**Steps to follow**\n",
        "\n",
        "1.   Drop rows containing NAN values (DONE)\n",
        "2.   Drop rows with empty string for 'comments' column (DONE)\n",
        "3.   Remove HTML tags from string in 'comments' column (DONE)\n",
        "4.   Remove special characters including emojis from strings (DONE)\n",
        "5.   Drop rows containing non-english string in 'comments' column (DONE)\n",
        "\n",
        "\n",
        "\n"
      ],
      "metadata": {
        "id": "E3MtXIt9QF-M"
      }
    },
    {
      "cell_type": "code",
      "source": [
        "# check if there is any null value \n",
        "reviews_df.isnull().sum()"
      ],
      "metadata": {
        "colab": {
          "base_uri": "https://localhost:8080/"
        },
        "id": "S7W23mLhGa1D",
        "outputId": "a6cf2aba-cddb-4d9b-f942-9be361e2af1d"
      },
      "execution_count": 32,
      "outputs": [
        {
          "output_type": "execute_result",
          "data": {
            "text/plain": [
              "listing_id        0\n",
              "id                0\n",
              "date              0\n",
              "reviewer_id       0\n",
              "reviewer_name     2\n",
              "comments         92\n",
              "dtype: int64"
            ]
          },
          "metadata": {},
          "execution_count": 32
        }
      ]
    },
    {
      "cell_type": "code",
      "source": [
        "# check if there is any empty string in the comments column\n",
        "reviews_df.loc[reviews_df[\"comments\"] == \".\"]"
      ],
      "metadata": {
        "colab": {
          "base_uri": "https://localhost:8080/",
          "height": 419
        },
        "id": "mkYmu6EHGbqU",
        "outputId": "2d503e69-5c56-485d-b98a-c91699c45fae"
      },
      "execution_count": 33,
      "outputs": [
        {
          "output_type": "execute_result",
          "data": {
            "text/plain": [
              "         listing_id                  id        date  reviewer_id  \\\n",
              "92         21526298  675869744229404323  2022-07-21    215666012   \n",
              "319        32537244           572622781  2019-12-03    310625523   \n",
              "2388        3370968  551274991374749641  2022-01-30     88466671   \n",
              "3143       13396482           562849095  2019-11-11    299309771   \n",
              "3334          41509            49170962  2015-10-01       736090   \n",
              "...             ...                 ...         ...          ...   \n",
              "1209963    31495400           518304382  2019-08-26     34520842   \n",
              "1212428    31201633           419606016  2019-03-04    243989008   \n",
              "1212852    31304270           419096711  2019-03-03    244943897   \n",
              "1214589    32002019           474417589  2019-06-23     64631352   \n",
              "1214718    32008953           427250653  2019-03-23     42680816   \n",
              "\n",
              "        reviewer_name comments  \n",
              "92              David        .  \n",
              "319          Fernando        .  \n",
              "2388            Bekee        .  \n",
              "3143          Cecilie        .  \n",
              "3334          Alberto        .  \n",
              "...               ...      ...  \n",
              "1209963       Augusto        .  \n",
              "1212428        Javier        .  \n",
              "1212852       Bernard        .  \n",
              "1214589      Margaret        .  \n",
              "1214718     Christina        .  \n",
              "\n",
              "[1477 rows x 6 columns]"
            ],
            "text/html": [
              "\n",
              "  <div id=\"df-fced8b61-7519-4afe-8a1a-8bb0838fa5b9\">\n",
              "    <div class=\"colab-df-container\">\n",
              "      <div>\n",
              "<style scoped>\n",
              "    .dataframe tbody tr th:only-of-type {\n",
              "        vertical-align: middle;\n",
              "    }\n",
              "\n",
              "    .dataframe tbody tr th {\n",
              "        vertical-align: top;\n",
              "    }\n",
              "\n",
              "    .dataframe thead th {\n",
              "        text-align: right;\n",
              "    }\n",
              "</style>\n",
              "<table border=\"1\" class=\"dataframe\">\n",
              "  <thead>\n",
              "    <tr style=\"text-align: right;\">\n",
              "      <th></th>\n",
              "      <th>listing_id</th>\n",
              "      <th>id</th>\n",
              "      <th>date</th>\n",
              "      <th>reviewer_id</th>\n",
              "      <th>reviewer_name</th>\n",
              "      <th>comments</th>\n",
              "    </tr>\n",
              "  </thead>\n",
              "  <tbody>\n",
              "    <tr>\n",
              "      <th>92</th>\n",
              "      <td>21526298</td>\n",
              "      <td>675869744229404323</td>\n",
              "      <td>2022-07-21</td>\n",
              "      <td>215666012</td>\n",
              "      <td>David</td>\n",
              "      <td>.</td>\n",
              "    </tr>\n",
              "    <tr>\n",
              "      <th>319</th>\n",
              "      <td>32537244</td>\n",
              "      <td>572622781</td>\n",
              "      <td>2019-12-03</td>\n",
              "      <td>310625523</td>\n",
              "      <td>Fernando</td>\n",
              "      <td>.</td>\n",
              "    </tr>\n",
              "    <tr>\n",
              "      <th>2388</th>\n",
              "      <td>3370968</td>\n",
              "      <td>551274991374749641</td>\n",
              "      <td>2022-01-30</td>\n",
              "      <td>88466671</td>\n",
              "      <td>Bekee</td>\n",
              "      <td>.</td>\n",
              "    </tr>\n",
              "    <tr>\n",
              "      <th>3143</th>\n",
              "      <td>13396482</td>\n",
              "      <td>562849095</td>\n",
              "      <td>2019-11-11</td>\n",
              "      <td>299309771</td>\n",
              "      <td>Cecilie</td>\n",
              "      <td>.</td>\n",
              "    </tr>\n",
              "    <tr>\n",
              "      <th>3334</th>\n",
              "      <td>41509</td>\n",
              "      <td>49170962</td>\n",
              "      <td>2015-10-01</td>\n",
              "      <td>736090</td>\n",
              "      <td>Alberto</td>\n",
              "      <td>.</td>\n",
              "    </tr>\n",
              "    <tr>\n",
              "      <th>...</th>\n",
              "      <td>...</td>\n",
              "      <td>...</td>\n",
              "      <td>...</td>\n",
              "      <td>...</td>\n",
              "      <td>...</td>\n",
              "      <td>...</td>\n",
              "    </tr>\n",
              "    <tr>\n",
              "      <th>1209963</th>\n",
              "      <td>31495400</td>\n",
              "      <td>518304382</td>\n",
              "      <td>2019-08-26</td>\n",
              "      <td>34520842</td>\n",
              "      <td>Augusto</td>\n",
              "      <td>.</td>\n",
              "    </tr>\n",
              "    <tr>\n",
              "      <th>1212428</th>\n",
              "      <td>31201633</td>\n",
              "      <td>419606016</td>\n",
              "      <td>2019-03-04</td>\n",
              "      <td>243989008</td>\n",
              "      <td>Javier</td>\n",
              "      <td>.</td>\n",
              "    </tr>\n",
              "    <tr>\n",
              "      <th>1212852</th>\n",
              "      <td>31304270</td>\n",
              "      <td>419096711</td>\n",
              "      <td>2019-03-03</td>\n",
              "      <td>244943897</td>\n",
              "      <td>Bernard</td>\n",
              "      <td>.</td>\n",
              "    </tr>\n",
              "    <tr>\n",
              "      <th>1214589</th>\n",
              "      <td>32002019</td>\n",
              "      <td>474417589</td>\n",
              "      <td>2019-06-23</td>\n",
              "      <td>64631352</td>\n",
              "      <td>Margaret</td>\n",
              "      <td>.</td>\n",
              "    </tr>\n",
              "    <tr>\n",
              "      <th>1214718</th>\n",
              "      <td>32008953</td>\n",
              "      <td>427250653</td>\n",
              "      <td>2019-03-23</td>\n",
              "      <td>42680816</td>\n",
              "      <td>Christina</td>\n",
              "      <td>.</td>\n",
              "    </tr>\n",
              "  </tbody>\n",
              "</table>\n",
              "<p>1477 rows × 6 columns</p>\n",
              "</div>\n",
              "      <button class=\"colab-df-convert\" onclick=\"convertToInteractive('df-fced8b61-7519-4afe-8a1a-8bb0838fa5b9')\"\n",
              "              title=\"Convert this dataframe to an interactive table.\"\n",
              "              style=\"display:none;\">\n",
              "        \n",
              "  <svg xmlns=\"http://www.w3.org/2000/svg\" height=\"24px\"viewBox=\"0 0 24 24\"\n",
              "       width=\"24px\">\n",
              "    <path d=\"M0 0h24v24H0V0z\" fill=\"none\"/>\n",
              "    <path d=\"M18.56 5.44l.94 2.06.94-2.06 2.06-.94-2.06-.94-.94-2.06-.94 2.06-2.06.94zm-11 1L8.5 8.5l.94-2.06 2.06-.94-2.06-.94L8.5 2.5l-.94 2.06-2.06.94zm10 10l.94 2.06.94-2.06 2.06-.94-2.06-.94-.94-2.06-.94 2.06-2.06.94z\"/><path d=\"M17.41 7.96l-1.37-1.37c-.4-.4-.92-.59-1.43-.59-.52 0-1.04.2-1.43.59L10.3 9.45l-7.72 7.72c-.78.78-.78 2.05 0 2.83L4 21.41c.39.39.9.59 1.41.59.51 0 1.02-.2 1.41-.59l7.78-7.78 2.81-2.81c.8-.78.8-2.07 0-2.86zM5.41 20L4 18.59l7.72-7.72 1.47 1.35L5.41 20z\"/>\n",
              "  </svg>\n",
              "      </button>\n",
              "      \n",
              "  <style>\n",
              "    .colab-df-container {\n",
              "      display:flex;\n",
              "      flex-wrap:wrap;\n",
              "      gap: 12px;\n",
              "    }\n",
              "\n",
              "    .colab-df-convert {\n",
              "      background-color: #E8F0FE;\n",
              "      border: none;\n",
              "      border-radius: 50%;\n",
              "      cursor: pointer;\n",
              "      display: none;\n",
              "      fill: #1967D2;\n",
              "      height: 32px;\n",
              "      padding: 0 0 0 0;\n",
              "      width: 32px;\n",
              "    }\n",
              "\n",
              "    .colab-df-convert:hover {\n",
              "      background-color: #E2EBFA;\n",
              "      box-shadow: 0px 1px 2px rgba(60, 64, 67, 0.3), 0px 1px 3px 1px rgba(60, 64, 67, 0.15);\n",
              "      fill: #174EA6;\n",
              "    }\n",
              "\n",
              "    [theme=dark] .colab-df-convert {\n",
              "      background-color: #3B4455;\n",
              "      fill: #D2E3FC;\n",
              "    }\n",
              "\n",
              "    [theme=dark] .colab-df-convert:hover {\n",
              "      background-color: #434B5C;\n",
              "      box-shadow: 0px 1px 3px 1px rgba(0, 0, 0, 0.15);\n",
              "      filter: drop-shadow(0px 1px 2px rgba(0, 0, 0, 0.3));\n",
              "      fill: #FFFFFF;\n",
              "    }\n",
              "  </style>\n",
              "\n",
              "      <script>\n",
              "        const buttonEl =\n",
              "          document.querySelector('#df-fced8b61-7519-4afe-8a1a-8bb0838fa5b9 button.colab-df-convert');\n",
              "        buttonEl.style.display =\n",
              "          google.colab.kernel.accessAllowed ? 'block' : 'none';\n",
              "\n",
              "        async function convertToInteractive(key) {\n",
              "          const element = document.querySelector('#df-fced8b61-7519-4afe-8a1a-8bb0838fa5b9');\n",
              "          const dataTable =\n",
              "            await google.colab.kernel.invokeFunction('convertToInteractive',\n",
              "                                                     [key], {});\n",
              "          if (!dataTable) return;\n",
              "\n",
              "          const docLinkHtml = 'Like what you see? Visit the ' +\n",
              "            '<a target=\"_blank\" href=https://colab.research.google.com/notebooks/data_table.ipynb>data table notebook</a>'\n",
              "            + ' to learn more about interactive tables.';\n",
              "          element.innerHTML = '';\n",
              "          dataTable['output_type'] = 'display_data';\n",
              "          await google.colab.output.renderOutput(dataTable, element);\n",
              "          const docLink = document.createElement('div');\n",
              "          docLink.innerHTML = docLinkHtml;\n",
              "          element.appendChild(docLink);\n",
              "        }\n",
              "      </script>\n",
              "    </div>\n",
              "  </div>\n",
              "  "
            ]
          },
          "metadata": {},
          "execution_count": 33
        }
      ]
    },
    {
      "cell_type": "code",
      "source": [
        "# Drop the null value and comments value with \".\"\n",
        "reviews_df = reviews_df[reviews_df['comments'].notna()]\n",
        "display(reviews_df.shape)"
      ],
      "metadata": {
        "colab": {
          "base_uri": "https://localhost:8080/",
          "height": 34
        },
        "id": "7ZS82QqkMGFT",
        "outputId": "b800a8fe-22dc-4967-cb0c-fe95d21a4ac4"
      },
      "execution_count": 34,
      "outputs": [
        {
          "output_type": "display_data",
          "data": {
            "text/plain": [
              "(1216120, 6)"
            ]
          },
          "metadata": {}
        }
      ]
    },
    {
      "cell_type": "markdown",
      "source": [
        "---\n",
        "92 Comments containing null value dropped"
      ],
      "metadata": {
        "id": "IpbdHXDxMe0w"
      }
    },
    {
      "cell_type": "code",
      "source": [
        "# Drop the rows with empty string for comments column\n",
        "reviews_df = reviews_df.loc[reviews_df[\"comments\"] != \".\"]\n",
        "display(reviews_df.shape)"
      ],
      "metadata": {
        "colab": {
          "base_uri": "https://localhost:8080/",
          "height": 34
        },
        "id": "rEazso8DM6Cb",
        "outputId": "337ca97c-88dc-425d-c7f2-0b6759b88dbd"
      },
      "execution_count": 35,
      "outputs": [
        {
          "output_type": "display_data",
          "data": {
            "text/plain": [
              "(1214643, 6)"
            ]
          },
          "metadata": {}
        }
      ]
    },
    {
      "cell_type": "markdown",
      "source": [
        "---\n",
        "1477 Comments containing empty string dropped"
      ],
      "metadata": {
        "id": "xUcPjrTXPJJQ"
      }
    },
    {
      "cell_type": "code",
      "source": [
        "# helper function to remove HTML tags from comments\n",
        "from bs4 import BeautifulSoup\n",
        "copy_df = reviews_df.copy()\n",
        "#small_df = copy_df.iloc[:100,]\n",
        "copy_df['comments'] = copy_df['comments'].apply(lambda s: BeautifulSoup(s).text)\n",
        "#display(copy_df.head(100))"
      ],
      "metadata": {
        "id": "nBGE3QF3HS-o"
      },
      "execution_count": 36,
      "outputs": []
    },
    {
      "cell_type": "code",
      "source": [
        "# removing special characters including punctuations and emojis. \n",
        "copy2_df = copy_df.copy()\n",
        "\n",
        "copy2_df['comments'] = copy2_df['comments'].str.replace('[^\\w\\s#@/:%.,_-]', '', flags=re.UNICODE)\n",
        "copy2_df.columns = copy2_df.columns.str.strip() \n",
        "\n",
        "#display(copy2_df)"
      ],
      "metadata": {
        "id": "MCttC4LESJJm"
      },
      "execution_count": 37,
      "outputs": []
    },
    {
      "cell_type": "markdown",
      "source": [
        "\n",
        "# **Comments Language Identification**"
      ],
      "metadata": {
        "id": "VhjZnCVjGDzZ"
      }
    },
    {
      "cell_type": "code",
      "source": [
        "# installing and Importing fasttext library for language identification\n",
        "!pip install fasttext\n",
        "import fasttext\n",
        "# settting up the pretrained model\n",
        "fasttxt_model = fasttext.load_model(\"lid.176.bin\")"
      ],
      "metadata": {
        "colab": {
          "base_uri": "https://localhost:8080/"
        },
        "id": "J1uJtEAfpVib",
        "outputId": "815457d4-6e79-4592-bc41-c886ac1ba211"
      },
      "execution_count": 38,
      "outputs": [
        {
          "output_type": "stream",
          "name": "stdout",
          "text": [
            "Looking in indexes: https://pypi.org/simple, https://us-python.pkg.dev/colab-wheels/public/simple/\n",
            "Requirement already satisfied: fasttext in /usr/local/lib/python3.7/dist-packages (0.9.2)\n",
            "Requirement already satisfied: setuptools>=0.7.0 in /usr/local/lib/python3.7/dist-packages (from fasttext) (57.4.0)\n",
            "Requirement already satisfied: numpy in /usr/local/lib/python3.7/dist-packages (from fasttext) (1.21.6)\n",
            "Requirement already satisfied: pybind11>=2.2 in /usr/local/lib/python3.7/dist-packages (from fasttext) (2.10.0)\n"
          ]
        },
        {
          "output_type": "stream",
          "name": "stderr",
          "text": [
            "Warning : `load_model` does not return WordVectorModel or SupervisedModel any more, but a `FastText` object which is very similar.\n"
          ]
        }
      ]
    },
    {
      "cell_type": "code",
      "source": [
        "# test model with example text\n",
        "fasttxt_model.predict('이 집은 정말 좋아요! 맘에 쏙 드네요')[0][0][-2:]"
      ],
      "metadata": {
        "colab": {
          "base_uri": "https://localhost:8080/",
          "height": 37
        },
        "id": "YWL4WwnU3z4B",
        "outputId": "0ec72a04-2b21-4b45-8325-26eac2c86898"
      },
      "execution_count": 39,
      "outputs": [
        {
          "output_type": "execute_result",
          "data": {
            "text/plain": [
              "'ko'"
            ],
            "application/vnd.google.colaboratory.intrinsic+json": {
              "type": "string"
            }
          },
          "metadata": {},
          "execution_count": 39
        }
      ]
    },
    {
      "cell_type": "code",
      "source": [
        "# Adding an extra column for language identification\n",
        "copy2_df['lang'] = copy2_df['comments'].apply(lambda x: fasttxt_model.predict(x)[0][0][-2:])\n",
        "display(copy2_df)"
      ],
      "metadata": {
        "colab": {
          "base_uri": "https://localhost:8080/",
          "height": 633
        },
        "id": "hIsstxB-4UaN",
        "outputId": "476991cd-bd66-4722-d726-049de6328786"
      },
      "execution_count": 40,
      "outputs": [
        {
          "output_type": "display_data",
          "data": {
            "text/plain": [
              "                 listing_id                  id        date  reviewer_id  \\\n",
              "0                  52228441  623723762668719111  2022-05-10     37052865   \n",
              "1                  52228441  505671819125096360  2021-11-28     70830110   \n",
              "2                  52228441  466510411892882382  2021-10-05     83617224   \n",
              "3                  52228441  604109461995958546  2022-04-13      2152541   \n",
              "4        605617198416835367  633128504578904919  2022-05-23     45418187   \n",
              "...                     ...                 ...         ...          ...   \n",
              "1216207            14832630           184884203  2017-08-20     54407484   \n",
              "1216208            14832630           173531056  2017-07-23    130284505   \n",
              "1216209            14832630           153170957  2017-05-20    119296298   \n",
              "1216210            14832630           145456398  2017-04-18     16394435   \n",
              "1216211            14832630           103611593  2016-09-23     65608870   \n",
              "\n",
              "        reviewer_name                                           comments lang  \n",
              "0            Kimberly  Great location, and the host was very responsi...   en  \n",
              "1             Mahelet  Duccio is a lovely and friendly host. From arr...   en  \n",
              "2                Will  Duccio is a good communicator he was very help...   en  \n",
              "3           Francesco  Not entirely compliant to the pics.Good locati...   en  \n",
              "4              Waddah                         Great place and great host   en  \n",
              "...               ...                                                ...  ...  \n",
              "1216207            丽云  干净舒适适合家庭入住地段优越景点全部很多都可以步行到达节省了交通费房间设施齐备能满足我们的一...   en  \n",
              "1216208     Véronique  Excellente situation au plein centre de Londre...   fr  \n",
              "1216209        Nicole  Todo perfecto  Ubicación, comodidad y Rachel c...   es  \n",
              "1216210    Christophe  Tout dabord même si nous navons pas eu le plai...   fr  \n",
              "1216211          Ping                                          Rachel人很好   zh  \n",
              "\n",
              "[1214643 rows x 7 columns]"
            ],
            "text/html": [
              "\n",
              "  <div id=\"df-73f1ad0f-392c-4917-9347-50c9cd7eb2af\">\n",
              "    <div class=\"colab-df-container\">\n",
              "      <div>\n",
              "<style scoped>\n",
              "    .dataframe tbody tr th:only-of-type {\n",
              "        vertical-align: middle;\n",
              "    }\n",
              "\n",
              "    .dataframe tbody tr th {\n",
              "        vertical-align: top;\n",
              "    }\n",
              "\n",
              "    .dataframe thead th {\n",
              "        text-align: right;\n",
              "    }\n",
              "</style>\n",
              "<table border=\"1\" class=\"dataframe\">\n",
              "  <thead>\n",
              "    <tr style=\"text-align: right;\">\n",
              "      <th></th>\n",
              "      <th>listing_id</th>\n",
              "      <th>id</th>\n",
              "      <th>date</th>\n",
              "      <th>reviewer_id</th>\n",
              "      <th>reviewer_name</th>\n",
              "      <th>comments</th>\n",
              "      <th>lang</th>\n",
              "    </tr>\n",
              "  </thead>\n",
              "  <tbody>\n",
              "    <tr>\n",
              "      <th>0</th>\n",
              "      <td>52228441</td>\n",
              "      <td>623723762668719111</td>\n",
              "      <td>2022-05-10</td>\n",
              "      <td>37052865</td>\n",
              "      <td>Kimberly</td>\n",
              "      <td>Great location, and the host was very responsi...</td>\n",
              "      <td>en</td>\n",
              "    </tr>\n",
              "    <tr>\n",
              "      <th>1</th>\n",
              "      <td>52228441</td>\n",
              "      <td>505671819125096360</td>\n",
              "      <td>2021-11-28</td>\n",
              "      <td>70830110</td>\n",
              "      <td>Mahelet</td>\n",
              "      <td>Duccio is a lovely and friendly host. From arr...</td>\n",
              "      <td>en</td>\n",
              "    </tr>\n",
              "    <tr>\n",
              "      <th>2</th>\n",
              "      <td>52228441</td>\n",
              "      <td>466510411892882382</td>\n",
              "      <td>2021-10-05</td>\n",
              "      <td>83617224</td>\n",
              "      <td>Will</td>\n",
              "      <td>Duccio is a good communicator he was very help...</td>\n",
              "      <td>en</td>\n",
              "    </tr>\n",
              "    <tr>\n",
              "      <th>3</th>\n",
              "      <td>52228441</td>\n",
              "      <td>604109461995958546</td>\n",
              "      <td>2022-04-13</td>\n",
              "      <td>2152541</td>\n",
              "      <td>Francesco</td>\n",
              "      <td>Not entirely compliant to the pics.Good locati...</td>\n",
              "      <td>en</td>\n",
              "    </tr>\n",
              "    <tr>\n",
              "      <th>4</th>\n",
              "      <td>605617198416835367</td>\n",
              "      <td>633128504578904919</td>\n",
              "      <td>2022-05-23</td>\n",
              "      <td>45418187</td>\n",
              "      <td>Waddah</td>\n",
              "      <td>Great place and great host</td>\n",
              "      <td>en</td>\n",
              "    </tr>\n",
              "    <tr>\n",
              "      <th>...</th>\n",
              "      <td>...</td>\n",
              "      <td>...</td>\n",
              "      <td>...</td>\n",
              "      <td>...</td>\n",
              "      <td>...</td>\n",
              "      <td>...</td>\n",
              "      <td>...</td>\n",
              "    </tr>\n",
              "    <tr>\n",
              "      <th>1216207</th>\n",
              "      <td>14832630</td>\n",
              "      <td>184884203</td>\n",
              "      <td>2017-08-20</td>\n",
              "      <td>54407484</td>\n",
              "      <td>丽云</td>\n",
              "      <td>干净舒适适合家庭入住地段优越景点全部很多都可以步行到达节省了交通费房间设施齐备能满足我们的一...</td>\n",
              "      <td>en</td>\n",
              "    </tr>\n",
              "    <tr>\n",
              "      <th>1216208</th>\n",
              "      <td>14832630</td>\n",
              "      <td>173531056</td>\n",
              "      <td>2017-07-23</td>\n",
              "      <td>130284505</td>\n",
              "      <td>Véronique</td>\n",
              "      <td>Excellente situation au plein centre de Londre...</td>\n",
              "      <td>fr</td>\n",
              "    </tr>\n",
              "    <tr>\n",
              "      <th>1216209</th>\n",
              "      <td>14832630</td>\n",
              "      <td>153170957</td>\n",
              "      <td>2017-05-20</td>\n",
              "      <td>119296298</td>\n",
              "      <td>Nicole</td>\n",
              "      <td>Todo perfecto  Ubicación, comodidad y Rachel c...</td>\n",
              "      <td>es</td>\n",
              "    </tr>\n",
              "    <tr>\n",
              "      <th>1216210</th>\n",
              "      <td>14832630</td>\n",
              "      <td>145456398</td>\n",
              "      <td>2017-04-18</td>\n",
              "      <td>16394435</td>\n",
              "      <td>Christophe</td>\n",
              "      <td>Tout dabord même si nous navons pas eu le plai...</td>\n",
              "      <td>fr</td>\n",
              "    </tr>\n",
              "    <tr>\n",
              "      <th>1216211</th>\n",
              "      <td>14832630</td>\n",
              "      <td>103611593</td>\n",
              "      <td>2016-09-23</td>\n",
              "      <td>65608870</td>\n",
              "      <td>Ping</td>\n",
              "      <td>Rachel人很好</td>\n",
              "      <td>zh</td>\n",
              "    </tr>\n",
              "  </tbody>\n",
              "</table>\n",
              "<p>1214643 rows × 7 columns</p>\n",
              "</div>\n",
              "      <button class=\"colab-df-convert\" onclick=\"convertToInteractive('df-73f1ad0f-392c-4917-9347-50c9cd7eb2af')\"\n",
              "              title=\"Convert this dataframe to an interactive table.\"\n",
              "              style=\"display:none;\">\n",
              "        \n",
              "  <svg xmlns=\"http://www.w3.org/2000/svg\" height=\"24px\"viewBox=\"0 0 24 24\"\n",
              "       width=\"24px\">\n",
              "    <path d=\"M0 0h24v24H0V0z\" fill=\"none\"/>\n",
              "    <path d=\"M18.56 5.44l.94 2.06.94-2.06 2.06-.94-2.06-.94-.94-2.06-.94 2.06-2.06.94zm-11 1L8.5 8.5l.94-2.06 2.06-.94-2.06-.94L8.5 2.5l-.94 2.06-2.06.94zm10 10l.94 2.06.94-2.06 2.06-.94-2.06-.94-.94-2.06-.94 2.06-2.06.94z\"/><path d=\"M17.41 7.96l-1.37-1.37c-.4-.4-.92-.59-1.43-.59-.52 0-1.04.2-1.43.59L10.3 9.45l-7.72 7.72c-.78.78-.78 2.05 0 2.83L4 21.41c.39.39.9.59 1.41.59.51 0 1.02-.2 1.41-.59l7.78-7.78 2.81-2.81c.8-.78.8-2.07 0-2.86zM5.41 20L4 18.59l7.72-7.72 1.47 1.35L5.41 20z\"/>\n",
              "  </svg>\n",
              "      </button>\n",
              "      \n",
              "  <style>\n",
              "    .colab-df-container {\n",
              "      display:flex;\n",
              "      flex-wrap:wrap;\n",
              "      gap: 12px;\n",
              "    }\n",
              "\n",
              "    .colab-df-convert {\n",
              "      background-color: #E8F0FE;\n",
              "      border: none;\n",
              "      border-radius: 50%;\n",
              "      cursor: pointer;\n",
              "      display: none;\n",
              "      fill: #1967D2;\n",
              "      height: 32px;\n",
              "      padding: 0 0 0 0;\n",
              "      width: 32px;\n",
              "    }\n",
              "\n",
              "    .colab-df-convert:hover {\n",
              "      background-color: #E2EBFA;\n",
              "      box-shadow: 0px 1px 2px rgba(60, 64, 67, 0.3), 0px 1px 3px 1px rgba(60, 64, 67, 0.15);\n",
              "      fill: #174EA6;\n",
              "    }\n",
              "\n",
              "    [theme=dark] .colab-df-convert {\n",
              "      background-color: #3B4455;\n",
              "      fill: #D2E3FC;\n",
              "    }\n",
              "\n",
              "    [theme=dark] .colab-df-convert:hover {\n",
              "      background-color: #434B5C;\n",
              "      box-shadow: 0px 1px 3px 1px rgba(0, 0, 0, 0.15);\n",
              "      filter: drop-shadow(0px 1px 2px rgba(0, 0, 0, 0.3));\n",
              "      fill: #FFFFFF;\n",
              "    }\n",
              "  </style>\n",
              "\n",
              "      <script>\n",
              "        const buttonEl =\n",
              "          document.querySelector('#df-73f1ad0f-392c-4917-9347-50c9cd7eb2af button.colab-df-convert');\n",
              "        buttonEl.style.display =\n",
              "          google.colab.kernel.accessAllowed ? 'block' : 'none';\n",
              "\n",
              "        async function convertToInteractive(key) {\n",
              "          const element = document.querySelector('#df-73f1ad0f-392c-4917-9347-50c9cd7eb2af');\n",
              "          const dataTable =\n",
              "            await google.colab.kernel.invokeFunction('convertToInteractive',\n",
              "                                                     [key], {});\n",
              "          if (!dataTable) return;\n",
              "\n",
              "          const docLinkHtml = 'Like what you see? Visit the ' +\n",
              "            '<a target=\"_blank\" href=https://colab.research.google.com/notebooks/data_table.ipynb>data table notebook</a>'\n",
              "            + ' to learn more about interactive tables.';\n",
              "          element.innerHTML = '';\n",
              "          dataTable['output_type'] = 'display_data';\n",
              "          await google.colab.output.renderOutput(dataTable, element);\n",
              "          const docLink = document.createElement('div');\n",
              "          docLink.innerHTML = docLinkHtml;\n",
              "          element.appendChild(docLink);\n",
              "        }\n",
              "      </script>\n",
              "    </div>\n",
              "  </div>\n",
              "  "
            ]
          },
          "metadata": {}
        }
      ]
    },
    {
      "cell_type": "code",
      "source": [
        "# calculating number of rows with non-english comments \n",
        "display(copy2_df.lang.value_counts())\n",
        "prop = (1214643-1089747)/1214643*100\n",
        "f'The total non-english comments proportion is {prop}.'"
      ],
      "metadata": {
        "colab": {
          "base_uri": "https://localhost:8080/",
          "height": 241
        },
        "id": "6JEIQ44lcp-4",
        "outputId": "f48ca4fe-cd29-4294-a143-8aed42011498"
      },
      "execution_count": 41,
      "outputs": [
        {
          "output_type": "display_data",
          "data": {
            "text/plain": [
              "en    1089747\n",
              "fr      45182\n",
              "es      22556\n",
              "de      16384\n",
              "it      10215\n",
              "       ...   \n",
              "br          1\n",
              "mk          1\n",
              "ne          1\n",
              "io          1\n",
              "ms          1\n",
              "Name: lang, Length: 77, dtype: int64"
            ]
          },
          "metadata": {}
        },
        {
          "output_type": "execute_result",
          "data": {
            "text/plain": [
              "'The total non-english comments proportion is 10.282527458685392.'"
            ],
            "application/vnd.google.colaboratory.intrinsic+json": {
              "type": "string"
            }
          },
          "metadata": {},
          "execution_count": 41
        }
      ]
    },
    {
      "cell_type": "markdown",
      "source": [
        "---\n",
        "**The total non-english comments proportion is 10.28%. \n",
        "Therefore, it is safe to drop the rows with non-english comments.**\n",
        "\n",
        "\n"
      ],
      "metadata": {
        "id": "rq8YC60MiipG"
      }
    },
    {
      "cell_type": "code",
      "source": [
        "# keeping only rows with English comments\n",
        "copy3_df = copy2_df[copy2_df['lang']=='en']\n",
        "#display(copy3_df)"
      ],
      "metadata": {
        "id": "rO76ReLMdqYG"
      },
      "execution_count": 42,
      "outputs": []
    },
    {
      "cell_type": "code",
      "source": [
        "# Special case that has both chinese and English\n",
        "display(copy3_df.loc[[1216207]])"
      ],
      "metadata": {
        "colab": {
          "base_uri": "https://localhost:8080/",
          "height": 141
        },
        "id": "remJ-OBk5rK5",
        "outputId": "e528b1ea-f2f4-4ff7-94ec-b62bce0819e3"
      },
      "execution_count": 43,
      "outputs": [
        {
          "output_type": "display_data",
          "data": {
            "text/plain": [
              "         listing_id         id        date  reviewer_id reviewer_name  \\\n",
              "1216207    14832630  184884203  2017-08-20     54407484            丽云   \n",
              "\n",
              "                                                  comments lang  \n",
              "1216207  干净舒适适合家庭入住地段优越景点全部很多都可以步行到达节省了交通费房间设施齐备能满足我们的一...   en  "
            ],
            "text/html": [
              "\n",
              "  <div id=\"df-06db46ad-253c-48eb-beeb-abd03e580ef3\">\n",
              "    <div class=\"colab-df-container\">\n",
              "      <div>\n",
              "<style scoped>\n",
              "    .dataframe tbody tr th:only-of-type {\n",
              "        vertical-align: middle;\n",
              "    }\n",
              "\n",
              "    .dataframe tbody tr th {\n",
              "        vertical-align: top;\n",
              "    }\n",
              "\n",
              "    .dataframe thead th {\n",
              "        text-align: right;\n",
              "    }\n",
              "</style>\n",
              "<table border=\"1\" class=\"dataframe\">\n",
              "  <thead>\n",
              "    <tr style=\"text-align: right;\">\n",
              "      <th></th>\n",
              "      <th>listing_id</th>\n",
              "      <th>id</th>\n",
              "      <th>date</th>\n",
              "      <th>reviewer_id</th>\n",
              "      <th>reviewer_name</th>\n",
              "      <th>comments</th>\n",
              "      <th>lang</th>\n",
              "    </tr>\n",
              "  </thead>\n",
              "  <tbody>\n",
              "    <tr>\n",
              "      <th>1216207</th>\n",
              "      <td>14832630</td>\n",
              "      <td>184884203</td>\n",
              "      <td>2017-08-20</td>\n",
              "      <td>54407484</td>\n",
              "      <td>丽云</td>\n",
              "      <td>干净舒适适合家庭入住地段优越景点全部很多都可以步行到达节省了交通费房间设施齐备能满足我们的一...</td>\n",
              "      <td>en</td>\n",
              "    </tr>\n",
              "  </tbody>\n",
              "</table>\n",
              "</div>\n",
              "      <button class=\"colab-df-convert\" onclick=\"convertToInteractive('df-06db46ad-253c-48eb-beeb-abd03e580ef3')\"\n",
              "              title=\"Convert this dataframe to an interactive table.\"\n",
              "              style=\"display:none;\">\n",
              "        \n",
              "  <svg xmlns=\"http://www.w3.org/2000/svg\" height=\"24px\"viewBox=\"0 0 24 24\"\n",
              "       width=\"24px\">\n",
              "    <path d=\"M0 0h24v24H0V0z\" fill=\"none\"/>\n",
              "    <path d=\"M18.56 5.44l.94 2.06.94-2.06 2.06-.94-2.06-.94-.94-2.06-.94 2.06-2.06.94zm-11 1L8.5 8.5l.94-2.06 2.06-.94-2.06-.94L8.5 2.5l-.94 2.06-2.06.94zm10 10l.94 2.06.94-2.06 2.06-.94-2.06-.94-.94-2.06-.94 2.06-2.06.94z\"/><path d=\"M17.41 7.96l-1.37-1.37c-.4-.4-.92-.59-1.43-.59-.52 0-1.04.2-1.43.59L10.3 9.45l-7.72 7.72c-.78.78-.78 2.05 0 2.83L4 21.41c.39.39.9.59 1.41.59.51 0 1.02-.2 1.41-.59l7.78-7.78 2.81-2.81c.8-.78.8-2.07 0-2.86zM5.41 20L4 18.59l7.72-7.72 1.47 1.35L5.41 20z\"/>\n",
              "  </svg>\n",
              "      </button>\n",
              "      \n",
              "  <style>\n",
              "    .colab-df-container {\n",
              "      display:flex;\n",
              "      flex-wrap:wrap;\n",
              "      gap: 12px;\n",
              "    }\n",
              "\n",
              "    .colab-df-convert {\n",
              "      background-color: #E8F0FE;\n",
              "      border: none;\n",
              "      border-radius: 50%;\n",
              "      cursor: pointer;\n",
              "      display: none;\n",
              "      fill: #1967D2;\n",
              "      height: 32px;\n",
              "      padding: 0 0 0 0;\n",
              "      width: 32px;\n",
              "    }\n",
              "\n",
              "    .colab-df-convert:hover {\n",
              "      background-color: #E2EBFA;\n",
              "      box-shadow: 0px 1px 2px rgba(60, 64, 67, 0.3), 0px 1px 3px 1px rgba(60, 64, 67, 0.15);\n",
              "      fill: #174EA6;\n",
              "    }\n",
              "\n",
              "    [theme=dark] .colab-df-convert {\n",
              "      background-color: #3B4455;\n",
              "      fill: #D2E3FC;\n",
              "    }\n",
              "\n",
              "    [theme=dark] .colab-df-convert:hover {\n",
              "      background-color: #434B5C;\n",
              "      box-shadow: 0px 1px 3px 1px rgba(0, 0, 0, 0.15);\n",
              "      filter: drop-shadow(0px 1px 2px rgba(0, 0, 0, 0.3));\n",
              "      fill: #FFFFFF;\n",
              "    }\n",
              "  </style>\n",
              "\n",
              "      <script>\n",
              "        const buttonEl =\n",
              "          document.querySelector('#df-06db46ad-253c-48eb-beeb-abd03e580ef3 button.colab-df-convert');\n",
              "        buttonEl.style.display =\n",
              "          google.colab.kernel.accessAllowed ? 'block' : 'none';\n",
              "\n",
              "        async function convertToInteractive(key) {\n",
              "          const element = document.querySelector('#df-06db46ad-253c-48eb-beeb-abd03e580ef3');\n",
              "          const dataTable =\n",
              "            await google.colab.kernel.invokeFunction('convertToInteractive',\n",
              "                                                     [key], {});\n",
              "          if (!dataTable) return;\n",
              "\n",
              "          const docLinkHtml = 'Like what you see? Visit the ' +\n",
              "            '<a target=\"_blank\" href=https://colab.research.google.com/notebooks/data_table.ipynb>data table notebook</a>'\n",
              "            + ' to learn more about interactive tables.';\n",
              "          element.innerHTML = '';\n",
              "          dataTable['output_type'] = 'display_data';\n",
              "          await google.colab.output.renderOutput(dataTable, element);\n",
              "          const docLink = document.createElement('div');\n",
              "          docLink.innerHTML = docLinkHtml;\n",
              "          element.appendChild(docLink);\n",
              "        }\n",
              "      </script>\n",
              "    </div>\n",
              "  </div>\n",
              "  "
            ]
          },
          "metadata": {}
        }
      ]
    },
    {
      "cell_type": "code",
      "source": [
        "# drop rows containing multiple languages\n",
        "copy3_df['Deteced_lang'] = copy3_df['comments'].map(lambda a: cld2.detect(a,bestEffort=True)[2][1][0])\n",
        "copy3_df = copy3_df[copy3_df['Deteced_lang']=='Unknown']\n",
        "#copy4_df.comments.replace({r'[^\\x00-\\x7F]+':''}, regex=True, inplace=True)\n",
        "#display(copy3_df)\n"
      ],
      "metadata": {
        "id": "RfxxNAr76qhQ"
      },
      "execution_count": 44,
      "outputs": []
    },
    {
      "cell_type": "code",
      "source": [
        "# drop rows containing non-meaningful words\n",
        "copy3_df['Deteced_lang'] = copy3_df['comments'].map(lambda a: cld2.detect(a,bestEffort=True)[2][0][0])\n",
        "copy3_df = copy3_df[copy3_df['Deteced_lang']!='Unknown']"
      ],
      "metadata": {
        "id": "IUKeRaNz-ud0"
      },
      "execution_count": 45,
      "outputs": []
    },
    {
      "cell_type": "code",
      "source": [
        "copy3_df = copy3_df.drop('Deteced_lang',axis=1)\n",
        "#display(copy3_df)"
      ],
      "metadata": {
        "id": "GXoKDKyyD7qy"
      },
      "execution_count": 46,
      "outputs": []
    },
    {
      "cell_type": "markdown",
      "source": [
        "# **Data Preprocessing**\n",
        "\n",
        "\n",
        "*   Punctuation removal\n",
        "*   Stopwords removal\n",
        "*   Lowercase\n",
        "*   Lemmatization\n",
        "*   Tokenization\n",
        "\n"
      ],
      "metadata": {
        "id": "ZAPPS8tvGEwV"
      }
    },
    {
      "cell_type": "code",
      "source": [
        "# Data pre-processing using conventional method (ok accuracy / fast speed)\n",
        "def clean_text(comments):\n",
        "  punc = \"\"\"!()-![]{};:,+'\"\\,<>./?@#$%^&*_~Â\"\"\"\n",
        "  punc_removed = [char for char in comments if char not in punc]\n",
        "  punc_join = ''.join(punc_removed)\n",
        "  cleaned = []\n",
        "  splitted = comments.split()\n",
        "  for x in splitted:\n",
        "    if x.isalpha() and x not in stop_words:\n",
        "      cleaned.append(x.lower())\n",
        "  result = ' '.join(cleaned)\n",
        "  return result"
      ],
      "metadata": {
        "id": "M8P7jcQHmvg3"
      },
      "execution_count": 47,
      "outputs": []
    },
    {
      "cell_type": "code",
      "source": [
        "%%time\n",
        "copy3_df['cleaned_comments'] = copy3_df['comments'].apply(clean_text)"
      ],
      "metadata": {
        "colab": {
          "base_uri": "https://localhost:8080/"
        },
        "id": "BVLvm_-ioPui",
        "outputId": "fca5010d-7ae6-4526-cc6a-6dbe2a3f6f74"
      },
      "execution_count": 48,
      "outputs": [
        {
          "output_type": "stream",
          "name": "stdout",
          "text": [
            "CPU times: user 37.6 s, sys: 299 ms, total: 37.8 s\n",
            "Wall time: 37.9 s\n"
          ]
        }
      ]
    },
    {
      "cell_type": "code",
      "source": [
        "#display(copy3_df)"
      ],
      "metadata": {
        "id": "TKNGtyR2u9F2"
      },
      "execution_count": 49,
      "outputs": []
    },
    {
      "cell_type": "code",
      "source": [
        "# Data pre-processing using spacy (great accuracy / slow speed)\n",
        "import spacy\n",
        "#!python -m spacy download en_core_web_trf\n",
        "nlp = spacy.load(\"en_core_web_sm\",disable=['tagger', 'parser', 'ner'])\n",
        "def spacyClean(doc,stemming = False):\n",
        "    #doc = doc.lower()\n",
        "    doc = nlp(doc)\n",
        "    tokens = [tokens.lower_ for tokens in doc]\n",
        "    tokens = [tokens for tokens in doc if (tokens.is_stop == False)]\n",
        "    tokens = [tokens for tokens in tokens if (tokens.is_punct == False)]\n",
        "    final_token = [token.lemma_ for token in tokens]\n",
        "    return \" \".join(final_token)"
      ],
      "metadata": {
        "id": "gnBUyg-mwZLY"
      },
      "execution_count": 50,
      "outputs": []
    },
    {
      "cell_type": "code",
      "source": [
        "%%time\n",
        "#copy3_df['cleaned_comments_spacy'] = copy3_df['comments'].apply(spacyClean)"
      ],
      "metadata": {
        "colab": {
          "base_uri": "https://localhost:8080/"
        },
        "id": "bL47UjCdzozX",
        "outputId": "4fc43fb1-935c-4009-84dc-f5b8631e6382"
      },
      "execution_count": 51,
      "outputs": [
        {
          "output_type": "stream",
          "name": "stdout",
          "text": [
            "CPU times: user 3 µs, sys: 0 ns, total: 3 µs\n",
            "Wall time: 5.72 µs\n"
          ]
        }
      ]
    },
    {
      "cell_type": "code",
      "source": [
        "# Data pre-processing using nltk (good accuracy / ok speed)\n",
        "\n",
        "def clean_up(text, stem=\"None\"):\n",
        "\n",
        "    final_string = \"\"\n",
        "\n",
        "    # Make lower\n",
        "    text = text.lower()\n",
        "\n",
        "    # Remove line breaks\n",
        "    text = re.sub(r'\\n', '', text)\n",
        "\n",
        "    # Remove puncuation\n",
        "    translator = str.maketrans('', '', string.punctuation)\n",
        "    text = text.translate(translator)\n",
        "\n",
        "    # Remove stop words\n",
        "    text = text.split()\n",
        "    useless_words = nltk.corpus.stopwords.words(\"english\")\n",
        "    useless_words = useless_words + ['hi', 'im','i']\n",
        "\n",
        "    text_filtered = [word for word in text if not word in useless_words]\n",
        "\n",
        "    # Remove numbers\n",
        "    text_filtered = [re.sub(r'\\w*\\d\\w*', '', w) for w in text_filtered]\n",
        "\n",
        "    # Stem or Lemmatize\n",
        "    if stem == 'Stem':\n",
        "        stemmer = PorterStemmer() \n",
        "        text_stemmed = [stemmer.stem(y) for y in text_filtered]\n",
        "    elif stem == 'Lem':\n",
        "        lem = WordNetLemmatizer()\n",
        "        text_stemmed = [lem.lemmatize(y) for y in text_filtered]\n",
        "    elif stem == 'Spacy':\n",
        "        text_filtered = nlp(' '.join(text_filtered))\n",
        "        text_stemmed = [y.lemma_ for y in text_filtered]\n",
        "    else:\n",
        "        text_stemmed = text_filtered\n",
        "\n",
        "    final_string = ' '.join(text_stemmed)\n",
        "    tokens = nltk.word_tokenize(final_string)\n",
        "\n",
        "    return tokens"
      ],
      "metadata": {
        "id": "imQXqP7mA6eZ"
      },
      "execution_count": 52,
      "outputs": []
    },
    {
      "cell_type": "code",
      "source": [
        "%%time\n",
        "copy3_df['cleaned_comments_nltk'] = copy3_df['comments'].apply(clean_up,stem='Lem')"
      ],
      "metadata": {
        "colab": {
          "base_uri": "https://localhost:8080/"
        },
        "id": "NUl_pzdj1ROx",
        "outputId": "d2e9e27d-1acf-4c39-a0f4-3c67e3376149"
      },
      "execution_count": 53,
      "outputs": [
        {
          "output_type": "stream",
          "name": "stdout",
          "text": [
            "CPU times: user 11min 18s, sys: 29.7 s, total: 11min 48s\n",
            "Wall time: 11min 54s\n"
          ]
        }
      ]
    },
    {
      "cell_type": "code",
      "source": [
        "display(copy3_df[['comments','cleaned_comments','cleaned_comments_nltk']])"
      ],
      "metadata": {
        "colab": {
          "base_uri": "https://localhost:8080/",
          "height": 419
        },
        "id": "upsxM1ZACAY8",
        "outputId": "cec08db7-b84c-4769-ee95-588801175522"
      },
      "execution_count": 54,
      "outputs": [
        {
          "output_type": "display_data",
          "data": {
            "text/plain": [
              "                                                  comments  \\\n",
              "0        Great location, and the host was very responsi...   \n",
              "1        Duccio is a lovely and friendly host. From arr...   \n",
              "2        Duccio is a good communicator he was very help...   \n",
              "3        Not entirely compliant to the pics.Good locati...   \n",
              "4                               Great place and great host   \n",
              "...                                                    ...   \n",
              "1216193  We had a really great stay in Rachels central ...   \n",
              "1216194  This was an excellent apartment. Very clean, w...   \n",
              "1216195  The place was a dream come true\\r Its newly re...   \n",
              "1216196  Her place is so greatNice and clean. My wife a...   \n",
              "1216197  Right at the heart of Soho.The place is comfor...   \n",
              "\n",
              "                                          cleaned_comments  \\\n",
              "0                                    great host responsive   \n",
              "1        duccio lovely friendly from arrival instructio...   \n",
              "2        duccio good communicator helpful making stay g...   \n",
              "3        not entirely compliant location basic shower w...   \n",
              "4                                   great place great host   \n",
              "...                                                    ...   \n",
              "1216193  we really great stay rachels central clean wel...   \n",
              "1216194  this excellent very well equipped location par...   \n",
              "1216195  the place dream come true its newly even flowe...   \n",
              "1216196              her place greatnice my wife wonderful   \n",
              "1216197  right heart place well equipped beautifully ap...   \n",
              "\n",
              "                                     cleaned_comments_nltk  \n",
              "0         [great, location, host, responsive, helpfulhugh]  \n",
              "1        [duccio, lovely, friendly, host, arrival, inst...  \n",
              "2        [duccio, good, communicator, helpful, making, ...  \n",
              "3        [entirely, compliant, picsgood, location, basi...  \n",
              "4                              [great, place, great, host]  \n",
              "...                                                    ...  \n",
              "1216193  [really, great, stay, rachel, central, apartme...  \n",
              "1216194  [excellent, apartment, clean, well, equipped, ...  \n",
              "1216195  [place, dream, come, true, newly, renovated, s...  \n",
              "1216196   [place, greatnice, clean, wife, wonderful, time]  \n",
              "1216197  [right, heart, sohothe, place, comfortable, we...  \n",
              "\n",
              "[1087499 rows x 3 columns]"
            ],
            "text/html": [
              "\n",
              "  <div id=\"df-4d17579e-d200-490a-926a-fa43bfdec859\">\n",
              "    <div class=\"colab-df-container\">\n",
              "      <div>\n",
              "<style scoped>\n",
              "    .dataframe tbody tr th:only-of-type {\n",
              "        vertical-align: middle;\n",
              "    }\n",
              "\n",
              "    .dataframe tbody tr th {\n",
              "        vertical-align: top;\n",
              "    }\n",
              "\n",
              "    .dataframe thead th {\n",
              "        text-align: right;\n",
              "    }\n",
              "</style>\n",
              "<table border=\"1\" class=\"dataframe\">\n",
              "  <thead>\n",
              "    <tr style=\"text-align: right;\">\n",
              "      <th></th>\n",
              "      <th>comments</th>\n",
              "      <th>cleaned_comments</th>\n",
              "      <th>cleaned_comments_nltk</th>\n",
              "    </tr>\n",
              "  </thead>\n",
              "  <tbody>\n",
              "    <tr>\n",
              "      <th>0</th>\n",
              "      <td>Great location, and the host was very responsi...</td>\n",
              "      <td>great host responsive</td>\n",
              "      <td>[great, location, host, responsive, helpfulhugh]</td>\n",
              "    </tr>\n",
              "    <tr>\n",
              "      <th>1</th>\n",
              "      <td>Duccio is a lovely and friendly host. From arr...</td>\n",
              "      <td>duccio lovely friendly from arrival instructio...</td>\n",
              "      <td>[duccio, lovely, friendly, host, arrival, inst...</td>\n",
              "    </tr>\n",
              "    <tr>\n",
              "      <th>2</th>\n",
              "      <td>Duccio is a good communicator he was very help...</td>\n",
              "      <td>duccio good communicator helpful making stay g...</td>\n",
              "      <td>[duccio, good, communicator, helpful, making, ...</td>\n",
              "    </tr>\n",
              "    <tr>\n",
              "      <th>3</th>\n",
              "      <td>Not entirely compliant to the pics.Good locati...</td>\n",
              "      <td>not entirely compliant location basic shower w...</td>\n",
              "      <td>[entirely, compliant, picsgood, location, basi...</td>\n",
              "    </tr>\n",
              "    <tr>\n",
              "      <th>4</th>\n",
              "      <td>Great place and great host</td>\n",
              "      <td>great place great host</td>\n",
              "      <td>[great, place, great, host]</td>\n",
              "    </tr>\n",
              "    <tr>\n",
              "      <th>...</th>\n",
              "      <td>...</td>\n",
              "      <td>...</td>\n",
              "      <td>...</td>\n",
              "    </tr>\n",
              "    <tr>\n",
              "      <th>1216193</th>\n",
              "      <td>We had a really great stay in Rachels central ...</td>\n",
              "      <td>we really great stay rachels central clean wel...</td>\n",
              "      <td>[really, great, stay, rachel, central, apartme...</td>\n",
              "    </tr>\n",
              "    <tr>\n",
              "      <th>1216194</th>\n",
              "      <td>This was an excellent apartment. Very clean, w...</td>\n",
              "      <td>this excellent very well equipped location par...</td>\n",
              "      <td>[excellent, apartment, clean, well, equipped, ...</td>\n",
              "    </tr>\n",
              "    <tr>\n",
              "      <th>1216195</th>\n",
              "      <td>The place was a dream come true\\r Its newly re...</td>\n",
              "      <td>the place dream come true its newly even flowe...</td>\n",
              "      <td>[place, dream, come, true, newly, renovated, s...</td>\n",
              "    </tr>\n",
              "    <tr>\n",
              "      <th>1216196</th>\n",
              "      <td>Her place is so greatNice and clean. My wife a...</td>\n",
              "      <td>her place greatnice my wife wonderful</td>\n",
              "      <td>[place, greatnice, clean, wife, wonderful, time]</td>\n",
              "    </tr>\n",
              "    <tr>\n",
              "      <th>1216197</th>\n",
              "      <td>Right at the heart of Soho.The place is comfor...</td>\n",
              "      <td>right heart place well equipped beautifully ap...</td>\n",
              "      <td>[right, heart, sohothe, place, comfortable, we...</td>\n",
              "    </tr>\n",
              "  </tbody>\n",
              "</table>\n",
              "<p>1087499 rows × 3 columns</p>\n",
              "</div>\n",
              "      <button class=\"colab-df-convert\" onclick=\"convertToInteractive('df-4d17579e-d200-490a-926a-fa43bfdec859')\"\n",
              "              title=\"Convert this dataframe to an interactive table.\"\n",
              "              style=\"display:none;\">\n",
              "        \n",
              "  <svg xmlns=\"http://www.w3.org/2000/svg\" height=\"24px\"viewBox=\"0 0 24 24\"\n",
              "       width=\"24px\">\n",
              "    <path d=\"M0 0h24v24H0V0z\" fill=\"none\"/>\n",
              "    <path d=\"M18.56 5.44l.94 2.06.94-2.06 2.06-.94-2.06-.94-.94-2.06-.94 2.06-2.06.94zm-11 1L8.5 8.5l.94-2.06 2.06-.94-2.06-.94L8.5 2.5l-.94 2.06-2.06.94zm10 10l.94 2.06.94-2.06 2.06-.94-2.06-.94-.94-2.06-.94 2.06-2.06.94z\"/><path d=\"M17.41 7.96l-1.37-1.37c-.4-.4-.92-.59-1.43-.59-.52 0-1.04.2-1.43.59L10.3 9.45l-7.72 7.72c-.78.78-.78 2.05 0 2.83L4 21.41c.39.39.9.59 1.41.59.51 0 1.02-.2 1.41-.59l7.78-7.78 2.81-2.81c.8-.78.8-2.07 0-2.86zM5.41 20L4 18.59l7.72-7.72 1.47 1.35L5.41 20z\"/>\n",
              "  </svg>\n",
              "      </button>\n",
              "      \n",
              "  <style>\n",
              "    .colab-df-container {\n",
              "      display:flex;\n",
              "      flex-wrap:wrap;\n",
              "      gap: 12px;\n",
              "    }\n",
              "\n",
              "    .colab-df-convert {\n",
              "      background-color: #E8F0FE;\n",
              "      border: none;\n",
              "      border-radius: 50%;\n",
              "      cursor: pointer;\n",
              "      display: none;\n",
              "      fill: #1967D2;\n",
              "      height: 32px;\n",
              "      padding: 0 0 0 0;\n",
              "      width: 32px;\n",
              "    }\n",
              "\n",
              "    .colab-df-convert:hover {\n",
              "      background-color: #E2EBFA;\n",
              "      box-shadow: 0px 1px 2px rgba(60, 64, 67, 0.3), 0px 1px 3px 1px rgba(60, 64, 67, 0.15);\n",
              "      fill: #174EA6;\n",
              "    }\n",
              "\n",
              "    [theme=dark] .colab-df-convert {\n",
              "      background-color: #3B4455;\n",
              "      fill: #D2E3FC;\n",
              "    }\n",
              "\n",
              "    [theme=dark] .colab-df-convert:hover {\n",
              "      background-color: #434B5C;\n",
              "      box-shadow: 0px 1px 3px 1px rgba(0, 0, 0, 0.15);\n",
              "      filter: drop-shadow(0px 1px 2px rgba(0, 0, 0, 0.3));\n",
              "      fill: #FFFFFF;\n",
              "    }\n",
              "  </style>\n",
              "\n",
              "      <script>\n",
              "        const buttonEl =\n",
              "          document.querySelector('#df-4d17579e-d200-490a-926a-fa43bfdec859 button.colab-df-convert');\n",
              "        buttonEl.style.display =\n",
              "          google.colab.kernel.accessAllowed ? 'block' : 'none';\n",
              "\n",
              "        async function convertToInteractive(key) {\n",
              "          const element = document.querySelector('#df-4d17579e-d200-490a-926a-fa43bfdec859');\n",
              "          const dataTable =\n",
              "            await google.colab.kernel.invokeFunction('convertToInteractive',\n",
              "                                                     [key], {});\n",
              "          if (!dataTable) return;\n",
              "\n",
              "          const docLinkHtml = 'Like what you see? Visit the ' +\n",
              "            '<a target=\"_blank\" href=https://colab.research.google.com/notebooks/data_table.ipynb>data table notebook</a>'\n",
              "            + ' to learn more about interactive tables.';\n",
              "          element.innerHTML = '';\n",
              "          dataTable['output_type'] = 'display_data';\n",
              "          await google.colab.output.renderOutput(dataTable, element);\n",
              "          const docLink = document.createElement('div');\n",
              "          docLink.innerHTML = docLinkHtml;\n",
              "          element.appendChild(docLink);\n",
              "        }\n",
              "      </script>\n",
              "    </div>\n",
              "  </div>\n",
              "  "
            ]
          },
          "metadata": {}
        }
      ]
    },
    {
      "cell_type": "code",
      "source": [],
      "metadata": {
        "id": "LLRlozszFC30"
      },
      "execution_count": 54,
      "outputs": []
    }
  ]
}