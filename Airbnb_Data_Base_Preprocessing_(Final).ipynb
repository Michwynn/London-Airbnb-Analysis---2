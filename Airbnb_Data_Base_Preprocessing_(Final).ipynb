{
  "nbformat": 4,
  "nbformat_minor": 0,
  "metadata": {
    "colab": {
      "provenance": [],
      "collapsed_sections": []
    },
    "kernelspec": {
      "name": "python3",
      "display_name": "Python 3"
    },
    "language_info": {
      "name": "python"
    }
  },
  "cells": [
    {
      "cell_type": "markdown",
      "source": [
        "# **Configuration and library set-up**"
      ],
      "metadata": {
        "id": "zyD3xiWOoDKx"
      }
    },
    {
      "cell_type": "code",
      "execution_count": null,
      "metadata": {
        "id": "9gQSFoP-jWeO",
        "colab": {
          "base_uri": "https://localhost:8080/"
        },
        "outputId": "f136d886-07f6-4679-8c94-0325deebae13"
      },
      "outputs": [
        {
          "output_type": "stream",
          "name": "stdout",
          "text": [
            "Mounted at /content/drive\n",
            "/content/drive/.shortcut-targets-by-id/1wUOfFY-ki2nFzneeaTtXLEeMjaSdKrrj/Airbnb_Milestone2\n"
          ]
        },
        {
          "output_type": "stream",
          "name": "stderr",
          "text": [
            "[nltk_data] Downloading package stopwords to /root/nltk_data...\n",
            "[nltk_data]   Unzipping corpora/stopwords.zip.\n",
            "[nltk_data] Downloading package punkt to /root/nltk_data...\n",
            "[nltk_data]   Unzipping tokenizers/punkt.zip.\n",
            "[nltk_data] Downloading package wordnet to /root/nltk_data...\n",
            "[nltk_data] Downloading package omw-1.4 to /root/nltk_data...\n"
          ]
        },
        {
          "output_type": "stream",
          "name": "stdout",
          "text": [
            "Looking in indexes: https://pypi.org/simple, https://us-python.pkg.dev/colab-wheels/public/simple/\n",
            "Collecting fasttext\n",
            "  Downloading fasttext-0.9.2.tar.gz (68 kB)\n",
            "\u001b[K     |████████████████████████████████| 68 kB 6.7 MB/s \n",
            "\u001b[?25hCollecting pybind11>=2.2\n",
            "  Using cached pybind11-2.10.0-py3-none-any.whl (213 kB)\n",
            "Requirement already satisfied: setuptools>=0.7.0 in /usr/local/lib/python3.7/dist-packages (from fasttext) (57.4.0)\n",
            "Requirement already satisfied: numpy in /usr/local/lib/python3.7/dist-packages (from fasttext) (1.21.6)\n",
            "Building wheels for collected packages: fasttext\n",
            "  Building wheel for fasttext (setup.py) ... \u001b[?25l\u001b[?25hdone\n",
            "  Created wheel for fasttext: filename=fasttext-0.9.2-cp37-cp37m-linux_x86_64.whl size=3161426 sha256=df1da931acd4a2bb3d04f20c9e368bd5545b179425d0ddf80fd5e6203ce21d89\n",
            "  Stored in directory: /root/.cache/pip/wheels/4e/ca/bf/b020d2be95f7641801a6597a29c8f4f19e38f9c02a345bab9b\n",
            "Successfully built fasttext\n",
            "Installing collected packages: pybind11, fasttext\n",
            "Successfully installed fasttext-0.9.2 pybind11-2.10.0\n"
          ]
        },
        {
          "output_type": "stream",
          "name": "stderr",
          "text": [
            "Warning : `load_model` does not return WordVectorModel or SupervisedModel any more, but a `FastText` object which is very similar.\n"
          ]
        },
        {
          "output_type": "stream",
          "name": "stdout",
          "text": [
            "Looking in indexes: https://pypi.org/simple, https://us-python.pkg.dev/colab-wheels/public/simple/\n",
            "Collecting pycld2\n",
            "  Downloading pycld2-0.41.tar.gz (41.4 MB)\n",
            "\u001b[K     |████████████████████████████████| 41.4 MB 2.7 MB/s \n",
            "\u001b[?25hBuilding wheels for collected packages: pycld2\n",
            "  Building wheel for pycld2 (setup.py) ... \u001b[?25l\u001b[?25hdone\n",
            "  Created wheel for pycld2: filename=pycld2-0.41-cp37-cp37m-linux_x86_64.whl size=9834298 sha256=ac6ed43ef95cbad5b69b3c6ea641510dc7639a7da87aded85cd176493d23ccad\n",
            "  Stored in directory: /root/.cache/pip/wheels/ed/e4/58/ed2e9f43c07d617cc81fe7aff0fc6e42b16c9cf6afe960b614\n",
            "Successfully built pycld2\n",
            "Installing collected packages: pycld2\n",
            "Successfully installed pycld2-0.41\n"
          ]
        },
        {
          "output_type": "stream",
          "name": "stderr",
          "text": [
            "[nltk_data] Downloading package vader_lexicon to /root/nltk_data...\n"
          ]
        },
        {
          "output_type": "stream",
          "name": "stdout",
          "text": [
            "Looking in indexes: https://pypi.org/simple, https://us-python.pkg.dev/colab-wheels/public/simple/\n",
            "Collecting vaderSentiment\n",
            "  Downloading vaderSentiment-3.3.2-py2.py3-none-any.whl (125 kB)\n",
            "\u001b[?25l\r\u001b[K     |██▋                             | 10 kB 32.8 MB/s eta 0:00:01\r\u001b[K     |█████▏                          | 20 kB 33.1 MB/s eta 0:00:01\r\u001b[K     |███████▉                        | 30 kB 40.1 MB/s eta 0:00:01\r\u001b[K     |██████████▍                     | 40 kB 26.2 MB/s eta 0:00:01\r\u001b[K     |█████████████                   | 51 kB 18.3 MB/s eta 0:00:01\r\u001b[K     |███████████████▋                | 61 kB 18.7 MB/s eta 0:00:01\r\u001b[K     |██████████████████▏             | 71 kB 19.6 MB/s eta 0:00:01\r\u001b[K     |████████████████████▉           | 81 kB 20.5 MB/s eta 0:00:01\r\u001b[K     |███████████████████████▍        | 92 kB 22.0 MB/s eta 0:00:01\r\u001b[K     |██████████████████████████      | 102 kB 23.5 MB/s eta 0:00:01\r\u001b[K     |████████████████████████████▋   | 112 kB 23.5 MB/s eta 0:00:01\r\u001b[K     |███████████████████████████████▏| 122 kB 23.5 MB/s eta 0:00:01\r\u001b[K     |████████████████████████████████| 125 kB 23.5 MB/s \n",
            "\u001b[?25hRequirement already satisfied: requests in /usr/local/lib/python3.7/dist-packages (from vaderSentiment) (2.23.0)\n",
            "Requirement already satisfied: urllib3!=1.25.0,!=1.25.1,<1.26,>=1.21.1 in /usr/local/lib/python3.7/dist-packages (from requests->vaderSentiment) (1.24.3)\n",
            "Requirement already satisfied: idna<3,>=2.5 in /usr/local/lib/python3.7/dist-packages (from requests->vaderSentiment) (2.10)\n",
            "Requirement already satisfied: chardet<4,>=3.0.2 in /usr/local/lib/python3.7/dist-packages (from requests->vaderSentiment) (3.0.4)\n",
            "Requirement already satisfied: certifi>=2017.4.17 in /usr/local/lib/python3.7/dist-packages (from requests->vaderSentiment) (2022.9.24)\n",
            "Installing collected packages: vaderSentiment\n",
            "Successfully installed vaderSentiment-3.3.2\n"
          ]
        }
      ],
      "source": [
        "# set up working directory\n",
        "import os\n",
        "from google.colab import drive\n",
        "drive.mount('/content/drive')\n",
        "%cd /content/drive/My Drive/Airbnb_Milestone2\n",
        "\n",
        "# data manipulation\n",
        "import pandas as pd\n",
        "import numpy as np \n",
        "import re # regex\n",
        "pattern = '\\w+' # default regex pattern\n",
        "import random\n",
        "import string\n",
        "from collections import Counter, defaultdict\n",
        "from itertools import chain\n",
        "\n",
        "# machine learning\n",
        "from sklearn.dummy import DummyClassifier\n",
        "from sklearn.feature_extraction.text import TfidfVectorizer\n",
        "from sklearn.linear_model import LogisticRegression\n",
        "from sklearn.metrics import f1_score\n",
        "from sklearn.model_selection import train_test_split\n",
        "\n",
        "# timeit\n",
        "from tqdm import tqdm\n",
        "\n",
        "# data visualisation\n",
        "import altair as alt\n",
        "import seaborn as sns\n",
        "import matplotlib.pyplot as plt\n",
        "from matplotlib.pyplot import figure\n",
        "\n",
        "# NLP\n",
        "import spacy\n",
        "import nltk\n",
        "from nltk.corpus import stopwords\n",
        "nltk.download('stopwords') # comment out if already downloaded\n",
        "stop_words = set(stopwords.words('english'))\n",
        "nltk.download('punkt')     # comment out if already downloaded\n",
        "nltk.download('wordnet')\n",
        "nltk.download('omw-1.4')\n",
        "from nltk.tokenize import word_tokenize\n",
        "from nltk.stem import PorterStemmer\n",
        "from nltk.stem.wordnet import WordNetLemmatizer\n",
        "\n",
        "# Language Detection\n",
        "\n",
        "!pip install fasttext\n",
        "import fasttext\n",
        "# setting up the pretrained model\n",
        "fasttxt_model = fasttext.load_model(\"lid.176.bin\")\n",
        "\n",
        "!pip install pycld2\n",
        "import pycld2 as cld2\n",
        "\n",
        "# VADER sentiment tagging \n",
        "nltk.downloader.download('vader_lexicon')\n",
        "!pip install vaderSentiment\n",
        "from vaderSentiment.vaderSentiment import SentimentIntensityAnalyzer\n",
        "\n",
        "# helper function to remove HTML tags from comments\n",
        "from bs4 import BeautifulSoup\n",
        "\n",
        "# supress warnings\n",
        "import warnings \n",
        "warnings.filterwarnings('ignore')\n",
        "\n",
        "# Display all columns\n",
        "pd.set_option('display.max_columns', None)"
      ]
    },
    {
      "cell_type": "code",
      "source": [
        "# read data\n",
        "reviews_df = pd.read_csv('Datasets/reviews.csv') \n",
        "# remove white spaces in column headings\n",
        "reviews_df.columns = reviews_df.columns.str.strip() \n",
        "# Examine dataset\n",
        "display(reviews_df.head(10))\n",
        "display(reviews_df.shape)"
      ],
      "metadata": {
        "colab": {
          "base_uri": "https://localhost:8080/",
          "height": 599
        },
        "id": "LgmD66kkoXjD",
        "outputId": "b195c5f2-c1cc-4247-df16-90de903d3f69"
      },
      "execution_count": null,
      "outputs": [
        {
          "output_type": "display_data",
          "data": {
            "text/plain": [
              "           listing_id                  id        date  reviewer_id  \\\n",
              "0            52228441  623723762668719111  2022-05-10     37052865   \n",
              "1            52228441  505671819125096360  2021-11-28     70830110   \n",
              "2            52228441  466510411892882382  2021-10-05     83617224   \n",
              "3            52228441  604109461995958546  2022-04-13      2152541   \n",
              "4  605617198416835367  633128504578904919  2022-05-23     45418187   \n",
              "5            52228441  488275073602903479  2021-11-04     37185586   \n",
              "6            17501535  668631693343526023  2022-07-11      5132271   \n",
              "7            52228441  588257361951713358  2022-03-22    248672143   \n",
              "8            17501535  633193507110858827  2022-05-23    413544004   \n",
              "9            52228441  491866989310660615  2021-11-09      8452946   \n",
              "\n",
              "  reviewer_name                                           comments  \n",
              "0      Kimberly  Great location, and the host was very responsi...  \n",
              "1       Mahelet  Duccio is a lovely and friendly host. From arr...  \n",
              "2          Will  Duccio is a good communicator… he was very hel...  \n",
              "3     Francesco  Not entirely compliant to the pics.<br/>Good l...  \n",
              "4        Waddah                         Great place and great host  \n",
              "5       Ruslans  The flat is very well connected to the city by...  \n",
              "6          Marc                                         Nice place  \n",
              "7      Sveinung  Big apartment but a little bit run down.  Kitc...  \n",
              "8        Daniel  Amazing place, we loved it. Tons of space, nic...  \n",
              "9        Johnny  Duccio was a great host, super friendly with l...  "
            ],
            "text/html": [
              "\n",
              "  <div id=\"df-d54dda39-6714-40ab-9d26-c627713cae40\">\n",
              "    <div class=\"colab-df-container\">\n",
              "      <div>\n",
              "<style scoped>\n",
              "    .dataframe tbody tr th:only-of-type {\n",
              "        vertical-align: middle;\n",
              "    }\n",
              "\n",
              "    .dataframe tbody tr th {\n",
              "        vertical-align: top;\n",
              "    }\n",
              "\n",
              "    .dataframe thead th {\n",
              "        text-align: right;\n",
              "    }\n",
              "</style>\n",
              "<table border=\"1\" class=\"dataframe\">\n",
              "  <thead>\n",
              "    <tr style=\"text-align: right;\">\n",
              "      <th></th>\n",
              "      <th>listing_id</th>\n",
              "      <th>id</th>\n",
              "      <th>date</th>\n",
              "      <th>reviewer_id</th>\n",
              "      <th>reviewer_name</th>\n",
              "      <th>comments</th>\n",
              "    </tr>\n",
              "  </thead>\n",
              "  <tbody>\n",
              "    <tr>\n",
              "      <th>0</th>\n",
              "      <td>52228441</td>\n",
              "      <td>623723762668719111</td>\n",
              "      <td>2022-05-10</td>\n",
              "      <td>37052865</td>\n",
              "      <td>Kimberly</td>\n",
              "      <td>Great location, and the host was very responsi...</td>\n",
              "    </tr>\n",
              "    <tr>\n",
              "      <th>1</th>\n",
              "      <td>52228441</td>\n",
              "      <td>505671819125096360</td>\n",
              "      <td>2021-11-28</td>\n",
              "      <td>70830110</td>\n",
              "      <td>Mahelet</td>\n",
              "      <td>Duccio is a lovely and friendly host. From arr...</td>\n",
              "    </tr>\n",
              "    <tr>\n",
              "      <th>2</th>\n",
              "      <td>52228441</td>\n",
              "      <td>466510411892882382</td>\n",
              "      <td>2021-10-05</td>\n",
              "      <td>83617224</td>\n",
              "      <td>Will</td>\n",
              "      <td>Duccio is a good communicator… he was very hel...</td>\n",
              "    </tr>\n",
              "    <tr>\n",
              "      <th>3</th>\n",
              "      <td>52228441</td>\n",
              "      <td>604109461995958546</td>\n",
              "      <td>2022-04-13</td>\n",
              "      <td>2152541</td>\n",
              "      <td>Francesco</td>\n",
              "      <td>Not entirely compliant to the pics.&lt;br/&gt;Good l...</td>\n",
              "    </tr>\n",
              "    <tr>\n",
              "      <th>4</th>\n",
              "      <td>605617198416835367</td>\n",
              "      <td>633128504578904919</td>\n",
              "      <td>2022-05-23</td>\n",
              "      <td>45418187</td>\n",
              "      <td>Waddah</td>\n",
              "      <td>Great place and great host</td>\n",
              "    </tr>\n",
              "    <tr>\n",
              "      <th>5</th>\n",
              "      <td>52228441</td>\n",
              "      <td>488275073602903479</td>\n",
              "      <td>2021-11-04</td>\n",
              "      <td>37185586</td>\n",
              "      <td>Ruslans</td>\n",
              "      <td>The flat is very well connected to the city by...</td>\n",
              "    </tr>\n",
              "    <tr>\n",
              "      <th>6</th>\n",
              "      <td>17501535</td>\n",
              "      <td>668631693343526023</td>\n",
              "      <td>2022-07-11</td>\n",
              "      <td>5132271</td>\n",
              "      <td>Marc</td>\n",
              "      <td>Nice place</td>\n",
              "    </tr>\n",
              "    <tr>\n",
              "      <th>7</th>\n",
              "      <td>52228441</td>\n",
              "      <td>588257361951713358</td>\n",
              "      <td>2022-03-22</td>\n",
              "      <td>248672143</td>\n",
              "      <td>Sveinung</td>\n",
              "      <td>Big apartment but a little bit run down.  Kitc...</td>\n",
              "    </tr>\n",
              "    <tr>\n",
              "      <th>8</th>\n",
              "      <td>17501535</td>\n",
              "      <td>633193507110858827</td>\n",
              "      <td>2022-05-23</td>\n",
              "      <td>413544004</td>\n",
              "      <td>Daniel</td>\n",
              "      <td>Amazing place, we loved it. Tons of space, nic...</td>\n",
              "    </tr>\n",
              "    <tr>\n",
              "      <th>9</th>\n",
              "      <td>52228441</td>\n",
              "      <td>491866989310660615</td>\n",
              "      <td>2021-11-09</td>\n",
              "      <td>8452946</td>\n",
              "      <td>Johnny</td>\n",
              "      <td>Duccio was a great host, super friendly with l...</td>\n",
              "    </tr>\n",
              "  </tbody>\n",
              "</table>\n",
              "</div>\n",
              "      <button class=\"colab-df-convert\" onclick=\"convertToInteractive('df-d54dda39-6714-40ab-9d26-c627713cae40')\"\n",
              "              title=\"Convert this dataframe to an interactive table.\"\n",
              "              style=\"display:none;\">\n",
              "        \n",
              "  <svg xmlns=\"http://www.w3.org/2000/svg\" height=\"24px\"viewBox=\"0 0 24 24\"\n",
              "       width=\"24px\">\n",
              "    <path d=\"M0 0h24v24H0V0z\" fill=\"none\"/>\n",
              "    <path d=\"M18.56 5.44l.94 2.06.94-2.06 2.06-.94-2.06-.94-.94-2.06-.94 2.06-2.06.94zm-11 1L8.5 8.5l.94-2.06 2.06-.94-2.06-.94L8.5 2.5l-.94 2.06-2.06.94zm10 10l.94 2.06.94-2.06 2.06-.94-2.06-.94-.94-2.06-.94 2.06-2.06.94z\"/><path d=\"M17.41 7.96l-1.37-1.37c-.4-.4-.92-.59-1.43-.59-.52 0-1.04.2-1.43.59L10.3 9.45l-7.72 7.72c-.78.78-.78 2.05 0 2.83L4 21.41c.39.39.9.59 1.41.59.51 0 1.02-.2 1.41-.59l7.78-7.78 2.81-2.81c.8-.78.8-2.07 0-2.86zM5.41 20L4 18.59l7.72-7.72 1.47 1.35L5.41 20z\"/>\n",
              "  </svg>\n",
              "      </button>\n",
              "      \n",
              "  <style>\n",
              "    .colab-df-container {\n",
              "      display:flex;\n",
              "      flex-wrap:wrap;\n",
              "      gap: 12px;\n",
              "    }\n",
              "\n",
              "    .colab-df-convert {\n",
              "      background-color: #E8F0FE;\n",
              "      border: none;\n",
              "      border-radius: 50%;\n",
              "      cursor: pointer;\n",
              "      display: none;\n",
              "      fill: #1967D2;\n",
              "      height: 32px;\n",
              "      padding: 0 0 0 0;\n",
              "      width: 32px;\n",
              "    }\n",
              "\n",
              "    .colab-df-convert:hover {\n",
              "      background-color: #E2EBFA;\n",
              "      box-shadow: 0px 1px 2px rgba(60, 64, 67, 0.3), 0px 1px 3px 1px rgba(60, 64, 67, 0.15);\n",
              "      fill: #174EA6;\n",
              "    }\n",
              "\n",
              "    [theme=dark] .colab-df-convert {\n",
              "      background-color: #3B4455;\n",
              "      fill: #D2E3FC;\n",
              "    }\n",
              "\n",
              "    [theme=dark] .colab-df-convert:hover {\n",
              "      background-color: #434B5C;\n",
              "      box-shadow: 0px 1px 3px 1px rgba(0, 0, 0, 0.15);\n",
              "      filter: drop-shadow(0px 1px 2px rgba(0, 0, 0, 0.3));\n",
              "      fill: #FFFFFF;\n",
              "    }\n",
              "  </style>\n",
              "\n",
              "      <script>\n",
              "        const buttonEl =\n",
              "          document.querySelector('#df-d54dda39-6714-40ab-9d26-c627713cae40 button.colab-df-convert');\n",
              "        buttonEl.style.display =\n",
              "          google.colab.kernel.accessAllowed ? 'block' : 'none';\n",
              "\n",
              "        async function convertToInteractive(key) {\n",
              "          const element = document.querySelector('#df-d54dda39-6714-40ab-9d26-c627713cae40');\n",
              "          const dataTable =\n",
              "            await google.colab.kernel.invokeFunction('convertToInteractive',\n",
              "                                                     [key], {});\n",
              "          if (!dataTable) return;\n",
              "\n",
              "          const docLinkHtml = 'Like what you see? Visit the ' +\n",
              "            '<a target=\"_blank\" href=https://colab.research.google.com/notebooks/data_table.ipynb>data table notebook</a>'\n",
              "            + ' to learn more about interactive tables.';\n",
              "          element.innerHTML = '';\n",
              "          dataTable['output_type'] = 'display_data';\n",
              "          await google.colab.output.renderOutput(dataTable, element);\n",
              "          const docLink = document.createElement('div');\n",
              "          docLink.innerHTML = docLinkHtml;\n",
              "          element.appendChild(docLink);\n",
              "        }\n",
              "      </script>\n",
              "    </div>\n",
              "  </div>\n",
              "  "
            ]
          },
          "metadata": {}
        },
        {
          "output_type": "display_data",
          "data": {
            "text/plain": [
              "(1216212, 6)"
            ]
          },
          "metadata": {}
        }
      ]
    },
    {
      "cell_type": "markdown",
      "source": [
        "# **Data Cleaning**"
      ],
      "metadata": {
        "id": "3JLaVBEhGVAq"
      }
    },
    {
      "cell_type": "markdown",
      "source": [
        "**Steps to follow**\n",
        "\n",
        "1.   Drop rows containing NAN values (DONE)\n",
        "2.   Drop rows with empty string for 'comments' column (DONE)\n",
        "3.   Remove HTML tags from string in 'comments' column (DONE)\n",
        "4.   Remove special characters including emojis from strings (DONE)\n",
        "5.   Drop rows containing non-english string in 'comments' column (DONE)\n",
        "\n",
        "\n",
        "\n"
      ],
      "metadata": {
        "id": "E3MtXIt9QF-M"
      }
    },
    {
      "cell_type": "code",
      "source": [
        "# check if there is any null value \n",
        "reviews_df.isnull().sum()"
      ],
      "metadata": {
        "colab": {
          "base_uri": "https://localhost:8080/"
        },
        "id": "S7W23mLhGa1D",
        "outputId": "2db25d3a-6718-421f-e98a-fc121628180d"
      },
      "execution_count": null,
      "outputs": [
        {
          "output_type": "execute_result",
          "data": {
            "text/plain": [
              "listing_id        0\n",
              "id                0\n",
              "date              0\n",
              "reviewer_id       0\n",
              "reviewer_name     2\n",
              "comments         92\n",
              "dtype: int64"
            ]
          },
          "metadata": {},
          "execution_count": 3
        }
      ]
    },
    {
      "cell_type": "code",
      "source": [
        "# check if there is any empty string in the comments column\n",
        "reviews_df.loc[reviews_df[\"comments\"] == \".\"]"
      ],
      "metadata": {
        "colab": {
          "base_uri": "https://localhost:8080/",
          "height": 423
        },
        "id": "mkYmu6EHGbqU",
        "outputId": "198032a9-6a5d-48c1-ce52-5021760ebad3"
      },
      "execution_count": null,
      "outputs": [
        {
          "output_type": "execute_result",
          "data": {
            "text/plain": [
              "         listing_id                  id        date  reviewer_id  \\\n",
              "92         21526298  675869744229404323  2022-07-21    215666012   \n",
              "319        32537244           572622781  2019-12-03    310625523   \n",
              "2388        3370968  551274991374749641  2022-01-30     88466671   \n",
              "3143       13396482           562849095  2019-11-11    299309771   \n",
              "3334          41509            49170962  2015-10-01       736090   \n",
              "...             ...                 ...         ...          ...   \n",
              "1209963    31495400           518304382  2019-08-26     34520842   \n",
              "1212428    31201633           419606016  2019-03-04    243989008   \n",
              "1212852    31304270           419096711  2019-03-03    244943897   \n",
              "1214589    32002019           474417589  2019-06-23     64631352   \n",
              "1214718    32008953           427250653  2019-03-23     42680816   \n",
              "\n",
              "        reviewer_name comments  \n",
              "92              David        .  \n",
              "319          Fernando        .  \n",
              "2388            Bekee        .  \n",
              "3143          Cecilie        .  \n",
              "3334          Alberto        .  \n",
              "...               ...      ...  \n",
              "1209963       Augusto        .  \n",
              "1212428        Javier        .  \n",
              "1212852       Bernard        .  \n",
              "1214589      Margaret        .  \n",
              "1214718     Christina        .  \n",
              "\n",
              "[1477 rows x 6 columns]"
            ],
            "text/html": [
              "\n",
              "  <div id=\"df-78ee45cf-90f9-4932-b399-b4426a0123f8\">\n",
              "    <div class=\"colab-df-container\">\n",
              "      <div>\n",
              "<style scoped>\n",
              "    .dataframe tbody tr th:only-of-type {\n",
              "        vertical-align: middle;\n",
              "    }\n",
              "\n",
              "    .dataframe tbody tr th {\n",
              "        vertical-align: top;\n",
              "    }\n",
              "\n",
              "    .dataframe thead th {\n",
              "        text-align: right;\n",
              "    }\n",
              "</style>\n",
              "<table border=\"1\" class=\"dataframe\">\n",
              "  <thead>\n",
              "    <tr style=\"text-align: right;\">\n",
              "      <th></th>\n",
              "      <th>listing_id</th>\n",
              "      <th>id</th>\n",
              "      <th>date</th>\n",
              "      <th>reviewer_id</th>\n",
              "      <th>reviewer_name</th>\n",
              "      <th>comments</th>\n",
              "    </tr>\n",
              "  </thead>\n",
              "  <tbody>\n",
              "    <tr>\n",
              "      <th>92</th>\n",
              "      <td>21526298</td>\n",
              "      <td>675869744229404323</td>\n",
              "      <td>2022-07-21</td>\n",
              "      <td>215666012</td>\n",
              "      <td>David</td>\n",
              "      <td>.</td>\n",
              "    </tr>\n",
              "    <tr>\n",
              "      <th>319</th>\n",
              "      <td>32537244</td>\n",
              "      <td>572622781</td>\n",
              "      <td>2019-12-03</td>\n",
              "      <td>310625523</td>\n",
              "      <td>Fernando</td>\n",
              "      <td>.</td>\n",
              "    </tr>\n",
              "    <tr>\n",
              "      <th>2388</th>\n",
              "      <td>3370968</td>\n",
              "      <td>551274991374749641</td>\n",
              "      <td>2022-01-30</td>\n",
              "      <td>88466671</td>\n",
              "      <td>Bekee</td>\n",
              "      <td>.</td>\n",
              "    </tr>\n",
              "    <tr>\n",
              "      <th>3143</th>\n",
              "      <td>13396482</td>\n",
              "      <td>562849095</td>\n",
              "      <td>2019-11-11</td>\n",
              "      <td>299309771</td>\n",
              "      <td>Cecilie</td>\n",
              "      <td>.</td>\n",
              "    </tr>\n",
              "    <tr>\n",
              "      <th>3334</th>\n",
              "      <td>41509</td>\n",
              "      <td>49170962</td>\n",
              "      <td>2015-10-01</td>\n",
              "      <td>736090</td>\n",
              "      <td>Alberto</td>\n",
              "      <td>.</td>\n",
              "    </tr>\n",
              "    <tr>\n",
              "      <th>...</th>\n",
              "      <td>...</td>\n",
              "      <td>...</td>\n",
              "      <td>...</td>\n",
              "      <td>...</td>\n",
              "      <td>...</td>\n",
              "      <td>...</td>\n",
              "    </tr>\n",
              "    <tr>\n",
              "      <th>1209963</th>\n",
              "      <td>31495400</td>\n",
              "      <td>518304382</td>\n",
              "      <td>2019-08-26</td>\n",
              "      <td>34520842</td>\n",
              "      <td>Augusto</td>\n",
              "      <td>.</td>\n",
              "    </tr>\n",
              "    <tr>\n",
              "      <th>1212428</th>\n",
              "      <td>31201633</td>\n",
              "      <td>419606016</td>\n",
              "      <td>2019-03-04</td>\n",
              "      <td>243989008</td>\n",
              "      <td>Javier</td>\n",
              "      <td>.</td>\n",
              "    </tr>\n",
              "    <tr>\n",
              "      <th>1212852</th>\n",
              "      <td>31304270</td>\n",
              "      <td>419096711</td>\n",
              "      <td>2019-03-03</td>\n",
              "      <td>244943897</td>\n",
              "      <td>Bernard</td>\n",
              "      <td>.</td>\n",
              "    </tr>\n",
              "    <tr>\n",
              "      <th>1214589</th>\n",
              "      <td>32002019</td>\n",
              "      <td>474417589</td>\n",
              "      <td>2019-06-23</td>\n",
              "      <td>64631352</td>\n",
              "      <td>Margaret</td>\n",
              "      <td>.</td>\n",
              "    </tr>\n",
              "    <tr>\n",
              "      <th>1214718</th>\n",
              "      <td>32008953</td>\n",
              "      <td>427250653</td>\n",
              "      <td>2019-03-23</td>\n",
              "      <td>42680816</td>\n",
              "      <td>Christina</td>\n",
              "      <td>.</td>\n",
              "    </tr>\n",
              "  </tbody>\n",
              "</table>\n",
              "<p>1477 rows × 6 columns</p>\n",
              "</div>\n",
              "      <button class=\"colab-df-convert\" onclick=\"convertToInteractive('df-78ee45cf-90f9-4932-b399-b4426a0123f8')\"\n",
              "              title=\"Convert this dataframe to an interactive table.\"\n",
              "              style=\"display:none;\">\n",
              "        \n",
              "  <svg xmlns=\"http://www.w3.org/2000/svg\" height=\"24px\"viewBox=\"0 0 24 24\"\n",
              "       width=\"24px\">\n",
              "    <path d=\"M0 0h24v24H0V0z\" fill=\"none\"/>\n",
              "    <path d=\"M18.56 5.44l.94 2.06.94-2.06 2.06-.94-2.06-.94-.94-2.06-.94 2.06-2.06.94zm-11 1L8.5 8.5l.94-2.06 2.06-.94-2.06-.94L8.5 2.5l-.94 2.06-2.06.94zm10 10l.94 2.06.94-2.06 2.06-.94-2.06-.94-.94-2.06-.94 2.06-2.06.94z\"/><path d=\"M17.41 7.96l-1.37-1.37c-.4-.4-.92-.59-1.43-.59-.52 0-1.04.2-1.43.59L10.3 9.45l-7.72 7.72c-.78.78-.78 2.05 0 2.83L4 21.41c.39.39.9.59 1.41.59.51 0 1.02-.2 1.41-.59l7.78-7.78 2.81-2.81c.8-.78.8-2.07 0-2.86zM5.41 20L4 18.59l7.72-7.72 1.47 1.35L5.41 20z\"/>\n",
              "  </svg>\n",
              "      </button>\n",
              "      \n",
              "  <style>\n",
              "    .colab-df-container {\n",
              "      display:flex;\n",
              "      flex-wrap:wrap;\n",
              "      gap: 12px;\n",
              "    }\n",
              "\n",
              "    .colab-df-convert {\n",
              "      background-color: #E8F0FE;\n",
              "      border: none;\n",
              "      border-radius: 50%;\n",
              "      cursor: pointer;\n",
              "      display: none;\n",
              "      fill: #1967D2;\n",
              "      height: 32px;\n",
              "      padding: 0 0 0 0;\n",
              "      width: 32px;\n",
              "    }\n",
              "\n",
              "    .colab-df-convert:hover {\n",
              "      background-color: #E2EBFA;\n",
              "      box-shadow: 0px 1px 2px rgba(60, 64, 67, 0.3), 0px 1px 3px 1px rgba(60, 64, 67, 0.15);\n",
              "      fill: #174EA6;\n",
              "    }\n",
              "\n",
              "    [theme=dark] .colab-df-convert {\n",
              "      background-color: #3B4455;\n",
              "      fill: #D2E3FC;\n",
              "    }\n",
              "\n",
              "    [theme=dark] .colab-df-convert:hover {\n",
              "      background-color: #434B5C;\n",
              "      box-shadow: 0px 1px 3px 1px rgba(0, 0, 0, 0.15);\n",
              "      filter: drop-shadow(0px 1px 2px rgba(0, 0, 0, 0.3));\n",
              "      fill: #FFFFFF;\n",
              "    }\n",
              "  </style>\n",
              "\n",
              "      <script>\n",
              "        const buttonEl =\n",
              "          document.querySelector('#df-78ee45cf-90f9-4932-b399-b4426a0123f8 button.colab-df-convert');\n",
              "        buttonEl.style.display =\n",
              "          google.colab.kernel.accessAllowed ? 'block' : 'none';\n",
              "\n",
              "        async function convertToInteractive(key) {\n",
              "          const element = document.querySelector('#df-78ee45cf-90f9-4932-b399-b4426a0123f8');\n",
              "          const dataTable =\n",
              "            await google.colab.kernel.invokeFunction('convertToInteractive',\n",
              "                                                     [key], {});\n",
              "          if (!dataTable) return;\n",
              "\n",
              "          const docLinkHtml = 'Like what you see? Visit the ' +\n",
              "            '<a target=\"_blank\" href=https://colab.research.google.com/notebooks/data_table.ipynb>data table notebook</a>'\n",
              "            + ' to learn more about interactive tables.';\n",
              "          element.innerHTML = '';\n",
              "          dataTable['output_type'] = 'display_data';\n",
              "          await google.colab.output.renderOutput(dataTable, element);\n",
              "          const docLink = document.createElement('div');\n",
              "          docLink.innerHTML = docLinkHtml;\n",
              "          element.appendChild(docLink);\n",
              "        }\n",
              "      </script>\n",
              "    </div>\n",
              "  </div>\n",
              "  "
            ]
          },
          "metadata": {},
          "execution_count": 4
        }
      ]
    },
    {
      "cell_type": "code",
      "source": [
        "# Drop the null value and comments value with \".\"\n",
        "reviews_df = reviews_df[reviews_df['comments'].notna()]\n",
        "display(reviews_df.shape)"
      ],
      "metadata": {
        "colab": {
          "base_uri": "https://localhost:8080/",
          "height": 35
        },
        "id": "7ZS82QqkMGFT",
        "outputId": "e8232869-8b40-4e35-e8d8-439b66c689d9"
      },
      "execution_count": null,
      "outputs": [
        {
          "output_type": "display_data",
          "data": {
            "text/plain": [
              "(1216120, 6)"
            ]
          },
          "metadata": {}
        }
      ]
    },
    {
      "cell_type": "markdown",
      "source": [
        "---\n",
        "92 Comments containing null value dropped"
      ],
      "metadata": {
        "id": "IpbdHXDxMe0w"
      }
    },
    {
      "cell_type": "code",
      "source": [
        "# Drop the rows with empty string for comments column\n",
        "reviews_df = reviews_df.loc[reviews_df[\"comments\"] != \".\"]\n",
        "display(reviews_df.shape)"
      ],
      "metadata": {
        "colab": {
          "base_uri": "https://localhost:8080/",
          "height": 35
        },
        "id": "rEazso8DM6Cb",
        "outputId": "6ae8ee29-54f5-4fee-e128-c143abd7b799"
      },
      "execution_count": null,
      "outputs": [
        {
          "output_type": "display_data",
          "data": {
            "text/plain": [
              "(1214643, 6)"
            ]
          },
          "metadata": {}
        }
      ]
    },
    {
      "cell_type": "markdown",
      "source": [
        "---\n",
        "1477 Comments containing empty string dropped"
      ],
      "metadata": {
        "id": "xUcPjrTXPJJQ"
      }
    },
    {
      "cell_type": "code",
      "source": [
        "# helper function to remove HTML tags from comments\n",
        "copy_df = reviews_df.copy()\n",
        "#small_df = copy_df.iloc[:100,]\n",
        "copy_df['comments'] = copy_df['comments'].apply(lambda s: BeautifulSoup(s).text)\n",
        "#display(copy_df.head(100))"
      ],
      "metadata": {
        "id": "nBGE3QF3HS-o"
      },
      "execution_count": null,
      "outputs": []
    },
    {
      "cell_type": "code",
      "source": [
        "# removing special characters including punctuations and emojis. \n",
        "copy2_df = copy_df.copy()\n",
        "\n",
        "copy2_df['comments'] = copy2_df['comments'].str.replace('[^\\w\\s#@/:%.,_-]', '', flags=re.UNICODE)\n",
        "copy2_df.columns = copy2_df.columns.str.strip() \n",
        "\n",
        "#display(copy2_df)"
      ],
      "metadata": {
        "id": "MCttC4LESJJm"
      },
      "execution_count": null,
      "outputs": []
    },
    {
      "cell_type": "markdown",
      "source": [
        "\n",
        "# **Comments Language Identification**"
      ],
      "metadata": {
        "id": "VhjZnCVjGDzZ"
      }
    },
    {
      "cell_type": "code",
      "source": [
        "# settting up the pretrained model\n",
        "fasttxt_model = fasttext.load_model(\"lid.176.bin\")"
      ],
      "metadata": {
        "colab": {
          "base_uri": "https://localhost:8080/"
        },
        "id": "J1uJtEAfpVib",
        "outputId": "3a53b05d-7160-48b3-ca2b-2af83a813aa7"
      },
      "execution_count": null,
      "outputs": [
        {
          "output_type": "stream",
          "name": "stderr",
          "text": [
            "Warning : `load_model` does not return WordVectorModel or SupervisedModel any more, but a `FastText` object which is very similar.\n"
          ]
        }
      ]
    },
    {
      "cell_type": "code",
      "source": [
        "# test model with example text\n",
        "fasttxt_model.predict('이 집은 정말 좋아요! 맘에 쏙 드네요')[0][0][-2:]"
      ],
      "metadata": {
        "colab": {
          "base_uri": "https://localhost:8080/",
          "height": 36
        },
        "id": "YWL4WwnU3z4B",
        "outputId": "18567ade-6ea0-4114-d223-4565a47dccf0"
      },
      "execution_count": null,
      "outputs": [
        {
          "output_type": "execute_result",
          "data": {
            "text/plain": [
              "'ko'"
            ],
            "application/vnd.google.colaboratory.intrinsic+json": {
              "type": "string"
            }
          },
          "metadata": {},
          "execution_count": 10
        }
      ]
    },
    {
      "cell_type": "code",
      "source": [
        "# Adding an extra column for language identification\n",
        "copy2_df['lang'] = copy2_df['comments'].apply(lambda x: fasttxt_model.predict(x)[0][0][-2:])\n",
        "display(copy2_df)"
      ],
      "metadata": {
        "colab": {
          "base_uri": "https://localhost:8080/",
          "height": 658
        },
        "id": "hIsstxB-4UaN",
        "outputId": "d58578ce-9379-4c7d-d5e5-0827e72f8980"
      },
      "execution_count": null,
      "outputs": [
        {
          "output_type": "display_data",
          "data": {
            "text/plain": [
              "                 listing_id                  id        date  reviewer_id  \\\n",
              "0                  52228441  623723762668719111  2022-05-10     37052865   \n",
              "1                  52228441  505671819125096360  2021-11-28     70830110   \n",
              "2                  52228441  466510411892882382  2021-10-05     83617224   \n",
              "3                  52228441  604109461995958546  2022-04-13      2152541   \n",
              "4        605617198416835367  633128504578904919  2022-05-23     45418187   \n",
              "...                     ...                 ...         ...          ...   \n",
              "1216207            14832630           184884203  2017-08-20     54407484   \n",
              "1216208            14832630           173531056  2017-07-23    130284505   \n",
              "1216209            14832630           153170957  2017-05-20    119296298   \n",
              "1216210            14832630           145456398  2017-04-18     16394435   \n",
              "1216211            14832630           103611593  2016-09-23     65608870   \n",
              "\n",
              "        reviewer_name                                           comments lang  \n",
              "0            Kimberly  Great location, and the host was very responsi...   en  \n",
              "1             Mahelet  Duccio is a lovely and friendly host. From arr...   en  \n",
              "2                Will  Duccio is a good communicator he was very help...   en  \n",
              "3           Francesco  Not entirely compliant to the pics.Good locati...   en  \n",
              "4              Waddah                         Great place and great host   en  \n",
              "...               ...                                                ...  ...  \n",
              "1216207            丽云  干净舒适适合家庭入住地段优越景点全部很多都可以步行到达节省了交通费房间设施齐备能满足我们的一...   en  \n",
              "1216208     Véronique  Excellente situation au plein centre de Londre...   fr  \n",
              "1216209        Nicole  Todo perfecto  Ubicación, comodidad y Rachel c...   es  \n",
              "1216210    Christophe  Tout dabord même si nous navons pas eu le plai...   fr  \n",
              "1216211          Ping                                          Rachel人很好   zh  \n",
              "\n",
              "[1214643 rows x 7 columns]"
            ],
            "text/html": [
              "\n",
              "  <div id=\"df-9ed298e8-2f75-4878-b91c-8653851c8731\">\n",
              "    <div class=\"colab-df-container\">\n",
              "      <div>\n",
              "<style scoped>\n",
              "    .dataframe tbody tr th:only-of-type {\n",
              "        vertical-align: middle;\n",
              "    }\n",
              "\n",
              "    .dataframe tbody tr th {\n",
              "        vertical-align: top;\n",
              "    }\n",
              "\n",
              "    .dataframe thead th {\n",
              "        text-align: right;\n",
              "    }\n",
              "</style>\n",
              "<table border=\"1\" class=\"dataframe\">\n",
              "  <thead>\n",
              "    <tr style=\"text-align: right;\">\n",
              "      <th></th>\n",
              "      <th>listing_id</th>\n",
              "      <th>id</th>\n",
              "      <th>date</th>\n",
              "      <th>reviewer_id</th>\n",
              "      <th>reviewer_name</th>\n",
              "      <th>comments</th>\n",
              "      <th>lang</th>\n",
              "    </tr>\n",
              "  </thead>\n",
              "  <tbody>\n",
              "    <tr>\n",
              "      <th>0</th>\n",
              "      <td>52228441</td>\n",
              "      <td>623723762668719111</td>\n",
              "      <td>2022-05-10</td>\n",
              "      <td>37052865</td>\n",
              "      <td>Kimberly</td>\n",
              "      <td>Great location, and the host was very responsi...</td>\n",
              "      <td>en</td>\n",
              "    </tr>\n",
              "    <tr>\n",
              "      <th>1</th>\n",
              "      <td>52228441</td>\n",
              "      <td>505671819125096360</td>\n",
              "      <td>2021-11-28</td>\n",
              "      <td>70830110</td>\n",
              "      <td>Mahelet</td>\n",
              "      <td>Duccio is a lovely and friendly host. From arr...</td>\n",
              "      <td>en</td>\n",
              "    </tr>\n",
              "    <tr>\n",
              "      <th>2</th>\n",
              "      <td>52228441</td>\n",
              "      <td>466510411892882382</td>\n",
              "      <td>2021-10-05</td>\n",
              "      <td>83617224</td>\n",
              "      <td>Will</td>\n",
              "      <td>Duccio is a good communicator he was very help...</td>\n",
              "      <td>en</td>\n",
              "    </tr>\n",
              "    <tr>\n",
              "      <th>3</th>\n",
              "      <td>52228441</td>\n",
              "      <td>604109461995958546</td>\n",
              "      <td>2022-04-13</td>\n",
              "      <td>2152541</td>\n",
              "      <td>Francesco</td>\n",
              "      <td>Not entirely compliant to the pics.Good locati...</td>\n",
              "      <td>en</td>\n",
              "    </tr>\n",
              "    <tr>\n",
              "      <th>4</th>\n",
              "      <td>605617198416835367</td>\n",
              "      <td>633128504578904919</td>\n",
              "      <td>2022-05-23</td>\n",
              "      <td>45418187</td>\n",
              "      <td>Waddah</td>\n",
              "      <td>Great place and great host</td>\n",
              "      <td>en</td>\n",
              "    </tr>\n",
              "    <tr>\n",
              "      <th>...</th>\n",
              "      <td>...</td>\n",
              "      <td>...</td>\n",
              "      <td>...</td>\n",
              "      <td>...</td>\n",
              "      <td>...</td>\n",
              "      <td>...</td>\n",
              "      <td>...</td>\n",
              "    </tr>\n",
              "    <tr>\n",
              "      <th>1216207</th>\n",
              "      <td>14832630</td>\n",
              "      <td>184884203</td>\n",
              "      <td>2017-08-20</td>\n",
              "      <td>54407484</td>\n",
              "      <td>丽云</td>\n",
              "      <td>干净舒适适合家庭入住地段优越景点全部很多都可以步行到达节省了交通费房间设施齐备能满足我们的一...</td>\n",
              "      <td>en</td>\n",
              "    </tr>\n",
              "    <tr>\n",
              "      <th>1216208</th>\n",
              "      <td>14832630</td>\n",
              "      <td>173531056</td>\n",
              "      <td>2017-07-23</td>\n",
              "      <td>130284505</td>\n",
              "      <td>Véronique</td>\n",
              "      <td>Excellente situation au plein centre de Londre...</td>\n",
              "      <td>fr</td>\n",
              "    </tr>\n",
              "    <tr>\n",
              "      <th>1216209</th>\n",
              "      <td>14832630</td>\n",
              "      <td>153170957</td>\n",
              "      <td>2017-05-20</td>\n",
              "      <td>119296298</td>\n",
              "      <td>Nicole</td>\n",
              "      <td>Todo perfecto  Ubicación, comodidad y Rachel c...</td>\n",
              "      <td>es</td>\n",
              "    </tr>\n",
              "    <tr>\n",
              "      <th>1216210</th>\n",
              "      <td>14832630</td>\n",
              "      <td>145456398</td>\n",
              "      <td>2017-04-18</td>\n",
              "      <td>16394435</td>\n",
              "      <td>Christophe</td>\n",
              "      <td>Tout dabord même si nous navons pas eu le plai...</td>\n",
              "      <td>fr</td>\n",
              "    </tr>\n",
              "    <tr>\n",
              "      <th>1216211</th>\n",
              "      <td>14832630</td>\n",
              "      <td>103611593</td>\n",
              "      <td>2016-09-23</td>\n",
              "      <td>65608870</td>\n",
              "      <td>Ping</td>\n",
              "      <td>Rachel人很好</td>\n",
              "      <td>zh</td>\n",
              "    </tr>\n",
              "  </tbody>\n",
              "</table>\n",
              "<p>1214643 rows × 7 columns</p>\n",
              "</div>\n",
              "      <button class=\"colab-df-convert\" onclick=\"convertToInteractive('df-9ed298e8-2f75-4878-b91c-8653851c8731')\"\n",
              "              title=\"Convert this dataframe to an interactive table.\"\n",
              "              style=\"display:none;\">\n",
              "        \n",
              "  <svg xmlns=\"http://www.w3.org/2000/svg\" height=\"24px\"viewBox=\"0 0 24 24\"\n",
              "       width=\"24px\">\n",
              "    <path d=\"M0 0h24v24H0V0z\" fill=\"none\"/>\n",
              "    <path d=\"M18.56 5.44l.94 2.06.94-2.06 2.06-.94-2.06-.94-.94-2.06-.94 2.06-2.06.94zm-11 1L8.5 8.5l.94-2.06 2.06-.94-2.06-.94L8.5 2.5l-.94 2.06-2.06.94zm10 10l.94 2.06.94-2.06 2.06-.94-2.06-.94-.94-2.06-.94 2.06-2.06.94z\"/><path d=\"M17.41 7.96l-1.37-1.37c-.4-.4-.92-.59-1.43-.59-.52 0-1.04.2-1.43.59L10.3 9.45l-7.72 7.72c-.78.78-.78 2.05 0 2.83L4 21.41c.39.39.9.59 1.41.59.51 0 1.02-.2 1.41-.59l7.78-7.78 2.81-2.81c.8-.78.8-2.07 0-2.86zM5.41 20L4 18.59l7.72-7.72 1.47 1.35L5.41 20z\"/>\n",
              "  </svg>\n",
              "      </button>\n",
              "      \n",
              "  <style>\n",
              "    .colab-df-container {\n",
              "      display:flex;\n",
              "      flex-wrap:wrap;\n",
              "      gap: 12px;\n",
              "    }\n",
              "\n",
              "    .colab-df-convert {\n",
              "      background-color: #E8F0FE;\n",
              "      border: none;\n",
              "      border-radius: 50%;\n",
              "      cursor: pointer;\n",
              "      display: none;\n",
              "      fill: #1967D2;\n",
              "      height: 32px;\n",
              "      padding: 0 0 0 0;\n",
              "      width: 32px;\n",
              "    }\n",
              "\n",
              "    .colab-df-convert:hover {\n",
              "      background-color: #E2EBFA;\n",
              "      box-shadow: 0px 1px 2px rgba(60, 64, 67, 0.3), 0px 1px 3px 1px rgba(60, 64, 67, 0.15);\n",
              "      fill: #174EA6;\n",
              "    }\n",
              "\n",
              "    [theme=dark] .colab-df-convert {\n",
              "      background-color: #3B4455;\n",
              "      fill: #D2E3FC;\n",
              "    }\n",
              "\n",
              "    [theme=dark] .colab-df-convert:hover {\n",
              "      background-color: #434B5C;\n",
              "      box-shadow: 0px 1px 3px 1px rgba(0, 0, 0, 0.15);\n",
              "      filter: drop-shadow(0px 1px 2px rgba(0, 0, 0, 0.3));\n",
              "      fill: #FFFFFF;\n",
              "    }\n",
              "  </style>\n",
              "\n",
              "      <script>\n",
              "        const buttonEl =\n",
              "          document.querySelector('#df-9ed298e8-2f75-4878-b91c-8653851c8731 button.colab-df-convert');\n",
              "        buttonEl.style.display =\n",
              "          google.colab.kernel.accessAllowed ? 'block' : 'none';\n",
              "\n",
              "        async function convertToInteractive(key) {\n",
              "          const element = document.querySelector('#df-9ed298e8-2f75-4878-b91c-8653851c8731');\n",
              "          const dataTable =\n",
              "            await google.colab.kernel.invokeFunction('convertToInteractive',\n",
              "                                                     [key], {});\n",
              "          if (!dataTable) return;\n",
              "\n",
              "          const docLinkHtml = 'Like what you see? Visit the ' +\n",
              "            '<a target=\"_blank\" href=https://colab.research.google.com/notebooks/data_table.ipynb>data table notebook</a>'\n",
              "            + ' to learn more about interactive tables.';\n",
              "          element.innerHTML = '';\n",
              "          dataTable['output_type'] = 'display_data';\n",
              "          await google.colab.output.renderOutput(dataTable, element);\n",
              "          const docLink = document.createElement('div');\n",
              "          docLink.innerHTML = docLinkHtml;\n",
              "          element.appendChild(docLink);\n",
              "        }\n",
              "      </script>\n",
              "    </div>\n",
              "  </div>\n",
              "  "
            ]
          },
          "metadata": {}
        }
      ]
    },
    {
      "cell_type": "code",
      "source": [
        "# calculating number of rows with non-english comments \n",
        "display(copy2_df.lang.value_counts())\n",
        "prop = (1214643-1089747)/1214643*100\n",
        "f'The total non-english comments proportion is {prop}.'"
      ],
      "metadata": {
        "colab": {
          "base_uri": "https://localhost:8080/",
          "height": 258
        },
        "id": "6JEIQ44lcp-4",
        "outputId": "1749c194-96f0-48db-eb74-c89c55126941"
      },
      "execution_count": null,
      "outputs": [
        {
          "output_type": "display_data",
          "data": {
            "text/plain": [
              "en    1089747\n",
              "fr      45182\n",
              "es      22556\n",
              "de      16384\n",
              "it      10215\n",
              "       ...   \n",
              "br          1\n",
              "mk          1\n",
              "ne          1\n",
              "io          1\n",
              "ms          1\n",
              "Name: lang, Length: 77, dtype: int64"
            ]
          },
          "metadata": {}
        },
        {
          "output_type": "execute_result",
          "data": {
            "text/plain": [
              "'The total non-english comments proportion is 10.282527458685392.'"
            ],
            "application/vnd.google.colaboratory.intrinsic+json": {
              "type": "string"
            }
          },
          "metadata": {},
          "execution_count": 12
        }
      ]
    },
    {
      "cell_type": "markdown",
      "source": [
        "---\n",
        "**The total non-english comments proportion is 10.28%. \n",
        "Therefore, it is safe to drop the rows with non-english comments.**\n",
        "\n",
        "\n"
      ],
      "metadata": {
        "id": "rq8YC60MiipG"
      }
    },
    {
      "cell_type": "code",
      "source": [
        "# keeping only rows with English comments\n",
        "copy3_df = copy2_df[copy2_df['lang']=='en']\n",
        "#display(copy3_df)"
      ],
      "metadata": {
        "id": "rO76ReLMdqYG"
      },
      "execution_count": null,
      "outputs": []
    },
    {
      "cell_type": "code",
      "source": [
        "# Special case that has both chinese and English\n",
        "display(copy3_df.loc[[1216207]])"
      ],
      "metadata": {
        "colab": {
          "base_uri": "https://localhost:8080/",
          "height": 261
        },
        "id": "remJ-OBk5rK5",
        "outputId": "c04e87b8-fa7e-45a8-b0b6-24b59c0c17bf"
      },
      "execution_count": null,
      "outputs": [
        {
          "output_type": "display_data",
          "data": {
            "text/plain": [
              "         listing_id         id        date  reviewer_id reviewer_name  \\\n",
              "1216207    14832630  184884203  2017-08-20     54407484            丽云   \n",
              "\n",
              "                                                  comments lang  \n",
              "1216207  干净舒适适合家庭入住地段优越景点全部很多都可以步行到达节省了交通费房间设施齐备能满足我们的一...   en  "
            ],
            "text/html": [
              "\n",
              "  <div id=\"df-dffbc396-aded-4d19-b245-6dc6a079a698\">\n",
              "    <div class=\"colab-df-container\">\n",
              "      <div>\n",
              "<style scoped>\n",
              "    .dataframe tbody tr th:only-of-type {\n",
              "        vertical-align: middle;\n",
              "    }\n",
              "\n",
              "    .dataframe tbody tr th {\n",
              "        vertical-align: top;\n",
              "    }\n",
              "\n",
              "    .dataframe thead th {\n",
              "        text-align: right;\n",
              "    }\n",
              "</style>\n",
              "<table border=\"1\" class=\"dataframe\">\n",
              "  <thead>\n",
              "    <tr style=\"text-align: right;\">\n",
              "      <th></th>\n",
              "      <th>listing_id</th>\n",
              "      <th>id</th>\n",
              "      <th>date</th>\n",
              "      <th>reviewer_id</th>\n",
              "      <th>reviewer_name</th>\n",
              "      <th>comments</th>\n",
              "      <th>lang</th>\n",
              "    </tr>\n",
              "  </thead>\n",
              "  <tbody>\n",
              "    <tr>\n",
              "      <th>1216207</th>\n",
              "      <td>14832630</td>\n",
              "      <td>184884203</td>\n",
              "      <td>2017-08-20</td>\n",
              "      <td>54407484</td>\n",
              "      <td>丽云</td>\n",
              "      <td>干净舒适适合家庭入住地段优越景点全部很多都可以步行到达节省了交通费房间设施齐备能满足我们的一...</td>\n",
              "      <td>en</td>\n",
              "    </tr>\n",
              "  </tbody>\n",
              "</table>\n",
              "</div>\n",
              "      <button class=\"colab-df-convert\" onclick=\"convertToInteractive('df-dffbc396-aded-4d19-b245-6dc6a079a698')\"\n",
              "              title=\"Convert this dataframe to an interactive table.\"\n",
              "              style=\"display:none;\">\n",
              "        \n",
              "  <svg xmlns=\"http://www.w3.org/2000/svg\" height=\"24px\"viewBox=\"0 0 24 24\"\n",
              "       width=\"24px\">\n",
              "    <path d=\"M0 0h24v24H0V0z\" fill=\"none\"/>\n",
              "    <path d=\"M18.56 5.44l.94 2.06.94-2.06 2.06-.94-2.06-.94-.94-2.06-.94 2.06-2.06.94zm-11 1L8.5 8.5l.94-2.06 2.06-.94-2.06-.94L8.5 2.5l-.94 2.06-2.06.94zm10 10l.94 2.06.94-2.06 2.06-.94-2.06-.94-.94-2.06-.94 2.06-2.06.94z\"/><path d=\"M17.41 7.96l-1.37-1.37c-.4-.4-.92-.59-1.43-.59-.52 0-1.04.2-1.43.59L10.3 9.45l-7.72 7.72c-.78.78-.78 2.05 0 2.83L4 21.41c.39.39.9.59 1.41.59.51 0 1.02-.2 1.41-.59l7.78-7.78 2.81-2.81c.8-.78.8-2.07 0-2.86zM5.41 20L4 18.59l7.72-7.72 1.47 1.35L5.41 20z\"/>\n",
              "  </svg>\n",
              "      </button>\n",
              "      \n",
              "  <style>\n",
              "    .colab-df-container {\n",
              "      display:flex;\n",
              "      flex-wrap:wrap;\n",
              "      gap: 12px;\n",
              "    }\n",
              "\n",
              "    .colab-df-convert {\n",
              "      background-color: #E8F0FE;\n",
              "      border: none;\n",
              "      border-radius: 50%;\n",
              "      cursor: pointer;\n",
              "      display: none;\n",
              "      fill: #1967D2;\n",
              "      height: 32px;\n",
              "      padding: 0 0 0 0;\n",
              "      width: 32px;\n",
              "    }\n",
              "\n",
              "    .colab-df-convert:hover {\n",
              "      background-color: #E2EBFA;\n",
              "      box-shadow: 0px 1px 2px rgba(60, 64, 67, 0.3), 0px 1px 3px 1px rgba(60, 64, 67, 0.15);\n",
              "      fill: #174EA6;\n",
              "    }\n",
              "\n",
              "    [theme=dark] .colab-df-convert {\n",
              "      background-color: #3B4455;\n",
              "      fill: #D2E3FC;\n",
              "    }\n",
              "\n",
              "    [theme=dark] .colab-df-convert:hover {\n",
              "      background-color: #434B5C;\n",
              "      box-shadow: 0px 1px 3px 1px rgba(0, 0, 0, 0.15);\n",
              "      filter: drop-shadow(0px 1px 2px rgba(0, 0, 0, 0.3));\n",
              "      fill: #FFFFFF;\n",
              "    }\n",
              "  </style>\n",
              "\n",
              "      <script>\n",
              "        const buttonEl =\n",
              "          document.querySelector('#df-dffbc396-aded-4d19-b245-6dc6a079a698 button.colab-df-convert');\n",
              "        buttonEl.style.display =\n",
              "          google.colab.kernel.accessAllowed ? 'block' : 'none';\n",
              "\n",
              "        async function convertToInteractive(key) {\n",
              "          const element = document.querySelector('#df-dffbc396-aded-4d19-b245-6dc6a079a698');\n",
              "          const dataTable =\n",
              "            await google.colab.kernel.invokeFunction('convertToInteractive',\n",
              "                                                     [key], {});\n",
              "          if (!dataTable) return;\n",
              "\n",
              "          const docLinkHtml = 'Like what you see? Visit the ' +\n",
              "            '<a target=\"_blank\" href=https://colab.research.google.com/notebooks/data_table.ipynb>data table notebook</a>'\n",
              "            + ' to learn more about interactive tables.';\n",
              "          element.innerHTML = '';\n",
              "          dataTable['output_type'] = 'display_data';\n",
              "          await google.colab.output.renderOutput(dataTable, element);\n",
              "          const docLink = document.createElement('div');\n",
              "          docLink.innerHTML = docLinkHtml;\n",
              "          element.appendChild(docLink);\n",
              "        }\n",
              "      </script>\n",
              "    </div>\n",
              "  </div>\n",
              "  "
            ]
          },
          "metadata": {}
        }
      ]
    },
    {
      "cell_type": "code",
      "source": [
        "# drop rows containing multiple languages\n",
        "copy3_df['Deteced_lang'] = copy3_df['comments'].map(lambda a: cld2.detect(a,bestEffort=True)[2][1][0])\n",
        "copy3_df = copy3_df[copy3_df['Deteced_lang']=='Unknown']\n",
        "#copy4_df.comments.replace({r'[^\\x00-\\x7F]+':''}, regex=True, inplace=True)\n",
        "display(copy3_df)"
      ],
      "metadata": {
        "id": "RfxxNAr76qhQ",
        "colab": {
          "base_uri": "https://localhost:8080/",
          "height": 71
        },
        "outputId": "2ab8612e-d2ac-4469-966a-dbf803b694f4"
      },
      "execution_count": null,
      "outputs": [
        {
          "output_type": "display_data",
          "data": {
            "text/plain": [
              "                 listing_id                  id        date  reviewer_id  \\\n",
              "0                  52228441  623723762668719111  2022-05-10     37052865   \n",
              "1                  52228441  505671819125096360  2021-11-28     70830110   \n",
              "2                  52228441  466510411892882382  2021-10-05     83617224   \n",
              "3                  52228441  604109461995958546  2022-04-13      2152541   \n",
              "4        605617198416835367  633128504578904919  2022-05-23     45418187   \n",
              "...                     ...                 ...         ...          ...   \n",
              "1216193            14832630           110143844  2016-10-24     45223954   \n",
              "1216194            14832630           107089577  2016-10-09     46576370   \n",
              "1216195            14832630           105494942  2016-10-02     31582062   \n",
              "1216196            14832630           104922701  2016-09-29     95543679   \n",
              "1216197            14832630           102192086  2016-09-17     16267738   \n",
              "\n",
              "        reviewer_name                                           comments lang  \\\n",
              "0            Kimberly  Great location, and the host was very responsi...   en   \n",
              "1             Mahelet  Duccio is a lovely and friendly host. From arr...   en   \n",
              "2                Will  Duccio is a good communicator he was very help...   en   \n",
              "3           Francesco  Not entirely compliant to the pics.Good locati...   en   \n",
              "4              Waddah                         Great place and great host   en   \n",
              "...               ...                                                ...  ...   \n",
              "1216193         Ellen  We had a really great stay in Rachels central ...   en   \n",
              "1216194        Anders  This was an excellent apartment. Very clean, w...   en   \n",
              "1216195         Magda  The place was a dream come true\\r Its newly re...   en   \n",
              "1216196           Joe  Her place is so greatNice and clean. My wife a...   en   \n",
              "1216197          Neta  Right at the heart of Soho.The place is comfor...   en   \n",
              "\n",
              "        Deteced_lang  \n",
              "0            Unknown  \n",
              "1            Unknown  \n",
              "2            Unknown  \n",
              "3            Unknown  \n",
              "4            Unknown  \n",
              "...              ...  \n",
              "1216193      Unknown  \n",
              "1216194      Unknown  \n",
              "1216195      Unknown  \n",
              "1216196      Unknown  \n",
              "1216197      Unknown  \n",
              "\n",
              "[1088371 rows x 8 columns]"
            ],
            "text/html": [
              "\n",
              "  <div id=\"df-ae24e06c-153b-439f-b835-d73e234051fa\">\n",
              "    <div class=\"colab-df-container\">\n",
              "      <div>\n",
              "<style scoped>\n",
              "    .dataframe tbody tr th:only-of-type {\n",
              "        vertical-align: middle;\n",
              "    }\n",
              "\n",
              "    .dataframe tbody tr th {\n",
              "        vertical-align: top;\n",
              "    }\n",
              "\n",
              "    .dataframe thead th {\n",
              "        text-align: right;\n",
              "    }\n",
              "</style>\n",
              "<table border=\"1\" class=\"dataframe\">\n",
              "  <thead>\n",
              "    <tr style=\"text-align: right;\">\n",
              "      <th></th>\n",
              "      <th>listing_id</th>\n",
              "      <th>id</th>\n",
              "      <th>date</th>\n",
              "      <th>reviewer_id</th>\n",
              "      <th>reviewer_name</th>\n",
              "      <th>comments</th>\n",
              "      <th>lang</th>\n",
              "      <th>Deteced_lang</th>\n",
              "    </tr>\n",
              "  </thead>\n",
              "  <tbody>\n",
              "    <tr>\n",
              "      <th>0</th>\n",
              "      <td>52228441</td>\n",
              "      <td>623723762668719111</td>\n",
              "      <td>2022-05-10</td>\n",
              "      <td>37052865</td>\n",
              "      <td>Kimberly</td>\n",
              "      <td>Great location, and the host was very responsi...</td>\n",
              "      <td>en</td>\n",
              "      <td>Unknown</td>\n",
              "    </tr>\n",
              "    <tr>\n",
              "      <th>1</th>\n",
              "      <td>52228441</td>\n",
              "      <td>505671819125096360</td>\n",
              "      <td>2021-11-28</td>\n",
              "      <td>70830110</td>\n",
              "      <td>Mahelet</td>\n",
              "      <td>Duccio is a lovely and friendly host. From arr...</td>\n",
              "      <td>en</td>\n",
              "      <td>Unknown</td>\n",
              "    </tr>\n",
              "    <tr>\n",
              "      <th>2</th>\n",
              "      <td>52228441</td>\n",
              "      <td>466510411892882382</td>\n",
              "      <td>2021-10-05</td>\n",
              "      <td>83617224</td>\n",
              "      <td>Will</td>\n",
              "      <td>Duccio is a good communicator he was very help...</td>\n",
              "      <td>en</td>\n",
              "      <td>Unknown</td>\n",
              "    </tr>\n",
              "    <tr>\n",
              "      <th>3</th>\n",
              "      <td>52228441</td>\n",
              "      <td>604109461995958546</td>\n",
              "      <td>2022-04-13</td>\n",
              "      <td>2152541</td>\n",
              "      <td>Francesco</td>\n",
              "      <td>Not entirely compliant to the pics.Good locati...</td>\n",
              "      <td>en</td>\n",
              "      <td>Unknown</td>\n",
              "    </tr>\n",
              "    <tr>\n",
              "      <th>4</th>\n",
              "      <td>605617198416835367</td>\n",
              "      <td>633128504578904919</td>\n",
              "      <td>2022-05-23</td>\n",
              "      <td>45418187</td>\n",
              "      <td>Waddah</td>\n",
              "      <td>Great place and great host</td>\n",
              "      <td>en</td>\n",
              "      <td>Unknown</td>\n",
              "    </tr>\n",
              "    <tr>\n",
              "      <th>...</th>\n",
              "      <td>...</td>\n",
              "      <td>...</td>\n",
              "      <td>...</td>\n",
              "      <td>...</td>\n",
              "      <td>...</td>\n",
              "      <td>...</td>\n",
              "      <td>...</td>\n",
              "      <td>...</td>\n",
              "    </tr>\n",
              "    <tr>\n",
              "      <th>1216193</th>\n",
              "      <td>14832630</td>\n",
              "      <td>110143844</td>\n",
              "      <td>2016-10-24</td>\n",
              "      <td>45223954</td>\n",
              "      <td>Ellen</td>\n",
              "      <td>We had a really great stay in Rachels central ...</td>\n",
              "      <td>en</td>\n",
              "      <td>Unknown</td>\n",
              "    </tr>\n",
              "    <tr>\n",
              "      <th>1216194</th>\n",
              "      <td>14832630</td>\n",
              "      <td>107089577</td>\n",
              "      <td>2016-10-09</td>\n",
              "      <td>46576370</td>\n",
              "      <td>Anders</td>\n",
              "      <td>This was an excellent apartment. Very clean, w...</td>\n",
              "      <td>en</td>\n",
              "      <td>Unknown</td>\n",
              "    </tr>\n",
              "    <tr>\n",
              "      <th>1216195</th>\n",
              "      <td>14832630</td>\n",
              "      <td>105494942</td>\n",
              "      <td>2016-10-02</td>\n",
              "      <td>31582062</td>\n",
              "      <td>Magda</td>\n",
              "      <td>The place was a dream come true\\r Its newly re...</td>\n",
              "      <td>en</td>\n",
              "      <td>Unknown</td>\n",
              "    </tr>\n",
              "    <tr>\n",
              "      <th>1216196</th>\n",
              "      <td>14832630</td>\n",
              "      <td>104922701</td>\n",
              "      <td>2016-09-29</td>\n",
              "      <td>95543679</td>\n",
              "      <td>Joe</td>\n",
              "      <td>Her place is so greatNice and clean. My wife a...</td>\n",
              "      <td>en</td>\n",
              "      <td>Unknown</td>\n",
              "    </tr>\n",
              "    <tr>\n",
              "      <th>1216197</th>\n",
              "      <td>14832630</td>\n",
              "      <td>102192086</td>\n",
              "      <td>2016-09-17</td>\n",
              "      <td>16267738</td>\n",
              "      <td>Neta</td>\n",
              "      <td>Right at the heart of Soho.The place is comfor...</td>\n",
              "      <td>en</td>\n",
              "      <td>Unknown</td>\n",
              "    </tr>\n",
              "  </tbody>\n",
              "</table>\n",
              "<p>1088371 rows × 8 columns</p>\n",
              "</div>\n",
              "      <button class=\"colab-df-convert\" onclick=\"convertToInteractive('df-ae24e06c-153b-439f-b835-d73e234051fa')\"\n",
              "              title=\"Convert this dataframe to an interactive table.\"\n",
              "              style=\"display:none;\">\n",
              "        \n",
              "  <svg xmlns=\"http://www.w3.org/2000/svg\" height=\"24px\"viewBox=\"0 0 24 24\"\n",
              "       width=\"24px\">\n",
              "    <path d=\"M0 0h24v24H0V0z\" fill=\"none\"/>\n",
              "    <path d=\"M18.56 5.44l.94 2.06.94-2.06 2.06-.94-2.06-.94-.94-2.06-.94 2.06-2.06.94zm-11 1L8.5 8.5l.94-2.06 2.06-.94-2.06-.94L8.5 2.5l-.94 2.06-2.06.94zm10 10l.94 2.06.94-2.06 2.06-.94-2.06-.94-.94-2.06-.94 2.06-2.06.94z\"/><path d=\"M17.41 7.96l-1.37-1.37c-.4-.4-.92-.59-1.43-.59-.52 0-1.04.2-1.43.59L10.3 9.45l-7.72 7.72c-.78.78-.78 2.05 0 2.83L4 21.41c.39.39.9.59 1.41.59.51 0 1.02-.2 1.41-.59l7.78-7.78 2.81-2.81c.8-.78.8-2.07 0-2.86zM5.41 20L4 18.59l7.72-7.72 1.47 1.35L5.41 20z\"/>\n",
              "  </svg>\n",
              "      </button>\n",
              "      \n",
              "  <style>\n",
              "    .colab-df-container {\n",
              "      display:flex;\n",
              "      flex-wrap:wrap;\n",
              "      gap: 12px;\n",
              "    }\n",
              "\n",
              "    .colab-df-convert {\n",
              "      background-color: #E8F0FE;\n",
              "      border: none;\n",
              "      border-radius: 50%;\n",
              "      cursor: pointer;\n",
              "      display: none;\n",
              "      fill: #1967D2;\n",
              "      height: 32px;\n",
              "      padding: 0 0 0 0;\n",
              "      width: 32px;\n",
              "    }\n",
              "\n",
              "    .colab-df-convert:hover {\n",
              "      background-color: #E2EBFA;\n",
              "      box-shadow: 0px 1px 2px rgba(60, 64, 67, 0.3), 0px 1px 3px 1px rgba(60, 64, 67, 0.15);\n",
              "      fill: #174EA6;\n",
              "    }\n",
              "\n",
              "    [theme=dark] .colab-df-convert {\n",
              "      background-color: #3B4455;\n",
              "      fill: #D2E3FC;\n",
              "    }\n",
              "\n",
              "    [theme=dark] .colab-df-convert:hover {\n",
              "      background-color: #434B5C;\n",
              "      box-shadow: 0px 1px 3px 1px rgba(0, 0, 0, 0.15);\n",
              "      filter: drop-shadow(0px 1px 2px rgba(0, 0, 0, 0.3));\n",
              "      fill: #FFFFFF;\n",
              "    }\n",
              "  </style>\n",
              "\n",
              "      <script>\n",
              "        const buttonEl =\n",
              "          document.querySelector('#df-ae24e06c-153b-439f-b835-d73e234051fa button.colab-df-convert');\n",
              "        buttonEl.style.display =\n",
              "          google.colab.kernel.accessAllowed ? 'block' : 'none';\n",
              "\n",
              "        async function convertToInteractive(key) {\n",
              "          const element = document.querySelector('#df-ae24e06c-153b-439f-b835-d73e234051fa');\n",
              "          const dataTable =\n",
              "            await google.colab.kernel.invokeFunction('convertToInteractive',\n",
              "                                                     [key], {});\n",
              "          if (!dataTable) return;\n",
              "\n",
              "          const docLinkHtml = 'Like what you see? Visit the ' +\n",
              "            '<a target=\"_blank\" href=https://colab.research.google.com/notebooks/data_table.ipynb>data table notebook</a>'\n",
              "            + ' to learn more about interactive tables.';\n",
              "          element.innerHTML = '';\n",
              "          dataTable['output_type'] = 'display_data';\n",
              "          await google.colab.output.renderOutput(dataTable, element);\n",
              "          const docLink = document.createElement('div');\n",
              "          docLink.innerHTML = docLinkHtml;\n",
              "          element.appendChild(docLink);\n",
              "        }\n",
              "      </script>\n",
              "    </div>\n",
              "  </div>\n",
              "  "
            ]
          },
          "metadata": {}
        },
        {
          "output_type": "stream",
          "name": "stdout",
          "text": [
            "Warning: total number of rows (1088371) exceeds max_rows (20000). Limiting to first (20000) rows.\n",
            "Warning: total number of rows (1088371) exceeds max_rows (20000). Limiting to first (20000) rows.\n"
          ]
        }
      ]
    },
    {
      "cell_type": "code",
      "source": [
        "# drop rows containing multiple languages\n",
        "reviews_df['Deteced_lang'] = reviews_df['comments'].map(lambda a: cld2.detect(a,bestEffort=True)[2][1][0])"
      ],
      "metadata": {
        "id": "1RUMMsysuk3e"
      },
      "execution_count": null,
      "outputs": []
    },
    {
      "cell_type": "code",
      "source": [
        "# drop rows containing non-meaningful words\n",
        "copy3_df['Deteced_lang'] = copy3_df['comments'].map(lambda a: cld2.detect(a, bestEffort=True)[2][0][0])\n",
        "copy3_df = copy3_df[copy3_df['Deteced_lang']!='Unknown']\n"
      ],
      "metadata": {
        "id": "IUKeRaNz-ud0"
      },
      "execution_count": null,
      "outputs": []
    },
    {
      "cell_type": "code",
      "source": [
        "display(copy3_df)"
      ],
      "metadata": {
        "colab": {
          "base_uri": "https://localhost:8080/",
          "height": 2594
        },
        "id": "2TqtvCvls8ii",
        "outputId": "7dec8f00-ef1f-4961-ade8-4752dbcfc7f7"
      },
      "execution_count": null,
      "outputs": [
        {
          "output_type": "display_data",
          "data": {
            "text/plain": [
              "                 listing_id                  id        date  reviewer_id  \\\n",
              "0                  52228441  623723762668719111  2022-05-10     37052865   \n",
              "1                  52228441  505671819125096360  2021-11-28     70830110   \n",
              "2                  52228441  466510411892882382  2021-10-05     83617224   \n",
              "3                  52228441  604109461995958546  2022-04-13      2152541   \n",
              "4        605617198416835367  633128504578904919  2022-05-23     45418187   \n",
              "...                     ...                 ...         ...          ...   \n",
              "1216193            14832630           110143844  2016-10-24     45223954   \n",
              "1216194            14832630           107089577  2016-10-09     46576370   \n",
              "1216195            14832630           105494942  2016-10-02     31582062   \n",
              "1216196            14832630           104922701  2016-09-29     95543679   \n",
              "1216197            14832630           102192086  2016-09-17     16267738   \n",
              "\n",
              "        reviewer_name                                           comments lang  \\\n",
              "0            Kimberly  Great location, and the host was very responsi...   en   \n",
              "1             Mahelet  Duccio is a lovely and friendly host. From arr...   en   \n",
              "2                Will  Duccio is a good communicator he was very help...   en   \n",
              "3           Francesco  Not entirely compliant to the pics.Good locati...   en   \n",
              "4              Waddah                         Great place and great host   en   \n",
              "...               ...                                                ...  ...   \n",
              "1216193         Ellen  We had a really great stay in Rachels central ...   en   \n",
              "1216194        Anders  This was an excellent apartment. Very clean, w...   en   \n",
              "1216195         Magda  The place was a dream come true\\r Its newly re...   en   \n",
              "1216196           Joe  Her place is so greatNice and clean. My wife a...   en   \n",
              "1216197          Neta  Right at the heart of Soho.The place is comfor...   en   \n",
              "\n",
              "        Deteced_lang  \n",
              "0            ENGLISH  \n",
              "1            ENGLISH  \n",
              "2            ENGLISH  \n",
              "3            ENGLISH  \n",
              "4            ENGLISH  \n",
              "...              ...  \n",
              "1216193      ENGLISH  \n",
              "1216194      ENGLISH  \n",
              "1216195      ENGLISH  \n",
              "1216196      ENGLISH  \n",
              "1216197      ENGLISH  \n",
              "\n",
              "[1087499 rows x 8 columns]"
            ],
            "text/html": [
              "\n",
              "  <div id=\"df-219751ed-8a5f-4c83-88b7-c0df4289f72b\">\n",
              "    <div class=\"colab-df-container\">\n",
              "      <div>\n",
              "<style scoped>\n",
              "    .dataframe tbody tr th:only-of-type {\n",
              "        vertical-align: middle;\n",
              "    }\n",
              "\n",
              "    .dataframe tbody tr th {\n",
              "        vertical-align: top;\n",
              "    }\n",
              "\n",
              "    .dataframe thead th {\n",
              "        text-align: right;\n",
              "    }\n",
              "</style>\n",
              "<table border=\"1\" class=\"dataframe\">\n",
              "  <thead>\n",
              "    <tr style=\"text-align: right;\">\n",
              "      <th></th>\n",
              "      <th>listing_id</th>\n",
              "      <th>id</th>\n",
              "      <th>date</th>\n",
              "      <th>reviewer_id</th>\n",
              "      <th>reviewer_name</th>\n",
              "      <th>comments</th>\n",
              "      <th>lang</th>\n",
              "      <th>Deteced_lang</th>\n",
              "    </tr>\n",
              "  </thead>\n",
              "  <tbody>\n",
              "    <tr>\n",
              "      <th>0</th>\n",
              "      <td>52228441</td>\n",
              "      <td>623723762668719111</td>\n",
              "      <td>2022-05-10</td>\n",
              "      <td>37052865</td>\n",
              "      <td>Kimberly</td>\n",
              "      <td>Great location, and the host was very responsi...</td>\n",
              "      <td>en</td>\n",
              "      <td>ENGLISH</td>\n",
              "    </tr>\n",
              "    <tr>\n",
              "      <th>1</th>\n",
              "      <td>52228441</td>\n",
              "      <td>505671819125096360</td>\n",
              "      <td>2021-11-28</td>\n",
              "      <td>70830110</td>\n",
              "      <td>Mahelet</td>\n",
              "      <td>Duccio is a lovely and friendly host. From arr...</td>\n",
              "      <td>en</td>\n",
              "      <td>ENGLISH</td>\n",
              "    </tr>\n",
              "    <tr>\n",
              "      <th>2</th>\n",
              "      <td>52228441</td>\n",
              "      <td>466510411892882382</td>\n",
              "      <td>2021-10-05</td>\n",
              "      <td>83617224</td>\n",
              "      <td>Will</td>\n",
              "      <td>Duccio is a good communicator he was very help...</td>\n",
              "      <td>en</td>\n",
              "      <td>ENGLISH</td>\n",
              "    </tr>\n",
              "    <tr>\n",
              "      <th>3</th>\n",
              "      <td>52228441</td>\n",
              "      <td>604109461995958546</td>\n",
              "      <td>2022-04-13</td>\n",
              "      <td>2152541</td>\n",
              "      <td>Francesco</td>\n",
              "      <td>Not entirely compliant to the pics.Good locati...</td>\n",
              "      <td>en</td>\n",
              "      <td>ENGLISH</td>\n",
              "    </tr>\n",
              "    <tr>\n",
              "      <th>4</th>\n",
              "      <td>605617198416835367</td>\n",
              "      <td>633128504578904919</td>\n",
              "      <td>2022-05-23</td>\n",
              "      <td>45418187</td>\n",
              "      <td>Waddah</td>\n",
              "      <td>Great place and great host</td>\n",
              "      <td>en</td>\n",
              "      <td>ENGLISH</td>\n",
              "    </tr>\n",
              "    <tr>\n",
              "      <th>...</th>\n",
              "      <td>...</td>\n",
              "      <td>...</td>\n",
              "      <td>...</td>\n",
              "      <td>...</td>\n",
              "      <td>...</td>\n",
              "      <td>...</td>\n",
              "      <td>...</td>\n",
              "      <td>...</td>\n",
              "    </tr>\n",
              "    <tr>\n",
              "      <th>1216193</th>\n",
              "      <td>14832630</td>\n",
              "      <td>110143844</td>\n",
              "      <td>2016-10-24</td>\n",
              "      <td>45223954</td>\n",
              "      <td>Ellen</td>\n",
              "      <td>We had a really great stay in Rachels central ...</td>\n",
              "      <td>en</td>\n",
              "      <td>ENGLISH</td>\n",
              "    </tr>\n",
              "    <tr>\n",
              "      <th>1216194</th>\n",
              "      <td>14832630</td>\n",
              "      <td>107089577</td>\n",
              "      <td>2016-10-09</td>\n",
              "      <td>46576370</td>\n",
              "      <td>Anders</td>\n",
              "      <td>This was an excellent apartment. Very clean, w...</td>\n",
              "      <td>en</td>\n",
              "      <td>ENGLISH</td>\n",
              "    </tr>\n",
              "    <tr>\n",
              "      <th>1216195</th>\n",
              "      <td>14832630</td>\n",
              "      <td>105494942</td>\n",
              "      <td>2016-10-02</td>\n",
              "      <td>31582062</td>\n",
              "      <td>Magda</td>\n",
              "      <td>The place was a dream come true\\r Its newly re...</td>\n",
              "      <td>en</td>\n",
              "      <td>ENGLISH</td>\n",
              "    </tr>\n",
              "    <tr>\n",
              "      <th>1216196</th>\n",
              "      <td>14832630</td>\n",
              "      <td>104922701</td>\n",
              "      <td>2016-09-29</td>\n",
              "      <td>95543679</td>\n",
              "      <td>Joe</td>\n",
              "      <td>Her place is so greatNice and clean. My wife a...</td>\n",
              "      <td>en</td>\n",
              "      <td>ENGLISH</td>\n",
              "    </tr>\n",
              "    <tr>\n",
              "      <th>1216197</th>\n",
              "      <td>14832630</td>\n",
              "      <td>102192086</td>\n",
              "      <td>2016-09-17</td>\n",
              "      <td>16267738</td>\n",
              "      <td>Neta</td>\n",
              "      <td>Right at the heart of Soho.The place is comfor...</td>\n",
              "      <td>en</td>\n",
              "      <td>ENGLISH</td>\n",
              "    </tr>\n",
              "  </tbody>\n",
              "</table>\n",
              "<p>1087499 rows × 8 columns</p>\n",
              "</div>\n",
              "      <button class=\"colab-df-convert\" onclick=\"convertToInteractive('df-219751ed-8a5f-4c83-88b7-c0df4289f72b')\"\n",
              "              title=\"Convert this dataframe to an interactive table.\"\n",
              "              style=\"display:none;\">\n",
              "        \n",
              "  <svg xmlns=\"http://www.w3.org/2000/svg\" height=\"24px\"viewBox=\"0 0 24 24\"\n",
              "       width=\"24px\">\n",
              "    <path d=\"M0 0h24v24H0V0z\" fill=\"none\"/>\n",
              "    <path d=\"M18.56 5.44l.94 2.06.94-2.06 2.06-.94-2.06-.94-.94-2.06-.94 2.06-2.06.94zm-11 1L8.5 8.5l.94-2.06 2.06-.94-2.06-.94L8.5 2.5l-.94 2.06-2.06.94zm10 10l.94 2.06.94-2.06 2.06-.94-2.06-.94-.94-2.06-.94 2.06-2.06.94z\"/><path d=\"M17.41 7.96l-1.37-1.37c-.4-.4-.92-.59-1.43-.59-.52 0-1.04.2-1.43.59L10.3 9.45l-7.72 7.72c-.78.78-.78 2.05 0 2.83L4 21.41c.39.39.9.59 1.41.59.51 0 1.02-.2 1.41-.59l7.78-7.78 2.81-2.81c.8-.78.8-2.07 0-2.86zM5.41 20L4 18.59l7.72-7.72 1.47 1.35L5.41 20z\"/>\n",
              "  </svg>\n",
              "      </button>\n",
              "      \n",
              "  <style>\n",
              "    .colab-df-container {\n",
              "      display:flex;\n",
              "      flex-wrap:wrap;\n",
              "      gap: 12px;\n",
              "    }\n",
              "\n",
              "    .colab-df-convert {\n",
              "      background-color: #E8F0FE;\n",
              "      border: none;\n",
              "      border-radius: 50%;\n",
              "      cursor: pointer;\n",
              "      display: none;\n",
              "      fill: #1967D2;\n",
              "      height: 32px;\n",
              "      padding: 0 0 0 0;\n",
              "      width: 32px;\n",
              "    }\n",
              "\n",
              "    .colab-df-convert:hover {\n",
              "      background-color: #E2EBFA;\n",
              "      box-shadow: 0px 1px 2px rgba(60, 64, 67, 0.3), 0px 1px 3px 1px rgba(60, 64, 67, 0.15);\n",
              "      fill: #174EA6;\n",
              "    }\n",
              "\n",
              "    [theme=dark] .colab-df-convert {\n",
              "      background-color: #3B4455;\n",
              "      fill: #D2E3FC;\n",
              "    }\n",
              "\n",
              "    [theme=dark] .colab-df-convert:hover {\n",
              "      background-color: #434B5C;\n",
              "      box-shadow: 0px 1px 3px 1px rgba(0, 0, 0, 0.15);\n",
              "      filter: drop-shadow(0px 1px 2px rgba(0, 0, 0, 0.3));\n",
              "      fill: #FFFFFF;\n",
              "    }\n",
              "  </style>\n",
              "\n",
              "      <script>\n",
              "        const buttonEl =\n",
              "          document.querySelector('#df-219751ed-8a5f-4c83-88b7-c0df4289f72b button.colab-df-convert');\n",
              "        buttonEl.style.display =\n",
              "          google.colab.kernel.accessAllowed ? 'block' : 'none';\n",
              "\n",
              "        async function convertToInteractive(key) {\n",
              "          const element = document.querySelector('#df-219751ed-8a5f-4c83-88b7-c0df4289f72b');\n",
              "          const dataTable =\n",
              "            await google.colab.kernel.invokeFunction('convertToInteractive',\n",
              "                                                     [key], {});\n",
              "          if (!dataTable) return;\n",
              "\n",
              "          const docLinkHtml = 'Like what you see? Visit the ' +\n",
              "            '<a target=\"_blank\" href=https://colab.research.google.com/notebooks/data_table.ipynb>data table notebook</a>'\n",
              "            + ' to learn more about interactive tables.';\n",
              "          element.innerHTML = '';\n",
              "          dataTable['output_type'] = 'display_data';\n",
              "          await google.colab.output.renderOutput(dataTable, element);\n",
              "          const docLink = document.createElement('div');\n",
              "          docLink.innerHTML = docLinkHtml;\n",
              "          element.appendChild(docLink);\n",
              "        }\n",
              "      </script>\n",
              "    </div>\n",
              "  </div>\n",
              "  "
            ]
          },
          "metadata": {}
        },
        {
          "output_type": "stream",
          "name": "stdout",
          "text": [
            "Warning: total number of rows (1087499) exceeds max_rows (20000). Limiting to first (20000) rows.\n"
          ]
        }
      ]
    },
    {
      "cell_type": "code",
      "source": [
        "copy3_df = copy3_df.drop('Deteced_lang',axis=1)\n",
        "#display(copy3_df)"
      ],
      "metadata": {
        "id": "GXoKDKyyD7qy"
      },
      "execution_count": null,
      "outputs": []
    },
    {
      "cell_type": "markdown",
      "source": [
        "# **Data Preprocessing**\n",
        "\n",
        "\n",
        "*   Punctuation removal\n",
        "*   Stopwords removal\n",
        "*   Lowercase\n",
        "*   Lemmatization\n",
        "*   Tokenization\n",
        "\n"
      ],
      "metadata": {
        "id": "ZAPPS8tvGEwV"
      }
    },
    {
      "cell_type": "code",
      "source": [
        "# Data pre-processing using conventional method for string value of comments\n",
        "def clean_text(comments):\n",
        "  punc = \"\"\"!()-![]{};:,+'\"\\,<>./?@#$%^&*_~Â\"\"\"\n",
        "  punc_removed = [char for char in comments if char not in punc]\n",
        "  punc_join = ''.join(punc_removed)\n",
        "  cleaned = []\n",
        "  splitted = comments.split()\n",
        "  for x in splitted:\n",
        "    if x.isalpha() and x not in stop_words:\n",
        "      cleaned.append(x.lower())\n",
        "  result = ' '.join(cleaned)\n",
        "  return result"
      ],
      "metadata": {
        "id": "M8P7jcQHmvg3"
      },
      "execution_count": null,
      "outputs": []
    },
    {
      "cell_type": "code",
      "source": [
        "%%time\n",
        "copy3_df['cleaned_comments'] = copy3_df['comments'].apply(clean_text)"
      ],
      "metadata": {
        "colab": {
          "base_uri": "https://localhost:8080/"
        },
        "id": "BVLvm_-ioPui",
        "outputId": "e68a9379-16de-4ec8-9bdf-c0a6f23a2b20"
      },
      "execution_count": null,
      "outputs": [
        {
          "output_type": "stream",
          "name": "stdout",
          "text": [
            "CPU times: user 38.6 s, sys: 181 ms, total: 38.8 s\n",
            "Wall time: 39.3 s\n"
          ]
        }
      ]
    },
    {
      "cell_type": "code",
      "source": [
        "# Data pre-processing using nltk for tokens (later use)\n",
        "\n",
        "def clean_up(text, stem=\"None\"):\n",
        "\n",
        "    final_string = \"\"\n",
        "\n",
        "    # Make lower\n",
        "    text = text.lower()\n",
        "\n",
        "    # Remove line breaks\n",
        "    text = re.sub(r'\\n', '', text)\n",
        "\n",
        "    # Remove puncuation\n",
        "    translator = str.maketrans('', '', string.punctuation)\n",
        "    text = text.translate(translator)\n",
        "\n",
        "    # Remove stop words\n",
        "    text = text.split()\n",
        "    useless_words = nltk.corpus.stopwords.words(\"english\")\n",
        "    useless_words = useless_words + ['hi', 'im','i']\n",
        "\n",
        "    text_filtered = [word for word in text if not word in useless_words]\n",
        "\n",
        "    # Remove numbers\n",
        "    text_filtered = [re.sub(r'\\w*\\d\\w*', '', w) for w in text_filtered]\n",
        "\n",
        "    # Stem or Lemmatize\n",
        "    if stem == 'Stem':\n",
        "        stemmer = PorterStemmer() \n",
        "        text_stemmed = [stemmer.stem(y) for y in text_filtered]\n",
        "    elif stem == 'Lem':\n",
        "        lem = WordNetLemmatizer()\n",
        "        text_stemmed = [lem.lemmatize(y) for y in text_filtered]\n",
        "    elif stem == 'Spacy':\n",
        "        text_filtered = nlp(' '.join(text_filtered))\n",
        "        text_stemmed = [y.lemma_ for y in text_filtered]\n",
        "    else:\n",
        "        text_stemmed = text_filtered\n",
        "\n",
        "    final_string = ' '.join(text_stemmed)\n",
        "    tokens = nltk.word_tokenize(final_string)\n",
        "\n",
        "    return tokens"
      ],
      "metadata": {
        "id": "imQXqP7mA6eZ"
      },
      "execution_count": null,
      "outputs": []
    },
    {
      "cell_type": "code",
      "source": [
        "%%time\n",
        "copy3_df['cleaned_comments_nltk'] = copy3_df['comments'].apply(clean_up, stem='Lem')"
      ],
      "metadata": {
        "colab": {
          "base_uri": "https://localhost:8080/"
        },
        "id": "NUl_pzdj1ROx",
        "outputId": "8ce5050c-19a6-41c0-d7ab-5f74e7a5c375"
      },
      "execution_count": null,
      "outputs": [
        {
          "output_type": "stream",
          "name": "stdout",
          "text": [
            "CPU times: user 10min 24s, sys: 22.4 s, total: 10min 47s\n",
            "Wall time: 10min 47s\n"
          ]
        }
      ]
    },
    {
      "cell_type": "code",
      "source": [
        "display(copy3_df[['comments','cleaned_comments','cleaned_comments_nltk']])"
      ],
      "metadata": {
        "colab": {
          "base_uri": "https://localhost:8080/",
          "height": 624
        },
        "id": "upsxM1ZACAY8",
        "outputId": "d3165adc-2441-4233-ea52-c6c7f46a1352"
      },
      "execution_count": null,
      "outputs": [
        {
          "output_type": "display_data",
          "data": {
            "text/plain": [
              "                                                  comments  \\\n",
              "0        Great location, and the host was very responsi...   \n",
              "1        Duccio is a lovely and friendly host. From arr...   \n",
              "2        Duccio is a good communicator he was very help...   \n",
              "3        Not entirely compliant to the pics.Good locati...   \n",
              "4                               Great place and great host   \n",
              "...                                                    ...   \n",
              "1216193  We had a really great stay in Rachels central ...   \n",
              "1216194  This was an excellent apartment. Very clean, w...   \n",
              "1216195  The place was a dream come true\\r Its newly re...   \n",
              "1216196  Her place is so greatNice and clean. My wife a...   \n",
              "1216197  Right at the heart of Soho.The place is comfor...   \n",
              "\n",
              "                                          cleaned_comments  \\\n",
              "0                                    great host responsive   \n",
              "1        duccio lovely friendly from arrival instructio...   \n",
              "2        duccio good communicator helpful making stay g...   \n",
              "3        not entirely compliant location basic shower w...   \n",
              "4                                   great place great host   \n",
              "...                                                    ...   \n",
              "1216193  we really great stay rachels central clean wel...   \n",
              "1216194  this excellent very well equipped location par...   \n",
              "1216195  the place dream come true its newly even flowe...   \n",
              "1216196              her place greatnice my wife wonderful   \n",
              "1216197  right heart place well equipped beautifully ap...   \n",
              "\n",
              "                                     cleaned_comments_nltk  \n",
              "0         [great, location, host, responsive, helpfulhugh]  \n",
              "1        [duccio, lovely, friendly, host, arrival, inst...  \n",
              "2        [duccio, good, communicator, helpful, making, ...  \n",
              "3        [entirely, compliant, picsgood, location, basi...  \n",
              "4                              [great, place, great, host]  \n",
              "...                                                    ...  \n",
              "1216193  [really, great, stay, rachel, central, apartme...  \n",
              "1216194  [excellent, apartment, clean, well, equipped, ...  \n",
              "1216195  [place, dream, come, true, newly, renovated, s...  \n",
              "1216196   [place, greatnice, clean, wife, wonderful, time]  \n",
              "1216197  [right, heart, sohothe, place, comfortable, we...  \n",
              "\n",
              "[1087499 rows x 3 columns]"
            ],
            "text/html": [
              "\n",
              "  <div id=\"df-a0a09fa1-9675-4968-b424-e22d5ed210f2\">\n",
              "    <div class=\"colab-df-container\">\n",
              "      <div>\n",
              "<style scoped>\n",
              "    .dataframe tbody tr th:only-of-type {\n",
              "        vertical-align: middle;\n",
              "    }\n",
              "\n",
              "    .dataframe tbody tr th {\n",
              "        vertical-align: top;\n",
              "    }\n",
              "\n",
              "    .dataframe thead th {\n",
              "        text-align: right;\n",
              "    }\n",
              "</style>\n",
              "<table border=\"1\" class=\"dataframe\">\n",
              "  <thead>\n",
              "    <tr style=\"text-align: right;\">\n",
              "      <th></th>\n",
              "      <th>comments</th>\n",
              "      <th>cleaned_comments</th>\n",
              "      <th>cleaned_comments_nltk</th>\n",
              "    </tr>\n",
              "  </thead>\n",
              "  <tbody>\n",
              "    <tr>\n",
              "      <th>0</th>\n",
              "      <td>Great location, and the host was very responsi...</td>\n",
              "      <td>great host responsive</td>\n",
              "      <td>[great, location, host, responsive, helpfulhugh]</td>\n",
              "    </tr>\n",
              "    <tr>\n",
              "      <th>1</th>\n",
              "      <td>Duccio is a lovely and friendly host. From arr...</td>\n",
              "      <td>duccio lovely friendly from arrival instructio...</td>\n",
              "      <td>[duccio, lovely, friendly, host, arrival, inst...</td>\n",
              "    </tr>\n",
              "    <tr>\n",
              "      <th>2</th>\n",
              "      <td>Duccio is a good communicator he was very help...</td>\n",
              "      <td>duccio good communicator helpful making stay g...</td>\n",
              "      <td>[duccio, good, communicator, helpful, making, ...</td>\n",
              "    </tr>\n",
              "    <tr>\n",
              "      <th>3</th>\n",
              "      <td>Not entirely compliant to the pics.Good locati...</td>\n",
              "      <td>not entirely compliant location basic shower w...</td>\n",
              "      <td>[entirely, compliant, picsgood, location, basi...</td>\n",
              "    </tr>\n",
              "    <tr>\n",
              "      <th>4</th>\n",
              "      <td>Great place and great host</td>\n",
              "      <td>great place great host</td>\n",
              "      <td>[great, place, great, host]</td>\n",
              "    </tr>\n",
              "    <tr>\n",
              "      <th>...</th>\n",
              "      <td>...</td>\n",
              "      <td>...</td>\n",
              "      <td>...</td>\n",
              "    </tr>\n",
              "    <tr>\n",
              "      <th>1216193</th>\n",
              "      <td>We had a really great stay in Rachels central ...</td>\n",
              "      <td>we really great stay rachels central clean wel...</td>\n",
              "      <td>[really, great, stay, rachel, central, apartme...</td>\n",
              "    </tr>\n",
              "    <tr>\n",
              "      <th>1216194</th>\n",
              "      <td>This was an excellent apartment. Very clean, w...</td>\n",
              "      <td>this excellent very well equipped location par...</td>\n",
              "      <td>[excellent, apartment, clean, well, equipped, ...</td>\n",
              "    </tr>\n",
              "    <tr>\n",
              "      <th>1216195</th>\n",
              "      <td>The place was a dream come true\\r Its newly re...</td>\n",
              "      <td>the place dream come true its newly even flowe...</td>\n",
              "      <td>[place, dream, come, true, newly, renovated, s...</td>\n",
              "    </tr>\n",
              "    <tr>\n",
              "      <th>1216196</th>\n",
              "      <td>Her place is so greatNice and clean. My wife a...</td>\n",
              "      <td>her place greatnice my wife wonderful</td>\n",
              "      <td>[place, greatnice, clean, wife, wonderful, time]</td>\n",
              "    </tr>\n",
              "    <tr>\n",
              "      <th>1216197</th>\n",
              "      <td>Right at the heart of Soho.The place is comfor...</td>\n",
              "      <td>right heart place well equipped beautifully ap...</td>\n",
              "      <td>[right, heart, sohothe, place, comfortable, we...</td>\n",
              "    </tr>\n",
              "  </tbody>\n",
              "</table>\n",
              "<p>1087499 rows × 3 columns</p>\n",
              "</div>\n",
              "      <button class=\"colab-df-convert\" onclick=\"convertToInteractive('df-a0a09fa1-9675-4968-b424-e22d5ed210f2')\"\n",
              "              title=\"Convert this dataframe to an interactive table.\"\n",
              "              style=\"display:none;\">\n",
              "        \n",
              "  <svg xmlns=\"http://www.w3.org/2000/svg\" height=\"24px\"viewBox=\"0 0 24 24\"\n",
              "       width=\"24px\">\n",
              "    <path d=\"M0 0h24v24H0V0z\" fill=\"none\"/>\n",
              "    <path d=\"M18.56 5.44l.94 2.06.94-2.06 2.06-.94-2.06-.94-.94-2.06-.94 2.06-2.06.94zm-11 1L8.5 8.5l.94-2.06 2.06-.94-2.06-.94L8.5 2.5l-.94 2.06-2.06.94zm10 10l.94 2.06.94-2.06 2.06-.94-2.06-.94-.94-2.06-.94 2.06-2.06.94z\"/><path d=\"M17.41 7.96l-1.37-1.37c-.4-.4-.92-.59-1.43-.59-.52 0-1.04.2-1.43.59L10.3 9.45l-7.72 7.72c-.78.78-.78 2.05 0 2.83L4 21.41c.39.39.9.59 1.41.59.51 0 1.02-.2 1.41-.59l7.78-7.78 2.81-2.81c.8-.78.8-2.07 0-2.86zM5.41 20L4 18.59l7.72-7.72 1.47 1.35L5.41 20z\"/>\n",
              "  </svg>\n",
              "      </button>\n",
              "      \n",
              "  <style>\n",
              "    .colab-df-container {\n",
              "      display:flex;\n",
              "      flex-wrap:wrap;\n",
              "      gap: 12px;\n",
              "    }\n",
              "\n",
              "    .colab-df-convert {\n",
              "      background-color: #E8F0FE;\n",
              "      border: none;\n",
              "      border-radius: 50%;\n",
              "      cursor: pointer;\n",
              "      display: none;\n",
              "      fill: #1967D2;\n",
              "      height: 32px;\n",
              "      padding: 0 0 0 0;\n",
              "      width: 32px;\n",
              "    }\n",
              "\n",
              "    .colab-df-convert:hover {\n",
              "      background-color: #E2EBFA;\n",
              "      box-shadow: 0px 1px 2px rgba(60, 64, 67, 0.3), 0px 1px 3px 1px rgba(60, 64, 67, 0.15);\n",
              "      fill: #174EA6;\n",
              "    }\n",
              "\n",
              "    [theme=dark] .colab-df-convert {\n",
              "      background-color: #3B4455;\n",
              "      fill: #D2E3FC;\n",
              "    }\n",
              "\n",
              "    [theme=dark] .colab-df-convert:hover {\n",
              "      background-color: #434B5C;\n",
              "      box-shadow: 0px 1px 3px 1px rgba(0, 0, 0, 0.15);\n",
              "      filter: drop-shadow(0px 1px 2px rgba(0, 0, 0, 0.3));\n",
              "      fill: #FFFFFF;\n",
              "    }\n",
              "  </style>\n",
              "\n",
              "      <script>\n",
              "        const buttonEl =\n",
              "          document.querySelector('#df-a0a09fa1-9675-4968-b424-e22d5ed210f2 button.colab-df-convert');\n",
              "        buttonEl.style.display =\n",
              "          google.colab.kernel.accessAllowed ? 'block' : 'none';\n",
              "\n",
              "        async function convertToInteractive(key) {\n",
              "          const element = document.querySelector('#df-a0a09fa1-9675-4968-b424-e22d5ed210f2');\n",
              "          const dataTable =\n",
              "            await google.colab.kernel.invokeFunction('convertToInteractive',\n",
              "                                                     [key], {});\n",
              "          if (!dataTable) return;\n",
              "\n",
              "          const docLinkHtml = 'Like what you see? Visit the ' +\n",
              "            '<a target=\"_blank\" href=https://colab.research.google.com/notebooks/data_table.ipynb>data table notebook</a>'\n",
              "            + ' to learn more about interactive tables.';\n",
              "          element.innerHTML = '';\n",
              "          dataTable['output_type'] = 'display_data';\n",
              "          await google.colab.output.renderOutput(dataTable, element);\n",
              "          const docLink = document.createElement('div');\n",
              "          docLink.innerHTML = docLinkHtml;\n",
              "          element.appendChild(docLink);\n",
              "        }\n",
              "      </script>\n",
              "    </div>\n",
              "  </div>\n",
              "  "
            ]
          },
          "metadata": {}
        }
      ]
    },
    {
      "cell_type": "markdown",
      "source": [
        "**VADER Sentiment Tagging**\n",
        "\n",
        "The result generated by VADER is a dictionary of 4 keys neg, neu, pos and compound:\n",
        "\n",
        "neg, neu, and pos meaning negative, neutral, and positive respectively. Their sum should be equal to 1 or close to it with float operation.\n",
        "\n",
        "compound corresponds to the sum of the valence score of each word in the lexicon and determines the degree of the sentiment rather than the actual value as opposed to the previous ones. Its value is between -1 (most extreme negative sentiment) and +1 (most extreme positive sentiment). Using the compound score can be enough to determine the underlying sentiment of a text, because for:\n",
        "\n",
        "a positive sentiment, compound ≥ 0.05\n",
        "\n",
        "*   a positive sentiment, compound ≥ 0.05\n",
        "*   a negative sentiment, compound ≤ -0.05\n",
        "*   a neutral sentiment, the compound is between [-0.05, 0.05]\n"
      ],
      "metadata": {
        "id": "CvAp9W5NImFX"
      }
    },
    {
      "cell_type": "markdown",
      "source": [
        "Creating function to tag sentiment based on VADER compound score"
      ],
      "metadata": {
        "id": "QLSo3y2SMkrV"
      }
    },
    {
      "cell_type": "code",
      "source": [
        "def sentiment_tag(row):\n",
        "  if row['VADER_compound_score'] >= 0.05:\n",
        "    sentiment = \"Positive\"\n",
        "  elif row['VADER_compound_score'] <= -0.05:\n",
        "    sentiment = \"Negative\"\n",
        "  else:\n",
        "    sentiment = \"Neutral\"\n",
        "  return sentiment"
      ],
      "metadata": {
        "id": "2hZuKI1kMenk"
      },
      "execution_count": null,
      "outputs": []
    },
    {
      "cell_type": "markdown",
      "source": [
        "Applying the VADER Analyzer on raw comments to capture sentiments fully (e.g ! to reflect excitement, etc)"
      ],
      "metadata": {
        "id": "P3YdgNAkMOoC"
      }
    },
    {
      "cell_type": "code",
      "source": [
        "%%time\n",
        "copy3_df['VADER_compound_score'] = [round(SentimentIntensityAnalyzer().polarity_scores(x)['compound'], 2) for x in copy3_df['comments']]"
      ],
      "metadata": {
        "colab": {
          "base_uri": "https://localhost:8080/"
        },
        "id": "DNmOfpMqMJWb",
        "outputId": "aa3ab97b-8b72-48e9-8507-dfeec5e6369e"
      },
      "execution_count": null,
      "outputs": [
        {
          "output_type": "stream",
          "name": "stdout",
          "text": [
            "CPU times: user 3h 21min, sys: 3min 52s, total: 3h 24min 53s\n",
            "Wall time: 3h 25min 13s\n"
          ]
        }
      ]
    },
    {
      "cell_type": "markdown",
      "source": [
        "Create new col in pandas df to apply function to compound score"
      ],
      "metadata": {
        "id": "Iy1VrghENGIe"
      }
    },
    {
      "cell_type": "code",
      "source": [
        "copy3_df['sentiment'] = copy3_df.apply(sentiment_tag, axis = 1)"
      ],
      "metadata": {
        "id": "ERi817sANI-Z"
      },
      "execution_count": null,
      "outputs": []
    },
    {
      "cell_type": "code",
      "source": [
        "%%time\n",
        "cleaned_df = copy3_df\n",
        "#cleaned_df.to_csv('cleaned_df.csv')"
      ],
      "metadata": {
        "colab": {
          "base_uri": "https://localhost:8080/"
        },
        "id": "2xK_ChYTENCr",
        "outputId": "5c3d7b33-5c74-4fe2-d481-707a969f1fe9"
      },
      "execution_count": null,
      "outputs": [
        {
          "output_type": "stream",
          "name": "stdout",
          "text": [
            "CPU times: user 5 µs, sys: 0 ns, total: 5 µs\n",
            "Wall time: 9.78 µs\n"
          ]
        }
      ]
    },
    {
      "cell_type": "markdown",
      "source": [
        "**Sentiment - Descriptive Statistics**"
      ],
      "metadata": {
        "id": "BwATJv6nHqEm"
      }
    },
    {
      "cell_type": "code",
      "source": [
        "cleaned_df.groupby('sentiment')['VADER_compound_score'].agg(['count','mean','median']).reset_index()"
      ],
      "metadata": {
        "colab": {
          "base_uri": "https://localhost:8080/",
          "height": 143
        },
        "id": "2uSvXTvOHm-A",
        "outputId": "402313b3-5458-4fc0-822e-176cff6e0665"
      },
      "execution_count": null,
      "outputs": [
        {
          "output_type": "execute_result",
          "data": {
            "text/plain": [
              "  sentiment    count      mean  median\n",
              "0  Negative    16185 -0.523624   -0.51\n",
              "1   Neutral    25786  0.000119    0.00\n",
              "2  Positive  1045528  0.856456    0.92"
            ],
            "text/html": [
              "\n",
              "  <div id=\"df-30722b90-4480-405d-af58-b43675acabaa\">\n",
              "    <div class=\"colab-df-container\">\n",
              "      <div>\n",
              "<style scoped>\n",
              "    .dataframe tbody tr th:only-of-type {\n",
              "        vertical-align: middle;\n",
              "    }\n",
              "\n",
              "    .dataframe tbody tr th {\n",
              "        vertical-align: top;\n",
              "    }\n",
              "\n",
              "    .dataframe thead th {\n",
              "        text-align: right;\n",
              "    }\n",
              "</style>\n",
              "<table border=\"1\" class=\"dataframe\">\n",
              "  <thead>\n",
              "    <tr style=\"text-align: right;\">\n",
              "      <th></th>\n",
              "      <th>sentiment</th>\n",
              "      <th>count</th>\n",
              "      <th>mean</th>\n",
              "      <th>median</th>\n",
              "    </tr>\n",
              "  </thead>\n",
              "  <tbody>\n",
              "    <tr>\n",
              "      <th>0</th>\n",
              "      <td>Negative</td>\n",
              "      <td>16185</td>\n",
              "      <td>-0.523624</td>\n",
              "      <td>-0.51</td>\n",
              "    </tr>\n",
              "    <tr>\n",
              "      <th>1</th>\n",
              "      <td>Neutral</td>\n",
              "      <td>25786</td>\n",
              "      <td>0.000119</td>\n",
              "      <td>0.00</td>\n",
              "    </tr>\n",
              "    <tr>\n",
              "      <th>2</th>\n",
              "      <td>Positive</td>\n",
              "      <td>1045528</td>\n",
              "      <td>0.856456</td>\n",
              "      <td>0.92</td>\n",
              "    </tr>\n",
              "  </tbody>\n",
              "</table>\n",
              "</div>\n",
              "      <button class=\"colab-df-convert\" onclick=\"convertToInteractive('df-30722b90-4480-405d-af58-b43675acabaa')\"\n",
              "              title=\"Convert this dataframe to an interactive table.\"\n",
              "              style=\"display:none;\">\n",
              "        \n",
              "  <svg xmlns=\"http://www.w3.org/2000/svg\" height=\"24px\"viewBox=\"0 0 24 24\"\n",
              "       width=\"24px\">\n",
              "    <path d=\"M0 0h24v24H0V0z\" fill=\"none\"/>\n",
              "    <path d=\"M18.56 5.44l.94 2.06.94-2.06 2.06-.94-2.06-.94-.94-2.06-.94 2.06-2.06.94zm-11 1L8.5 8.5l.94-2.06 2.06-.94-2.06-.94L8.5 2.5l-.94 2.06-2.06.94zm10 10l.94 2.06.94-2.06 2.06-.94-2.06-.94-.94-2.06-.94 2.06-2.06.94z\"/><path d=\"M17.41 7.96l-1.37-1.37c-.4-.4-.92-.59-1.43-.59-.52 0-1.04.2-1.43.59L10.3 9.45l-7.72 7.72c-.78.78-.78 2.05 0 2.83L4 21.41c.39.39.9.59 1.41.59.51 0 1.02-.2 1.41-.59l7.78-7.78 2.81-2.81c.8-.78.8-2.07 0-2.86zM5.41 20L4 18.59l7.72-7.72 1.47 1.35L5.41 20z\"/>\n",
              "  </svg>\n",
              "      </button>\n",
              "      \n",
              "  <style>\n",
              "    .colab-df-container {\n",
              "      display:flex;\n",
              "      flex-wrap:wrap;\n",
              "      gap: 12px;\n",
              "    }\n",
              "\n",
              "    .colab-df-convert {\n",
              "      background-color: #E8F0FE;\n",
              "      border: none;\n",
              "      border-radius: 50%;\n",
              "      cursor: pointer;\n",
              "      display: none;\n",
              "      fill: #1967D2;\n",
              "      height: 32px;\n",
              "      padding: 0 0 0 0;\n",
              "      width: 32px;\n",
              "    }\n",
              "\n",
              "    .colab-df-convert:hover {\n",
              "      background-color: #E2EBFA;\n",
              "      box-shadow: 0px 1px 2px rgba(60, 64, 67, 0.3), 0px 1px 3px 1px rgba(60, 64, 67, 0.15);\n",
              "      fill: #174EA6;\n",
              "    }\n",
              "\n",
              "    [theme=dark] .colab-df-convert {\n",
              "      background-color: #3B4455;\n",
              "      fill: #D2E3FC;\n",
              "    }\n",
              "\n",
              "    [theme=dark] .colab-df-convert:hover {\n",
              "      background-color: #434B5C;\n",
              "      box-shadow: 0px 1px 3px 1px rgba(0, 0, 0, 0.15);\n",
              "      filter: drop-shadow(0px 1px 2px rgba(0, 0, 0, 0.3));\n",
              "      fill: #FFFFFF;\n",
              "    }\n",
              "  </style>\n",
              "\n",
              "      <script>\n",
              "        const buttonEl =\n",
              "          document.querySelector('#df-30722b90-4480-405d-af58-b43675acabaa button.colab-df-convert');\n",
              "        buttonEl.style.display =\n",
              "          google.colab.kernel.accessAllowed ? 'block' : 'none';\n",
              "\n",
              "        async function convertToInteractive(key) {\n",
              "          const element = document.querySelector('#df-30722b90-4480-405d-af58-b43675acabaa');\n",
              "          const dataTable =\n",
              "            await google.colab.kernel.invokeFunction('convertToInteractive',\n",
              "                                                     [key], {});\n",
              "          if (!dataTable) return;\n",
              "\n",
              "          const docLinkHtml = 'Like what you see? Visit the ' +\n",
              "            '<a target=\"_blank\" href=https://colab.research.google.com/notebooks/data_table.ipynb>data table notebook</a>'\n",
              "            + ' to learn more about interactive tables.';\n",
              "          element.innerHTML = '';\n",
              "          dataTable['output_type'] = 'display_data';\n",
              "          await google.colab.output.renderOutput(dataTable, element);\n",
              "          const docLink = document.createElement('div');\n",
              "          docLink.innerHTML = docLinkHtml;\n",
              "          element.appendChild(docLink);\n",
              "        }\n",
              "      </script>\n",
              "    </div>\n",
              "  </div>\n",
              "  "
            ]
          },
          "metadata": {},
          "execution_count": 38
        }
      ]
    },
    {
      "cell_type": "markdown",
      "source": [
        "**Proportion of sentiment in sample: Proxy**"
      ],
      "metadata": {
        "id": "LPS_J13ZHraA"
      }
    },
    {
      "cell_type": "code",
      "source": [
        "for sentiment in cleaned_df.sentiment.unique():\n",
        "  print(\"% of \"+ str(sentiment) + \" in sample df:\", len(cleaned_df[cleaned_df.sentiment == sentiment])/len(cleaned_df)*100)"
      ],
      "metadata": {
        "colab": {
          "base_uri": "https://localhost:8080/"
        },
        "id": "Pl03alWQHt4A",
        "outputId": "866dd026-29e7-4806-dcc5-87214dd18697"
      },
      "execution_count": null,
      "outputs": [
        {
          "output_type": "stream",
          "name": "stdout",
          "text": [
            "% of Positive in sample df: 96.14059415227048\n",
            "% of Neutral in sample df: 2.371128617129763\n",
            "% of Negative in sample df: 1.4882772305997523\n"
          ]
        }
      ]
    },
    {
      "cell_type": "markdown",
      "source": [
        "Observing if VADER Compound score has any relationship with length of review"
      ],
      "metadata": {
        "id": "sBtQjH38N4rx"
      }
    },
    {
      "cell_type": "code",
      "source": [
        "# creating new column for length of original review \n",
        "%%time\n",
        "#cleaned_df['review_length'] = cleaned_df['comments'].apply(word_tokenize).tolist()\n",
        "#cleaned_df['review_length'] = cleaned_df['review_length'].apply(len)"
      ],
      "metadata": {
        "colab": {
          "base_uri": "https://localhost:8080/"
        },
        "id": "JDLmvMeqG_tj",
        "outputId": "d63554fa-1c6f-4e2f-c358-a146a18f5b0c"
      },
      "execution_count": null,
      "outputs": [
        {
          "output_type": "stream",
          "name": "stdout",
          "text": [
            "CPU times: user 4 µs, sys: 0 ns, total: 4 µs\n",
            "Wall time: 8.82 µs\n"
          ]
        }
      ]
    },
    {
      "cell_type": "code",
      "source": [
        "%%time\n",
        "cleaned_df = pd.read_csv('cleaned_df.csv', lineterminator ='\\n')\n",
        "cleaned_df['cleaned_comments_nltk'] = cleaned_df['comments'].apply(clean_up, stem='Lem')"
      ],
      "metadata": {
        "id": "cHn4FfmbWnQp",
        "colab": {
          "base_uri": "https://localhost:8080/"
        },
        "outputId": "cd331f5d-8dbd-4142-cbf5-44036090ee44"
      },
      "execution_count": null,
      "outputs": [
        {
          "output_type": "stream",
          "name": "stdout",
          "text": [
            "CPU times: user 10min 44s, sys: 25.6 s, total: 11min 9s\n",
            "Wall time: 11min 15s\n"
          ]
        }
      ]
    },
    {
      "cell_type": "markdown",
      "source": [
        "**Plotting word distribution for each sentiment (Zipf's Law)**"
      ],
      "metadata": {
        "id": "DmmkhkWDEPH_"
      }
    },
    {
      "cell_type": "code",
      "source": [
        "def word_occurence_chart(df, senti, top_n):\n",
        "\n",
        "  from itertools import chain\n",
        "  df = df.loc[df['sentiment'] == senti] \n",
        "  dict_words = Counter(chain(*df.cleaned_comments_nltk))\n",
        "  top_N = dict_words.most_common(top_n)\n",
        "\n",
        "  x = list(range(0, top_n))\n",
        "\n",
        "  sum_ = 0\n",
        "  for i,value in top_N:\n",
        "    sum_ += value\n",
        "\n",
        "  y = []\n",
        "  for i,value in top_N:\n",
        "    y.append(value/sum_)\n",
        "  \n",
        "  ax = plt.plot(x, y, '.', color = '#FF5A5F')\n",
        "  plt.yscale('log')\n",
        "  plt.xscale('log')\n",
        "  plt.show()\n",
        "  print(top_N)"
      ],
      "metadata": {
        "id": "ElfLPWskETic"
      },
      "execution_count": null,
      "outputs": []
    },
    {
      "cell_type": "markdown",
      "source": [
        "**For positive sentiment:**"
      ],
      "metadata": {
        "id": "NWsQDE4oSIZF"
      }
    },
    {
      "cell_type": "code",
      "source": [
        "word_occurence_chart(cleaned_df, \"Positive\", 15)"
      ],
      "metadata": {
        "id": "HnMYeY7gEOot",
        "colab": {
          "base_uri": "https://localhost:8080/",
          "height": 307
        },
        "outputId": "7ab8e922-3473-4307-ec9c-1f1811ee81f2"
      },
      "execution_count": null,
      "outputs": [
        {
          "output_type": "display_data",
          "data": {
            "text/plain": [
              "<Figure size 432x288 with 1 Axes>"
            ],
            "image/png": "[encoded data removed]"
          },
          "metadata": {
            "needs_background": "light"
          }
        },
        {
          "output_type": "stream",
          "name": "stdout",
          "text": [
            "[('great', 570678), ('stay', 507428), ('place', 449551), ('location', 376010), ('host', 335669), ('clean', 314720), ('london', 306910), ('room', 258752), ('nice', 254249), ('would', 232855), ('flat', 222517), ('apartment', 217045), ('good', 211795), ('recommend', 209416), ('lovely', 205455)]\n"
          ]
        }
      ]
    },
    {
      "cell_type": "markdown",
      "source": [
        "**For negative sentiment:**"
      ],
      "metadata": {
        "id": "huH9dBe7SMUd"
      }
    },
    {
      "cell_type": "code",
      "source": [
        "word_occurence_chart(cleaned_df, \"Negative\", 15)"
      ],
      "metadata": {
        "id": "5REwAEdzSO47",
        "colab": {
          "base_uri": "https://localhost:8080/",
          "height": 307
        },
        "outputId": "d3db473c-52fb-40e9-d14f-8af55ab58358"
      },
      "execution_count": null,
      "outputs": [
        {
          "output_type": "display_data",
          "data": {
            "text/plain": [
              "<Figure size 432x288 with 1 Axes>"
            ],
            "image/png": "[encoded data removed]"
          },
          "metadata": {
            "needs_background": "light"
          }
        },
        {
          "output_type": "stream",
          "name": "stdout",
          "text": [
            "[('room', 8192), ('place', 6935), ('stay', 6743), ('host', 6589), ('apartment', 5569), ('u', 4853), ('would', 4730), ('one', 4525), ('flat', 4434), ('day', 4423), ('night', 4404), ('location', 4396), ('bed', 4173), ('time', 3778), ('airbnb', 3774)]\n"
          ]
        }
      ]
    },
    {
      "cell_type": "markdown",
      "source": [
        "**For Neutral Sentiment:**"
      ],
      "metadata": {
        "id": "9VaZIYlnSR6k"
      }
    },
    {
      "cell_type": "code",
      "source": [
        "word_occurence_chart(cleaned_df, \"Neutral\", 15)"
      ],
      "metadata": {
        "id": "z-rpfLJbSWck",
        "colab": {
          "base_uri": "https://localhost:8080/",
          "height": 307
        },
        "outputId": "b61ad9cd-da0c-447e-ea9f-5cf16c8c4cfd"
      },
      "execution_count": null,
      "outputs": [
        {
          "output_type": "display_data",
          "data": {
            "text/plain": [
              "<Figure size 432x288 with 1 Axes>"
            ],
            "image/png": "[encoded data removed]"
          },
          "metadata": {
            "needs_background": "light"
          }
        },
        {
          "output_type": "stream",
          "name": "stdout",
          "text": [
            "[('day', 13305), ('host', 13189), ('arrival', 13049), ('reservation', 12986), ('canceled', 12985), ('automated', 12951), ('posting', 12950), ('place', 2131), ('stay', 1895), ('location', 1783), ('room', 1460), ('close', 1248), ('convenient', 1199), ('london', 1094), ('station', 973)]\n"
          ]
        }
      ]
    }
  ]
}