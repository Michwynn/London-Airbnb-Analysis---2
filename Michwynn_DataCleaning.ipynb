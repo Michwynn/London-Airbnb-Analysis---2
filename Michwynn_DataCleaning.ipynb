{
  "nbformat": 4,
  "nbformat_minor": 0,
  "metadata": {
    "colab": {
      "provenance": [],
      "collapsed_sections": [],
      "authorship_tag": "ABX9TyN35gZxxqx+JepfzR4fxURK",
      "include_colab_link": true
    },
    "kernelspec": {
      "name": "python3",
      "display_name": "Python 3"
    },
    "language_info": {
      "name": "python"
    }
  },
  "cells": [
    {
      "cell_type": "markdown",
      "metadata": {
        "id": "view-in-github",
        "colab_type": "text"
      },
      "source": [
        "<a href=\"https://colab.research.google.com/github/Michwynn/London-Airbnb-Analysis---2/blob/Michael/Michwynn_DataCleaning.ipynb\" target=\"_parent\"><img src=\"https://colab.research.google.com/assets/colab-badge.svg\" alt=\"Open In Colab\"/></a>"
      ]
    },
    {
      "cell_type": "markdown",
      "source": [
        "**Configuration and library set-up**"
      ],
      "metadata": {
        "id": "lr5T8AfldL7m"
      }
    },
    {
      "cell_type": "code",
      "source": [
        "# data manipulation\n",
        "\n",
        "import pandas as pd\n",
        "import numpy as np \n",
        "from collections import Counter, defaultdict\n",
        "\n",
        "# regex\n",
        "import re\n",
        "pattern = '\\w+' # setting regex pattern\n",
        "\n",
        "import nltk\n",
        "from nltk.corpus import stopwords\n",
        "nltk.download('stopwords') # comment out if already downloaded\n",
        "stop_words = set(stopwords.words('english'))\n",
        "nltk.download('punkt')     # comment out if already downloaded\n",
        "from nltk.tokenize import word_tokenize\n",
        "from nltk.stem import PorterStemmer\n",
        "\n",
        "# VADER sentiment tagging \n",
        "nltk.downloader.download('vader_lexicon')\n",
        "!pip install vaderSentiment\n",
        "from vaderSentiment.vaderSentiment import SentimentIntensityAnalyzer\n",
        "\n",
        "# detecting english words\n",
        "!pip install pycld3\n",
        "import cld3\n",
        "\n",
        "# machine learning & statistics\n",
        "import random\n",
        "from sklearn.dummy import DummyClassifier\n",
        "from sklearn.feature_extraction.text import TfidfVectorizer\n",
        "from sklearn.linear_model import LogisticRegression\n",
        "from sklearn.metrics import f1_score\n",
        "from sklearn.model_selection import train_test_split\n",
        "\n",
        "# timeit\n",
        "from tqdm import tqdm\n",
        "\n",
        "# data visualisation\n",
        "import altair as alt\n",
        "import seaborn as sns\n",
        "import matplotlib.pyplot as plt\n",
        "from matplotlib.pyplot import figure\n",
        "\n",
        "# set up working directory\n",
        "import os\n",
        "from google.colab import drive\n",
        "drive.mount('/content/drive')\n",
        "%cd /content/drive/My Drive/Airbnb_Milestone2\n",
        "\n",
        "# supress warnings\n",
        "import warnings \n",
        "warnings.filterwarnings('ignore')\n",
        "\n",
        "# Display all columns\n",
        "pd.set_option('display.max_columns', None)"
      ],
      "metadata": {
        "colab": {
          "base_uri": "https://localhost:8080/"
        },
        "id": "lLp5qL8jdKWd",
        "outputId": "adfd2bcb-d0e7-4ec6-de6b-1c4654c4d6c9"
      },
      "execution_count": null,
      "outputs": [
        {
          "output_type": "stream",
          "name": "stderr",
          "text": [
            "[nltk_data] Downloading package stopwords to /root/nltk_data...\n",
            "[nltk_data]   Package stopwords is already up-to-date!\n",
            "[nltk_data] Downloading package punkt to /root/nltk_data...\n",
            "[nltk_data]   Package punkt is already up-to-date!\n",
            "[nltk_data] Downloading package vader_lexicon to /root/nltk_data...\n",
            "[nltk_data]   Package vader_lexicon is already up-to-date!\n"
          ]
        },
        {
          "output_type": "stream",
          "name": "stdout",
          "text": [
            "Looking in indexes: https://pypi.org/simple, https://us-python.pkg.dev/colab-wheels/public/simple/\n",
            "Requirement already satisfied: vaderSentiment in /usr/local/lib/python3.7/dist-packages (3.3.2)\n",
            "Requirement already satisfied: requests in /usr/local/lib/python3.7/dist-packages (from vaderSentiment) (2.23.0)\n",
            "Requirement already satisfied: urllib3!=1.25.0,!=1.25.1,<1.26,>=1.21.1 in /usr/local/lib/python3.7/dist-packages (from requests->vaderSentiment) (1.24.3)\n",
            "Requirement already satisfied: chardet<4,>=3.0.2 in /usr/local/lib/python3.7/dist-packages (from requests->vaderSentiment) (3.0.4)\n",
            "Requirement already satisfied: certifi>=2017.4.17 in /usr/local/lib/python3.7/dist-packages (from requests->vaderSentiment) (2022.6.15)\n",
            "Requirement already satisfied: idna<3,>=2.5 in /usr/local/lib/python3.7/dist-packages (from requests->vaderSentiment) (2.10)\n",
            "Looking in indexes: https://pypi.org/simple, https://us-python.pkg.dev/colab-wheels/public/simple/\n",
            "Requirement already satisfied: pycld3 in /usr/local/lib/python3.7/dist-packages (0.22)\n",
            "Drive already mounted at /content/drive; to attempt to forcibly remount, call drive.mount(\"/content/drive\", force_remount=True).\n",
            "/content/drive/.shortcut-targets-by-id/1wUOfFY-ki2nFzneeaTtXLEeMjaSdKrrj/Airbnb_Milestone2\n"
          ]
        }
      ]
    },
    {
      "cell_type": "markdown",
      "source": [
        "**Read reviews dataset**"
      ],
      "metadata": {
        "id": "xAzlAnhDf9ms"
      }
    },
    {
      "cell_type": "code",
      "source": [
        "reviews_df = pd.read_csv('Datasets/reviews.csv') # read data\n",
        "reviews_df.columns = reviews_df.columns.str.strip() # remove white spaces in column headings\n",
        "reviews_df.head(5)"
      ],
      "metadata": {
        "colab": {
          "base_uri": "https://localhost:8080/",
          "height": 206
        },
        "id": "u2Cp_z7vfs0G",
        "outputId": "6a995e95-f90d-4b9f-cfbf-b9066c6a5b79"
      },
      "execution_count": null,
      "outputs": [
        {
          "output_type": "execute_result",
          "data": {
            "text/plain": [
              "           listing_id                  id        date  reviewer_id  \\\n",
              "0            52228441  623723762668719111  2022-05-10     37052865   \n",
              "1            52228441  505671819125096360  2021-11-28     70830110   \n",
              "2            52228441  466510411892882382  2021-10-05     83617224   \n",
              "3            52228441  604109461995958546  2022-04-13      2152541   \n",
              "4  605617198416835367  633128504578904919  2022-05-23     45418187   \n",
              "\n",
              "  reviewer_name                                           comments  \n",
              "0      Kimberly  Great location, and the host was very responsi...  \n",
              "1       Mahelet  Duccio is a lovely and friendly host. From arr...  \n",
              "2          Will  Duccio is a good communicator… he was very hel...  \n",
              "3     Francesco  Not entirely compliant to the pics.<br/>Good l...  \n",
              "4        Waddah                         Great place and great host  "
            ],
            "text/html": [
              "\n",
              "  <div id=\"df-08ae18ff-a85f-451e-af4f-2f4cea5dcdb7\">\n",
              "    <div class=\"colab-df-container\">\n",
              "      <div>\n",
              "<style scoped>\n",
              "    .dataframe tbody tr th:only-of-type {\n",
              "        vertical-align: middle;\n",
              "    }\n",
              "\n",
              "    .dataframe tbody tr th {\n",
              "        vertical-align: top;\n",
              "    }\n",
              "\n",
              "    .dataframe thead th {\n",
              "        text-align: right;\n",
              "    }\n",
              "</style>\n",
              "<table border=\"1\" class=\"dataframe\">\n",
              "  <thead>\n",
              "    <tr style=\"text-align: right;\">\n",
              "      <th></th>\n",
              "      <th>listing_id</th>\n",
              "      <th>id</th>\n",
              "      <th>date</th>\n",
              "      <th>reviewer_id</th>\n",
              "      <th>reviewer_name</th>\n",
              "      <th>comments</th>\n",
              "    </tr>\n",
              "  </thead>\n",
              "  <tbody>\n",
              "    <tr>\n",
              "      <th>0</th>\n",
              "      <td>52228441</td>\n",
              "      <td>623723762668719111</td>\n",
              "      <td>2022-05-10</td>\n",
              "      <td>37052865</td>\n",
              "      <td>Kimberly</td>\n",
              "      <td>Great location, and the host was very responsi...</td>\n",
              "    </tr>\n",
              "    <tr>\n",
              "      <th>1</th>\n",
              "      <td>52228441</td>\n",
              "      <td>505671819125096360</td>\n",
              "      <td>2021-11-28</td>\n",
              "      <td>70830110</td>\n",
              "      <td>Mahelet</td>\n",
              "      <td>Duccio is a lovely and friendly host. From arr...</td>\n",
              "    </tr>\n",
              "    <tr>\n",
              "      <th>2</th>\n",
              "      <td>52228441</td>\n",
              "      <td>466510411892882382</td>\n",
              "      <td>2021-10-05</td>\n",
              "      <td>83617224</td>\n",
              "      <td>Will</td>\n",
              "      <td>Duccio is a good communicator… he was very hel...</td>\n",
              "    </tr>\n",
              "    <tr>\n",
              "      <th>3</th>\n",
              "      <td>52228441</td>\n",
              "      <td>604109461995958546</td>\n",
              "      <td>2022-04-13</td>\n",
              "      <td>2152541</td>\n",
              "      <td>Francesco</td>\n",
              "      <td>Not entirely compliant to the pics.&lt;br/&gt;Good l...</td>\n",
              "    </tr>\n",
              "    <tr>\n",
              "      <th>4</th>\n",
              "      <td>605617198416835367</td>\n",
              "      <td>633128504578904919</td>\n",
              "      <td>2022-05-23</td>\n",
              "      <td>45418187</td>\n",
              "      <td>Waddah</td>\n",
              "      <td>Great place and great host</td>\n",
              "    </tr>\n",
              "  </tbody>\n",
              "</table>\n",
              "</div>\n",
              "      <button class=\"colab-df-convert\" onclick=\"convertToInteractive('df-08ae18ff-a85f-451e-af4f-2f4cea5dcdb7')\"\n",
              "              title=\"Convert this dataframe to an interactive table.\"\n",
              "              style=\"display:none;\">\n",
              "        \n",
              "  <svg xmlns=\"http://www.w3.org/2000/svg\" height=\"24px\"viewBox=\"0 0 24 24\"\n",
              "       width=\"24px\">\n",
              "    <path d=\"M0 0h24v24H0V0z\" fill=\"none\"/>\n",
              "    <path d=\"M18.56 5.44l.94 2.06.94-2.06 2.06-.94-2.06-.94-.94-2.06-.94 2.06-2.06.94zm-11 1L8.5 8.5l.94-2.06 2.06-.94-2.06-.94L8.5 2.5l-.94 2.06-2.06.94zm10 10l.94 2.06.94-2.06 2.06-.94-2.06-.94-.94-2.06-.94 2.06-2.06.94z\"/><path d=\"M17.41 7.96l-1.37-1.37c-.4-.4-.92-.59-1.43-.59-.52 0-1.04.2-1.43.59L10.3 9.45l-7.72 7.72c-.78.78-.78 2.05 0 2.83L4 21.41c.39.39.9.59 1.41.59.51 0 1.02-.2 1.41-.59l7.78-7.78 2.81-2.81c.8-.78.8-2.07 0-2.86zM5.41 20L4 18.59l7.72-7.72 1.47 1.35L5.41 20z\"/>\n",
              "  </svg>\n",
              "      </button>\n",
              "      \n",
              "  <style>\n",
              "    .colab-df-container {\n",
              "      display:flex;\n",
              "      flex-wrap:wrap;\n",
              "      gap: 12px;\n",
              "    }\n",
              "\n",
              "    .colab-df-convert {\n",
              "      background-color: #E8F0FE;\n",
              "      border: none;\n",
              "      border-radius: 50%;\n",
              "      cursor: pointer;\n",
              "      display: none;\n",
              "      fill: #1967D2;\n",
              "      height: 32px;\n",
              "      padding: 0 0 0 0;\n",
              "      width: 32px;\n",
              "    }\n",
              "\n",
              "    .colab-df-convert:hover {\n",
              "      background-color: #E2EBFA;\n",
              "      box-shadow: 0px 1px 2px rgba(60, 64, 67, 0.3), 0px 1px 3px 1px rgba(60, 64, 67, 0.15);\n",
              "      fill: #174EA6;\n",
              "    }\n",
              "\n",
              "    [theme=dark] .colab-df-convert {\n",
              "      background-color: #3B4455;\n",
              "      fill: #D2E3FC;\n",
              "    }\n",
              "\n",
              "    [theme=dark] .colab-df-convert:hover {\n",
              "      background-color: #434B5C;\n",
              "      box-shadow: 0px 1px 3px 1px rgba(0, 0, 0, 0.15);\n",
              "      filter: drop-shadow(0px 1px 2px rgba(0, 0, 0, 0.3));\n",
              "      fill: #FFFFFF;\n",
              "    }\n",
              "  </style>\n",
              "\n",
              "      <script>\n",
              "        const buttonEl =\n",
              "          document.querySelector('#df-08ae18ff-a85f-451e-af4f-2f4cea5dcdb7 button.colab-df-convert');\n",
              "        buttonEl.style.display =\n",
              "          google.colab.kernel.accessAllowed ? 'block' : 'none';\n",
              "\n",
              "        async function convertToInteractive(key) {\n",
              "          const element = document.querySelector('#df-08ae18ff-a85f-451e-af4f-2f4cea5dcdb7');\n",
              "          const dataTable =\n",
              "            await google.colab.kernel.invokeFunction('convertToInteractive',\n",
              "                                                     [key], {});\n",
              "          if (!dataTable) return;\n",
              "\n",
              "          const docLinkHtml = 'Like what you see? Visit the ' +\n",
              "            '<a target=\"_blank\" href=https://colab.research.google.com/notebooks/data_table.ipynb>data table notebook</a>'\n",
              "            + ' to learn more about interactive tables.';\n",
              "          element.innerHTML = '';\n",
              "          dataTable['output_type'] = 'display_data';\n",
              "          await google.colab.output.renderOutput(dataTable, element);\n",
              "          const docLink = document.createElement('div');\n",
              "          docLink.innerHTML = docLinkHtml;\n",
              "          element.appendChild(docLink);\n",
              "        }\n",
              "      </script>\n",
              "    </div>\n",
              "  </div>\n",
              "  "
            ]
          },
          "metadata": {},
          "execution_count": 39
        }
      ]
    },
    {
      "cell_type": "markdown",
      "source": [
        "**Check total number of NA values**"
      ],
      "metadata": {
        "id": "jxB9swNwiSbM"
      }
    },
    {
      "cell_type": "code",
      "source": [
        "print(reviews_df.isna().sum())\n",
        "print(\"There are\", len(reviews_df), \"no of reviews in the dataset and\", reviews_df['comments'].isnull().sum(), \"no of empty reviews\")"
      ],
      "metadata": {
        "colab": {
          "base_uri": "https://localhost:8080/"
        },
        "id": "9xA3pbNFiRLu",
        "outputId": "40e5e633-269a-46a0-ac85-77c7a21c6eac"
      },
      "execution_count": null,
      "outputs": [
        {
          "output_type": "stream",
          "name": "stdout",
          "text": [
            "listing_id        0\n",
            "id                0\n",
            "date              0\n",
            "reviewer_id       0\n",
            "reviewer_name     2\n",
            "comments         92\n",
            "dtype: int64\n",
            "There are 1216212 no of reviews in the dataset and 92 no of empty reviews\n"
          ]
        }
      ]
    },
    {
      "cell_type": "markdown",
      "source": [
        "**Removing all NA values from the dataset**"
      ],
      "metadata": {
        "id": "WN9ORGm_i78n"
      }
    },
    {
      "cell_type": "code",
      "source": [
        "reviews_df = reviews_df.dropna()"
      ],
      "metadata": {
        "id": "3rvl1MFwi-qV"
      },
      "execution_count": null,
      "outputs": []
    },
    {
      "cell_type": "markdown",
      "source": [
        "**Detecting language for each review**"
      ],
      "metadata": {
        "id": "iXbIcqzE14G8"
      }
    },
    {
      "cell_type": "code",
      "source": [
        "%%time\n",
        "reviews_df['Language'] = reviews_df['comments'].map(lambda x: cld3.get_language(x)[0]) # detecting language of each review "
      ],
      "metadata": {
        "colab": {
          "base_uri": "https://localhost:8080/"
        },
        "id": "U34Wyrgz16-7",
        "outputId": "48d3c670-12a0-467d-f0b8-ea81f05270f6"
      },
      "execution_count": null,
      "outputs": [
        {
          "output_type": "stream",
          "name": "stdout",
          "text": [
            "CPU times: user 6min 48s, sys: 1.18 s, total: 6min 49s\n",
            "Wall time: 6min 58s\n"
          ]
        }
      ]
    },
    {
      "cell_type": "code",
      "source": [
        "reviews_df.groupby('Language').size().sort_values(ascending = False)\n",
        "print(\"% of English reviews:\", len(reviews_df[reviews_df.Language == \"en\"])/len(reviews_df))"
      ],
      "metadata": {
        "colab": {
          "base_uri": "https://localhost:8080/"
        },
        "id": "v9W6GbVjMcZI",
        "outputId": "06446d0f-b298-4166-cc26-3fb326dfe258"
      },
      "execution_count": null,
      "outputs": [
        {
          "output_type": "stream",
          "name": "stdout",
          "text": [
            "% of English reviews: 0.8727121874686502\n"
          ]
        }
      ]
    },
    {
      "cell_type": "markdown",
      "source": [
        "**Removing non-english comments**"
      ],
      "metadata": {
        "id": "lIsHtDvL8EjK"
      }
    },
    {
      "cell_type": "code",
      "source": [
        "reviews_df = reviews_df[reviews_df.Language == \"en\"]"
      ],
      "metadata": {
        "id": "eWQkPaLUNtJ-"
      },
      "execution_count": null,
      "outputs": []
    },
    {
      "cell_type": "markdown",
      "source": [
        "###########################################################################################"
      ],
      "metadata": {
        "id": "Hyf5UF5CV_Kz"
      }
    },
    {
      "cell_type": "markdown",
      "source": [
        "***Working on a sample first ***"
      ],
      "metadata": {
        "id": "96UCHFxKWKlE"
      }
    },
    {
      "cell_type": "code",
      "source": [
        "sample_size = 100000\n",
        "df = reviews_df.head(sample_size) # getting a sample first"
      ],
      "metadata": {
        "id": "FXcdfCFKV-TD"
      },
      "execution_count": null,
      "outputs": []
    },
    {
      "cell_type": "markdown",
      "source": [
        "###########################################################################################"
      ],
      "metadata": {
        "id": "iHOBZdxnV-pk"
      }
    },
    {
      "cell_type": "markdown",
      "source": [
        "**Text Data Processing**"
      ],
      "metadata": {
        "id": "GZwpHUxahEM2"
      }
    },
    {
      "cell_type": "code",
      "source": [
        "%%time\n",
        "df['comments_cleaned'] = df['comments'].apply(lambda x: PorterStemmer().stem(x)) # root form of all words\n",
        "df['comments_cleaned'] = df['comments_cleaned'].apply(lambda x: x.lower()) # lower case all words in review\n",
        "df['comments_cleaned'] = df['comments_cleaned'].apply(lambda x: re.findall(pattern, x)) # regex pattern search for all words\n",
        "df['comments_cleaned'] = df['comments_cleaned'].apply(lambda x: [item for item in x if item not in stopwords.words('english')]) # Removal of stopwords\n",
        "df['comments_cleaned_joined'] = df['comments_cleaned'].apply(lambda x: ' '.join(x))"
      ],
      "metadata": {
        "colab": {
          "base_uri": "https://localhost:8080/"
        },
        "id": "EqzzgU1yr5G8",
        "outputId": "47b58610-405d-4842-da49-210d2ed477e4"
      },
      "execution_count": null,
      "outputs": [
        {
          "output_type": "stream",
          "name": "stdout",
          "text": [
            "CPU times: user 6min 7s, sys: 49.1 s, total: 6min 56s\n",
            "Wall time: 6min 59s\n"
          ]
        }
      ]
    },
    {
      "cell_type": "markdown",
      "source": [
        "**VADER Sentiment Tagging**"
      ],
      "metadata": {
        "id": "HnLpwW85RRCf"
      }
    },
    {
      "cell_type": "markdown",
      "source": [
        "The result generated by VADER is a dictionary of 4 keys neg, neu, pos and compound:\n",
        "\n",
        "neg, neu, and pos meaning negative, neutral, and positive respectively. Their sum should be equal to 1 or close to it with float operation.\n",
        "\n",
        "compound corresponds to the sum of the valence score of each word in the lexicon and determines the degree of the sentiment rather than the actual value as opposed to the previous ones. Its value is between -1 (most extreme negative sentiment) and +1 (most extreme positive sentiment). Using the compound score can be enough to determine the underlying sentiment of a text, because for:\n",
        "\n",
        "a positive sentiment, compound ≥ 0.05\n",
        "\n",
        "*   a positive sentiment, compound ≥ 0.05\n",
        "*   a negative sentiment, compound ≤ -0.05\n",
        "*   a neutral sentiment, the compound is between [-0.05, 0.05]\n"
      ],
      "metadata": {
        "id": "3IiId0aZe1Nh"
      }
    },
    {
      "cell_type": "code",
      "source": [
        "df['sentiment_score'] = [round(SentimentIntensityAnalyzer().polarity_scores(x)['compound'], 2) for x in df['comments_cleaned_joined']]"
      ],
      "metadata": {
        "id": "mn0Vo3V2r_b8"
      },
      "execution_count": null,
      "outputs": []
    },
    {
      "cell_type": "code",
      "source": [
        "# Tagging Sentiment based on Sentiment Score\n",
        "\n",
        "# creating function to tag sentiment based on sentiment score\n",
        "\n",
        "def sentiment_tag(row):\n",
        "  if row['sentiment_score'] >= 0.05:\n",
        "    sentiment = \"Positive\"\n",
        "  elif row['sentiment_score'] <= -0.05:\n",
        "    sentiment = \"Negative\"\n",
        "  else:\n",
        "    sentiment = \"Neutral\"\n",
        "  return sentiment\n",
        "\n",
        "  # create new col in pandas df\n",
        "df['sentiment'] = df.apply(sentiment_tag, axis = 1)"
      ],
      "metadata": {
        "id": "9LPnW7-gVPpf"
      },
      "execution_count": null,
      "outputs": []
    },
    {
      "cell_type": "markdown",
      "source": [
        "**Sentiment - Explanatory Data Analysis (EDA)**"
      ],
      "metadata": {
        "id": "uwW4xYOMUWB2"
      }
    },
    {
      "cell_type": "code",
      "source": [
        "df.groupby('sentiment')['sentiment_score'].agg(['count','mean']).reset_index()"
      ],
      "metadata": {
        "colab": {
          "base_uri": "https://localhost:8080/",
          "height": 143
        },
        "id": "Crv6UMejWXSE",
        "outputId": "fed304a8-99fb-4ad0-dab5-f3265c7fc841"
      },
      "execution_count": null,
      "outputs": [
        {
          "output_type": "execute_result",
          "data": {
            "text/plain": [
              "  sentiment  count      mean\n",
              "0  Negative    857 -0.471727\n",
              "1   Neutral   1886 -0.000048\n",
              "2  Positive  97257  0.851398"
            ],
            "text/html": [
              "\n",
              "  <div id=\"df-5cb749f5-735b-4ec2-86ea-f6a4d5be7291\">\n",
              "    <div class=\"colab-df-container\">\n",
              "      <div>\n",
              "<style scoped>\n",
              "    .dataframe tbody tr th:only-of-type {\n",
              "        vertical-align: middle;\n",
              "    }\n",
              "\n",
              "    .dataframe tbody tr th {\n",
              "        vertical-align: top;\n",
              "    }\n",
              "\n",
              "    .dataframe thead th {\n",
              "        text-align: right;\n",
              "    }\n",
              "</style>\n",
              "<table border=\"1\" class=\"dataframe\">\n",
              "  <thead>\n",
              "    <tr style=\"text-align: right;\">\n",
              "      <th></th>\n",
              "      <th>sentiment</th>\n",
              "      <th>count</th>\n",
              "      <th>mean</th>\n",
              "    </tr>\n",
              "  </thead>\n",
              "  <tbody>\n",
              "    <tr>\n",
              "      <th>0</th>\n",
              "      <td>Negative</td>\n",
              "      <td>857</td>\n",
              "      <td>-0.471727</td>\n",
              "    </tr>\n",
              "    <tr>\n",
              "      <th>1</th>\n",
              "      <td>Neutral</td>\n",
              "      <td>1886</td>\n",
              "      <td>-0.000048</td>\n",
              "    </tr>\n",
              "    <tr>\n",
              "      <th>2</th>\n",
              "      <td>Positive</td>\n",
              "      <td>97257</td>\n",
              "      <td>0.851398</td>\n",
              "    </tr>\n",
              "  </tbody>\n",
              "</table>\n",
              "</div>\n",
              "      <button class=\"colab-df-convert\" onclick=\"convertToInteractive('df-5cb749f5-735b-4ec2-86ea-f6a4d5be7291')\"\n",
              "              title=\"Convert this dataframe to an interactive table.\"\n",
              "              style=\"display:none;\">\n",
              "        \n",
              "  <svg xmlns=\"http://www.w3.org/2000/svg\" height=\"24px\"viewBox=\"0 0 24 24\"\n",
              "       width=\"24px\">\n",
              "    <path d=\"M0 0h24v24H0V0z\" fill=\"none\"/>\n",
              "    <path d=\"M18.56 5.44l.94 2.06.94-2.06 2.06-.94-2.06-.94-.94-2.06-.94 2.06-2.06.94zm-11 1L8.5 8.5l.94-2.06 2.06-.94-2.06-.94L8.5 2.5l-.94 2.06-2.06.94zm10 10l.94 2.06.94-2.06 2.06-.94-2.06-.94-.94-2.06-.94 2.06-2.06.94z\"/><path d=\"M17.41 7.96l-1.37-1.37c-.4-.4-.92-.59-1.43-.59-.52 0-1.04.2-1.43.59L10.3 9.45l-7.72 7.72c-.78.78-.78 2.05 0 2.83L4 21.41c.39.39.9.59 1.41.59.51 0 1.02-.2 1.41-.59l7.78-7.78 2.81-2.81c.8-.78.8-2.07 0-2.86zM5.41 20L4 18.59l7.72-7.72 1.47 1.35L5.41 20z\"/>\n",
              "  </svg>\n",
              "      </button>\n",
              "      \n",
              "  <style>\n",
              "    .colab-df-container {\n",
              "      display:flex;\n",
              "      flex-wrap:wrap;\n",
              "      gap: 12px;\n",
              "    }\n",
              "\n",
              "    .colab-df-convert {\n",
              "      background-color: #E8F0FE;\n",
              "      border: none;\n",
              "      border-radius: 50%;\n",
              "      cursor: pointer;\n",
              "      display: none;\n",
              "      fill: #1967D2;\n",
              "      height: 32px;\n",
              "      padding: 0 0 0 0;\n",
              "      width: 32px;\n",
              "    }\n",
              "\n",
              "    .colab-df-convert:hover {\n",
              "      background-color: #E2EBFA;\n",
              "      box-shadow: 0px 1px 2px rgba(60, 64, 67, 0.3), 0px 1px 3px 1px rgba(60, 64, 67, 0.15);\n",
              "      fill: #174EA6;\n",
              "    }\n",
              "\n",
              "    [theme=dark] .colab-df-convert {\n",
              "      background-color: #3B4455;\n",
              "      fill: #D2E3FC;\n",
              "    }\n",
              "\n",
              "    [theme=dark] .colab-df-convert:hover {\n",
              "      background-color: #434B5C;\n",
              "      box-shadow: 0px 1px 3px 1px rgba(0, 0, 0, 0.15);\n",
              "      filter: drop-shadow(0px 1px 2px rgba(0, 0, 0, 0.3));\n",
              "      fill: #FFFFFF;\n",
              "    }\n",
              "  </style>\n",
              "\n",
              "      <script>\n",
              "        const buttonEl =\n",
              "          document.querySelector('#df-5cb749f5-735b-4ec2-86ea-f6a4d5be7291 button.colab-df-convert');\n",
              "        buttonEl.style.display =\n",
              "          google.colab.kernel.accessAllowed ? 'block' : 'none';\n",
              "\n",
              "        async function convertToInteractive(key) {\n",
              "          const element = document.querySelector('#df-5cb749f5-735b-4ec2-86ea-f6a4d5be7291');\n",
              "          const dataTable =\n",
              "            await google.colab.kernel.invokeFunction('convertToInteractive',\n",
              "                                                     [key], {});\n",
              "          if (!dataTable) return;\n",
              "\n",
              "          const docLinkHtml = 'Like what you see? Visit the ' +\n",
              "            '<a target=\"_blank\" href=https://colab.research.google.com/notebooks/data_table.ipynb>data table notebook</a>'\n",
              "            + ' to learn more about interactive tables.';\n",
              "          element.innerHTML = '';\n",
              "          dataTable['output_type'] = 'display_data';\n",
              "          await google.colab.output.renderOutput(dataTable, element);\n",
              "          const docLink = document.createElement('div');\n",
              "          docLink.innerHTML = docLinkHtml;\n",
              "          element.appendChild(docLink);\n",
              "        }\n",
              "      </script>\n",
              "    </div>\n",
              "  </div>\n",
              "  "
            ]
          },
          "metadata": {},
          "execution_count": 27
        }
      ]
    },
    {
      "cell_type": "markdown",
      "source": [
        "**Proportion of sentiment in sample: Proxy**"
      ],
      "metadata": {
        "id": "yd1HNHWVgcGf"
      }
    },
    {
      "cell_type": "code",
      "source": [
        "for sentiment in df.sentiment.unique():\n",
        "  print(\"% of \"+ str(sentiment) + \" in sample df:\", len(df[df.sentiment == sentiment])/len(df)*100)"
      ],
      "metadata": {
        "colab": {
          "base_uri": "https://localhost:8080/"
        },
        "id": "rMl_FtudgZSC",
        "outputId": "68f913c1-eb53-4058-9791-da45ba1dbbdf"
      },
      "execution_count": null,
      "outputs": [
        {
          "output_type": "stream",
          "name": "stdout",
          "text": [
            "% of Positive in sample df: 97.257\n",
            "% of Neutral in sample df: 1.886\n",
            "% of Negative in sample df: 0.857\n"
          ]
        }
      ]
    }
  ]
}